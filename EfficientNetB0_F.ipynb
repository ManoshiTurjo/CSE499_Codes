{
  "nbformat": 4,
  "nbformat_minor": 0,
  "metadata": {
    "colab": {
      "provenance": [],
      "collapsed_sections": []
    },
    "kernelspec": {
      "name": "python3",
      "display_name": "Python 3"
    },
    "language_info": {
      "name": "python"
    },
    "accelerator": "GPU"
  },
  "cells": [
    {
      "cell_type": "code",
      "execution_count": 1,
      "metadata": {
        "id": "Yid6nfv5m-Fw"
      },
      "outputs": [],
      "source": [
        "import pandas as pd\n",
        "import numpy as np\n",
        "import tensorflow as tf\n",
        "from glob import glob\n",
        "import seaborn as sns\n",
        "import matplotlib.pyplot as plt\n",
        "import random\n",
        "import os\n",
        "import cv2\n",
        "\n",
        "!pip install opendatasets --upgrade --quiet\n",
        "import opendatasets as od"
      ]
    },
    {
      "cell_type": "code",
      "source": [
        "from tensorflow import keras\n",
        "from tensorflow.keras.preprocessing.image import ImageDataGenerator\n",
        "from tensorflow.keras.layers import Conv2D\n",
        "from tensorflow.keras.layers import MaxPooling2D\n",
        "from tensorflow.keras.layers import AveragePooling2D\n",
        "from tensorflow.keras.layers import GlobalAveragePooling2D\n",
        "from tensorflow.keras.optimizers import RMSprop,Adam\n",
        "from tensorflow.keras.models import Sequential\n",
        "from tensorflow.keras.layers import Dropout\n",
        "from tensorflow.keras.layers import Flatten\n",
        "from tensorflow.keras.layers import Input\n",
        "from tensorflow.keras.layers import Dense\n",
        "#from keras.layers.merge import concatenate\n",
        "from tensorflow.keras.models import Model\n",
        "from keras.preprocessing import image\n",
        "from keras.layers import Dense, Dropout\n",
        "from tensorflow.keras.optimizers import Adam\n",
        "from tensorflow.keras.utils import to_categorical\n",
        "from sklearn.preprocessing import LabelBinarizer\n",
        "from sklearn.model_selection import train_test_split\n",
        "from sklearn.metrics import classification_report\n",
        "from sklearn.model_selection import train_test_split\n",
        "from sklearn.metrics import confusion_matrix\n",
        "from imutils import paths\n",
        "import argparse"
      ],
      "metadata": {
        "id": "8A5p3rr0nVp8"
      },
      "execution_count": 3,
      "outputs": []
    },
    {
      "cell_type": "code",
      "source": [
        "from google.colab import drive\n",
        "drive.mount('/content/drive')"
      ],
      "metadata": {
        "id": "8QykD-gJoBUY",
        "colab": {
          "base_uri": "https://localhost:8080/"
        },
        "outputId": "29226c01-4f13-4e8a-9f3e-659c68dd58b0"
      },
      "execution_count": 4,
      "outputs": [
        {
          "output_type": "stream",
          "name": "stdout",
          "text": [
            "Mounted at /content/drive\n"
          ]
        }
      ]
    },
    {
      "cell_type": "code",
      "source": [
        "dataset_url = 'https://www.kaggle.com/datasets/tawsifurrahman/covid19-radiography-database?recency=last7Days'\n",
        "data_dir = '/content/COVID-19_Radiography_Dataset'"
      ],
      "metadata": {
        "id": "S0i5VL9xoCPN"
      },
      "execution_count": 5,
      "outputs": []
    },
    {
      "cell_type": "code",
      "source": [
        "# #load training and testing dataset from output directory where the split is fixed for all models\n",
        "# train_datagen=ImageDataGenerator(rescale = 1./255,\n",
        "#                                    rotation_range=15,\n",
        "#                                    fill_mode=\"nearest\",\n",
        "#                                    horizontal_flip = True)\n",
        "# valid_datagen=ImageDataGenerator(rescale = 1./255)\n",
        "# test_datagen=ImageDataGenerator(rescale = 1./255)\n",
        "\n",
        "# training_set=train_datagen.flow_from_directory('/content/drive/MyDrive/New_DS/output/train',\n",
        "#                                                  target_size = (224, 224),\n",
        "#                                                  batch_size = 64,\n",
        "#                                                  class_mode = 'categorical',\n",
        "#                                                  shuffle=True)\n",
        "# valid_set=valid_datagen.flow_from_directory('/content/drive/MyDrive/New_DS/output/val',\n",
        "#                                             target_size = (224, 224),\n",
        "#                                             batch_size = 64,\n",
        "#                                             class_mode = 'categorical',\n",
        "#                                             shuffle = False)\n",
        "# test_set=test_datagen.flow_from_directory('/content/drive/MyDrive/New_DS/output/test',\n",
        "#                                             target_size = (224, 224),\n",
        "#                                             batch_size = 64,\n",
        "#                                             class_mode = 'categorical',\n",
        "#                                             shuffle = False)"
      ],
      "metadata": {
        "colab": {
          "base_uri": "https://localhost:8080/"
        },
        "id": "wF7t9OeTOhzr",
        "outputId": "75e145ed-0ae5-4ae2-d373-b4e2379ec411"
      },
      "execution_count": null,
      "outputs": [
        {
          "output_type": "stream",
          "name": "stdout",
          "text": [
            "Found 14816 images belonging to 4 classes.\n",
            "Found 4233 images belonging to 4 classes.\n",
            "Found 2119 images belonging to 4 classes.\n"
          ]
        }
      ]
    },
    {
      "cell_type": "code",
      "execution_count": 6,
      "metadata": {
        "id": "5iE4mI-XbGlb",
        "colab": {
          "base_uri": "https://localhost:8080/"
        },
        "outputId": "6469544b-58a8-4538-8e2e-404b3f7b871a"
      },
      "outputs": [
        {
          "output_type": "stream",
          "name": "stdout",
          "text": [
            "Looking in indexes: https://pypi.org/simple, https://us-python.pkg.dev/colab-wheels/public/simple/\n",
            "Collecting split-folders\n",
            "  Downloading split_folders-0.5.1-py3-none-any.whl (8.4 kB)\n",
            "Installing collected packages: split-folders\n",
            "Successfully installed split-folders-0.5.1\n"
          ]
        },
        {
          "output_type": "stream",
          "name": "stderr",
          "text": [
            "Copying files: 17606 files [04:49, 60.82 files/s] \n"
          ]
        }
      ],
      "source": [
        "!pip install split-folders\n",
        "import splitfolders\n",
        "input_folder = '/content/drive/MyDrive/Covid_DS/Covid19_Radiography Dataset'\n",
        "splitfolders.ratio( input_folder,\n",
        "                   output=\"output\",seed=1337,ratio=(0.7,0.2,0.1)) "
      ]
    },
    {
      "cell_type": "code",
      "execution_count": 7,
      "metadata": {
        "id": "Z0jXKuyVbM19",
        "colab": {
          "base_uri": "https://localhost:8080/"
        },
        "outputId": "2e9a2aed-d85f-4258-8a36-a8d41dd83d54"
      },
      "outputs": [
        {
          "output_type": "stream",
          "name": "stdout",
          "text": [
            "Found 12323 images belonging to 4 classes.\n",
            "Found 3520 images belonging to 4 classes.\n",
            "Found 1763 images belonging to 4 classes.\n"
          ]
        }
      ],
      "source": [
        "#load training and testing dataset from directory\n",
        "train_datagen=ImageDataGenerator(rescale = 1./255,\n",
        "                                   rotation_range=15,\n",
        "                                   fill_mode=\"nearest\",\n",
        "                                   horizontal_flip = True)\n",
        "valid_datagen=ImageDataGenerator(rescale = 1./255)\n",
        "test_datagen=ImageDataGenerator(rescale = 1./255)\n",
        "\n",
        "training_set=train_datagen.flow_from_directory('/content/output/train',\n",
        "                                                 target_size = (224, 224),\n",
        "                                                 batch_size = 64,\n",
        "                                                 class_mode = 'categorical',\n",
        "                                                 shuffle=True)\n",
        "valid_set=valid_datagen.flow_from_directory('/content/output/val',\n",
        "                                            target_size = (224, 224),\n",
        "                                            batch_size = 64,\n",
        "                                            class_mode = 'categorical',\n",
        "                                            shuffle = False)\n",
        "test_set=test_datagen.flow_from_directory('/content/output/test',\n",
        "                                            target_size = (224, 224),\n",
        "                                            batch_size = 64,\n",
        "                                            class_mode = 'categorical',\n",
        "                                            shuffle = False)"
      ]
    },
    {
      "cell_type": "code",
      "source": [
        "print(training_set.class_indices)\n",
        "print(valid_set.class_indices)\n",
        "print(test_set.class_indices)"
      ],
      "metadata": {
        "colab": {
          "base_uri": "https://localhost:8080/"
        },
        "id": "pvC5s3KvOmKj",
        "outputId": "391cf95b-0d95-48d2-e536-d278a0b3c3c6"
      },
      "execution_count": 9,
      "outputs": [
        {
          "output_type": "stream",
          "name": "stdout",
          "text": [
            "{'COVID': 0, 'Lung_Opacity': 1, 'Normal': 2, 'Viral Pneumonia': 3}\n",
            "{'COVID': 0, 'Lung_Opacity': 1, 'Normal': 2, 'Viral Pneumonia': 3}\n",
            "{'COVID': 0, 'Lung_Opacity': 1, 'Normal': 2, 'Viral Pneumonia': 3}\n"
          ]
        }
      ]
    },
    {
      "cell_type": "code",
      "source": [
        "#visulaize data\n",
        "fig, ax = plt.subplots()\n",
        "ax.bar(\"COVID-19\",3616,color=\"r\",label=\"Covid19\")\n",
        "ax.bar(\"Lung_Opacity\",6012 ,color=\"b\",label=\"Lung_Opacity\")\n",
        "ax.bar(\"NORMAL\",10192,color=\"m\",label=\"Normal\")\n",
        "ax.bar(\"Viral Pneumonia\",1345,color=\"g\",label=\"Viral Pneumonia\")\n",
        "ax.legend()"
      ],
      "metadata": {
        "id": "JAQ7HnmRoNHq",
        "colab": {
          "base_uri": "https://localhost:8080/",
          "height": 283
        },
        "outputId": "edea2392-65ac-423b-9acd-1bbed2c2ec5a"
      },
      "execution_count": 10,
      "outputs": [
        {
          "output_type": "execute_result",
          "data": {
            "text/plain": [
              "<matplotlib.legend.Legend at 0x7fae325c3990>"
            ]
          },
          "metadata": {},
          "execution_count": 10
        },
        {
          "output_type": "display_data",
          "data": {
            "text/plain": [
              "<Figure size 432x288 with 1 Axes>"
            ],
            "image/png": "[encoded data removed]"
          },
          "metadata": {
            "needs_background": "light"
          }
        }
      ]
    },
    {
      "cell_type": "code",
      "source": [
        "!pip install -U efficientnet"
      ],
      "metadata": {
        "id": "3lS4ViFNoNAd",
        "colab": {
          "base_uri": "https://localhost:8080/"
        },
        "outputId": "525000dc-e3f0-4345-ac25-f31f24e3d4cd"
      },
      "execution_count": 11,
      "outputs": [
        {
          "output_type": "stream",
          "name": "stdout",
          "text": [
            "Looking in indexes: https://pypi.org/simple, https://us-python.pkg.dev/colab-wheels/public/simple/\n",
            "Collecting efficientnet\n",
            "  Downloading efficientnet-1.1.1-py3-none-any.whl (18 kB)\n",
            "Collecting keras-applications<=1.0.8,>=1.0.7\n",
            "  Downloading Keras_Applications-1.0.8-py3-none-any.whl (50 kB)\n",
            "\u001b[K     |████████████████████████████████| 50 kB 5.7 MB/s \n",
            "\u001b[?25hRequirement already satisfied: scikit-image in /usr/local/lib/python3.7/dist-packages (from efficientnet) (0.18.3)\n",
            "Requirement already satisfied: numpy>=1.9.1 in /usr/local/lib/python3.7/dist-packages (from keras-applications<=1.0.8,>=1.0.7->efficientnet) (1.21.6)\n",
            "Requirement already satisfied: h5py in /usr/local/lib/python3.7/dist-packages (from keras-applications<=1.0.8,>=1.0.7->efficientnet) (3.1.0)\n",
            "Requirement already satisfied: cached-property in /usr/local/lib/python3.7/dist-packages (from h5py->keras-applications<=1.0.8,>=1.0.7->efficientnet) (1.5.2)\n",
            "Requirement already satisfied: matplotlib!=3.0.0,>=2.0.0 in /usr/local/lib/python3.7/dist-packages (from scikit-image->efficientnet) (3.2.2)\n",
            "Requirement already satisfied: PyWavelets>=1.1.1 in /usr/local/lib/python3.7/dist-packages (from scikit-image->efficientnet) (1.3.0)\n",
            "Requirement already satisfied: pillow!=7.1.0,!=7.1.1,>=4.3.0 in /usr/local/lib/python3.7/dist-packages (from scikit-image->efficientnet) (7.1.2)\n",
            "Requirement already satisfied: networkx>=2.0 in /usr/local/lib/python3.7/dist-packages (from scikit-image->efficientnet) (2.6.3)\n",
            "Requirement already satisfied: tifffile>=2019.7.26 in /usr/local/lib/python3.7/dist-packages (from scikit-image->efficientnet) (2021.11.2)\n",
            "Requirement already satisfied: scipy>=1.0.1 in /usr/local/lib/python3.7/dist-packages (from scikit-image->efficientnet) (1.7.3)\n",
            "Requirement already satisfied: imageio>=2.3.0 in /usr/local/lib/python3.7/dist-packages (from scikit-image->efficientnet) (2.9.0)\n",
            "Requirement already satisfied: kiwisolver>=1.0.1 in /usr/local/lib/python3.7/dist-packages (from matplotlib!=3.0.0,>=2.0.0->scikit-image->efficientnet) (1.4.4)\n",
            "Requirement already satisfied: pyparsing!=2.0.4,!=2.1.2,!=2.1.6,>=2.0.1 in /usr/local/lib/python3.7/dist-packages (from matplotlib!=3.0.0,>=2.0.0->scikit-image->efficientnet) (3.0.9)\n",
            "Requirement already satisfied: cycler>=0.10 in /usr/local/lib/python3.7/dist-packages (from matplotlib!=3.0.0,>=2.0.0->scikit-image->efficientnet) (0.11.0)\n",
            "Requirement already satisfied: python-dateutil>=2.1 in /usr/local/lib/python3.7/dist-packages (from matplotlib!=3.0.0,>=2.0.0->scikit-image->efficientnet) (2.8.2)\n",
            "Requirement already satisfied: typing-extensions in /usr/local/lib/python3.7/dist-packages (from kiwisolver>=1.0.1->matplotlib!=3.0.0,>=2.0.0->scikit-image->efficientnet) (4.1.1)\n",
            "Requirement already satisfied: six>=1.5 in /usr/local/lib/python3.7/dist-packages (from python-dateutil>=2.1->matplotlib!=3.0.0,>=2.0.0->scikit-image->efficientnet) (1.15.0)\n",
            "Installing collected packages: keras-applications, efficientnet\n",
            "Successfully installed efficientnet-1.1.1 keras-applications-1.0.8\n"
          ]
        }
      ]
    },
    {
      "cell_type": "code",
      "source": [
        "import efficientnet.keras as efn \n",
        "\n",
        "efnb0 = efn.EfficientNetB0(input_shape=(224,224,3), include_top=False, weights=None)\n",
        "EfficientNetB0 = Sequential()\n",
        "EfficientNetB0.add(efnb0)\n",
        "EfficientNetB0.add(GlobalAveragePooling2D())\n",
        "EfficientNetB0.add(Dropout(0.2))\n",
        "EfficientNetB0.add(Dense(4, activation = 'softmax'))\n",
        "\n",
        "EfficientNetB0.summary()"
      ],
      "metadata": {
        "id": "gHT3IDyx7jAv",
        "colab": {
          "base_uri": "https://localhost:8080/"
        },
        "outputId": "891bc836-ae8a-428f-d46f-08ef6471f723"
      },
      "execution_count": 12,
      "outputs": [
        {
          "output_type": "stream",
          "name": "stdout",
          "text": [
            "Model: \"sequential\"\n",
            "_________________________________________________________________\n",
            " Layer (type)                Output Shape              Param #   \n",
            "=================================================================\n",
            " efficientnet-b0 (Functional  (None, 7, 7, 1280)       4049564   \n",
            " )                                                               \n",
            "                                                                 \n",
            " global_average_pooling2d (G  (None, 1280)             0         \n",
            " lobalAveragePooling2D)                                          \n",
            "                                                                 \n",
            " dropout (Dropout)           (None, 1280)              0         \n",
            "                                                                 \n",
            " dense (Dense)               (None, 4)                 5124      \n",
            "                                                                 \n",
            "=================================================================\n",
            "Total params: 4,054,688\n",
            "Trainable params: 4,012,672\n",
            "Non-trainable params: 42,016\n",
            "_________________________________________________________________\n"
          ]
        }
      ]
    },
    {
      "cell_type": "code",
      "source": [
        "tf.keras.callbacks.ReduceLROnPlateau\n",
        "from keras.callbacks import LearningRateScheduler"
      ],
      "metadata": {
        "id": "Lq75GuS8ao0y"
      },
      "execution_count": 13,
      "outputs": []
    },
    {
      "cell_type": "code",
      "source": [
        "#to avoid overfitting\n",
        "early = tf.keras.callbacks.EarlyStopping(monitor='val_accuracy', patience=5)"
      ],
      "metadata": {
        "id": "Zh-tw7SmZl7i"
      },
      "execution_count": 14,
      "outputs": []
    },
    {
      "cell_type": "code",
      "source": [
        "epochs = 100\n",
        "learning_rate = 0.001\n",
        "decay_rate = learning_rate / epochs\n",
        "optimizer_details = Adam(lr = learning_rate, decay = decay_rate)"
      ],
      "metadata": {
        "colab": {
          "base_uri": "https://localhost:8080/"
        },
        "id": "emt6Q1F2kxcf",
        "outputId": "576a18ca-d5b4-4960-e2f1-a9b177cf4389"
      },
      "execution_count": 15,
      "outputs": [
        {
          "output_type": "stream",
          "name": "stderr",
          "text": [
            "/usr/local/lib/python3.7/dist-packages/keras/optimizers/optimizer_v2/adam.py:110: UserWarning: The `lr` argument is deprecated, use `learning_rate` instead.\n",
            "  super(Adam, self).__init__(name, **kwargs)\n"
          ]
        }
      ]
    },
    {
      "cell_type": "code",
      "source": [
        "EfficientNetB0.compile(optimizer = optimizer_details, \n",
        "              loss='categorical_crossentropy',\n",
        "              metrics=['accuracy','Precision','Recall'])\n",
        "history = EfficientNetB0.fit_generator(training_set, validation_data = valid_set, epochs=epochs, verbose=1, callbacks=[early])"
      ],
      "metadata": {
        "id": "HdD9qSvtnH6j",
        "colab": {
          "base_uri": "https://localhost:8080/"
        },
        "outputId": "a1f48f33-3d18-4aac-dce7-30d055172bb2"
      },
      "execution_count": 16,
      "outputs": [
        {
          "output_type": "stream",
          "name": "stderr",
          "text": [
            "/usr/local/lib/python3.7/dist-packages/ipykernel_launcher.py:4: UserWarning: `Model.fit_generator` is deprecated and will be removed in a future version. Please use `Model.fit`, which supports generators.\n",
            "  after removing the cwd from sys.path.\n"
          ]
        },
        {
          "output_type": "stream",
          "name": "stdout",
          "text": [
            "Epoch 1/100\n",
            "193/193 [==============================] - 209s 947ms/step - loss: 0.8713 - accuracy: 0.6783 - precision: 0.7511 - recall: 0.5876 - val_loss: 2.6681 - val_accuracy: 0.1392 - val_precision: 0.1564 - val_recall: 0.1187\n",
            "Epoch 2/100\n",
            "193/193 [==============================] - 183s 945ms/step - loss: 0.5221 - accuracy: 0.8101 - precision: 0.8331 - recall: 0.7807 - val_loss: 1.6348 - val_accuracy: 0.3125 - val_precision: 0.3174 - val_recall: 0.2744\n",
            "Epoch 3/100\n",
            "193/193 [==============================] - 182s 940ms/step - loss: 0.4485 - accuracy: 0.8417 - precision: 0.8558 - recall: 0.8236 - val_loss: 0.6752 - val_accuracy: 0.7466 - val_precision: 0.7665 - val_recall: 0.7304\n",
            "Epoch 4/100\n",
            "193/193 [==============================] - 182s 941ms/step - loss: 0.3861 - accuracy: 0.8601 - precision: 0.8708 - recall: 0.8470 - val_loss: 1.6901 - val_accuracy: 0.6068 - val_precision: 0.6092 - val_recall: 0.5997\n",
            "Epoch 5/100\n",
            "193/193 [==============================] - 182s 940ms/step - loss: 0.3436 - accuracy: 0.8804 - precision: 0.8912 - recall: 0.8691 - val_loss: 0.5220 - val_accuracy: 0.8207 - val_precision: 0.8274 - val_recall: 0.8142\n",
            "Epoch 6/100\n",
            "193/193 [==============================] - 182s 944ms/step - loss: 0.3011 - accuracy: 0.8920 - precision: 0.9000 - recall: 0.8836 - val_loss: 0.9995 - val_accuracy: 0.7051 - val_precision: 0.7121 - val_recall: 0.6943\n",
            "Epoch 7/100\n",
            "193/193 [==============================] - 182s 943ms/step - loss: 0.2792 - accuracy: 0.9000 - precision: 0.9076 - recall: 0.8926 - val_loss: 1.0666 - val_accuracy: 0.6568 - val_precision: 0.6618 - val_recall: 0.6449\n",
            "Epoch 8/100\n",
            "193/193 [==============================] - 182s 941ms/step - loss: 0.2720 - accuracy: 0.9033 - precision: 0.9089 - recall: 0.8978 - val_loss: 0.4711 - val_accuracy: 0.8523 - val_precision: 0.8632 - val_recall: 0.8423\n",
            "Epoch 9/100\n",
            "193/193 [==============================] - 182s 943ms/step - loss: 0.2556 - accuracy: 0.9084 - precision: 0.9132 - recall: 0.9020 - val_loss: 0.3720 - val_accuracy: 0.8497 - val_precision: 0.8668 - val_recall: 0.8378\n",
            "Epoch 10/100\n",
            "193/193 [==============================] - 179s 925ms/step - loss: 0.2767 - accuracy: 0.9057 - precision: 0.9116 - recall: 0.8977 - val_loss: 0.3420 - val_accuracy: 0.8884 - val_precision: 0.8927 - val_recall: 0.8861\n",
            "Epoch 11/100\n",
            "193/193 [==============================] - 179s 928ms/step - loss: 0.2307 - accuracy: 0.9195 - precision: 0.9249 - recall: 0.9150 - val_loss: 0.3246 - val_accuracy: 0.8866 - val_precision: 0.8914 - val_recall: 0.8813\n",
            "Epoch 12/100\n",
            "193/193 [==============================] - 180s 931ms/step - loss: 0.2086 - accuracy: 0.9279 - precision: 0.9319 - recall: 0.9238 - val_loss: 0.2427 - val_accuracy: 0.9159 - val_precision: 0.9197 - val_recall: 0.9139\n",
            "Epoch 13/100\n",
            "193/193 [==============================] - 180s 931ms/step - loss: 0.2033 - accuracy: 0.9313 - precision: 0.9348 - recall: 0.9270 - val_loss: 0.2246 - val_accuracy: 0.9193 - val_precision: 0.9239 - val_recall: 0.9170\n",
            "Epoch 14/100\n",
            "193/193 [==============================] - 180s 931ms/step - loss: 0.1948 - accuracy: 0.9323 - precision: 0.9353 - recall: 0.9284 - val_loss: 0.4165 - val_accuracy: 0.8511 - val_precision: 0.8589 - val_recall: 0.8440\n",
            "Epoch 15/100\n",
            "193/193 [==============================] - 179s 926ms/step - loss: 0.1822 - accuracy: 0.9362 - precision: 0.9395 - recall: 0.9317 - val_loss: 0.3090 - val_accuracy: 0.8926 - val_precision: 0.9008 - val_recall: 0.8875\n",
            "Epoch 16/100\n",
            "193/193 [==============================] - 179s 928ms/step - loss: 0.1779 - accuracy: 0.9374 - precision: 0.9407 - recall: 0.9351 - val_loss: 0.2881 - val_accuracy: 0.9000 - val_precision: 0.9061 - val_recall: 0.8966\n",
            "Epoch 17/100\n",
            "193/193 [==============================] - 180s 933ms/step - loss: 0.1622 - accuracy: 0.9460 - precision: 0.9482 - recall: 0.9434 - val_loss: 0.2612 - val_accuracy: 0.9057 - val_precision: 0.9107 - val_recall: 0.8983\n",
            "Epoch 18/100\n",
            "193/193 [==============================] - 181s 934ms/step - loss: 0.1564 - accuracy: 0.9462 - precision: 0.9482 - recall: 0.9431 - val_loss: 0.2558 - val_accuracy: 0.9062 - val_precision: 0.9128 - val_recall: 0.9037\n"
          ]
        }
      ]
    },
    {
      "cell_type": "code",
      "source": [
        "EfficientNetB0.evaluate(test_set, verbose=1)"
      ],
      "metadata": {
        "id": "TjX7yFDmpx3r",
        "colab": {
          "base_uri": "https://localhost:8080/"
        },
        "outputId": "09886feb-cd20-4519-a9bb-006af728e210"
      },
      "execution_count": 17,
      "outputs": [
        {
          "output_type": "stream",
          "name": "stdout",
          "text": [
            "28/28 [==============================] - 5s 184ms/step - loss: 0.2635 - accuracy: 0.9115 - precision: 0.9165 - recall: 0.9087\n"
          ]
        },
        {
          "output_type": "execute_result",
          "data": {
            "text/plain": [
              "[0.2635381817817688, 0.9115144610404968, 0.9164759516716003, 0.908678412437439]"
            ]
          },
          "metadata": {},
          "execution_count": 17
        }
      ]
    },
    {
      "cell_type": "code",
      "source": [
        "EfficientNetB0.save('EfficientNetB0.h5')"
      ],
      "metadata": {
        "id": "uHJPUBUPp6ou"
      },
      "execution_count": 18,
      "outputs": []
    },
    {
      "cell_type": "code",
      "source": [
        "#Accuracy, val_acc, loss, val_loss, epoch_range\n",
        "acc = history.history['accuracy']\n",
        "val_acc = history.history['val_accuracy']  \n",
        "loss = history.history['loss']\n",
        "val_loss = history.history['val_loss']\n",
        "epochs=range(len(acc))"
      ],
      "metadata": {
        "id": "ILl09WREqCwk"
      },
      "execution_count": 19,
      "outputs": []
    },
    {
      "cell_type": "code",
      "source": [
        "print(\"accuracy: \",acc)\n",
        "print(\"validation accuracy: \",val_acc)\n",
        "print(\"loss: \",loss)\n",
        "print(\"validation loss: \",val_loss)\n",
        "print(\"epochs: \",epochs)"
      ],
      "metadata": {
        "id": "fmoz0Zq9qEys",
        "colab": {
          "base_uri": "https://localhost:8080/"
        },
        "outputId": "e15c4c07-7b47-411d-85ce-7a9c1735cfd1"
      },
      "execution_count": 20,
      "outputs": [
        {
          "output_type": "stream",
          "name": "stdout",
          "text": [
            "accuracy:  [0.6783250570297241, 0.8101111650466919, 0.8416781425476074, 0.8600990176200867, 0.8803862929344177, 0.891990602016449, 0.9000243544578552, 0.9032703042030334, 0.9083827137947083, 0.9057047963142395, 0.9195001125335693, 0.9279396533966064, 0.931266725063324, 0.9323216676712036, 0.9362168312072754, 0.9374340772628784, 0.9460358619689941, 0.9461981654167175]\n",
            "validation accuracy:  [0.13920454680919647, 0.3125, 0.7465909123420715, 0.6068181991577148, 0.8207386136054993, 0.7051136493682861, 0.6568182110786438, 0.8522727489471436, 0.8497158885002136, 0.8883522748947144, 0.8866477012634277, 0.9159091114997864, 0.9193181991577148, 0.8511363863945007, 0.8926136493682861, 0.8999999761581421, 0.9056817889213562, 0.90625]\n",
            "loss:  [0.871299147605896, 0.5221285820007324, 0.4485244154930115, 0.38613906502723694, 0.3436416983604431, 0.30106043815612793, 0.2792244255542755, 0.27197009325027466, 0.2555896043777466, 0.2767332196235657, 0.2306511551141739, 0.20858047902584076, 0.2032686173915863, 0.1948036104440689, 0.18221302330493927, 0.17794057726860046, 0.16217344999313354, 0.1563589721918106]\n",
            "validation loss:  [2.6681172847747803, 1.6348141431808472, 0.675206184387207, 1.6900585889816284, 0.5220457315444946, 0.9994954466819763, 1.0665651559829712, 0.471082478761673, 0.37203362584114075, 0.3420243263244629, 0.32455211877822876, 0.24265055358409882, 0.2245563119649887, 0.41649338603019714, 0.309006005525589, 0.28811076283454895, 0.2612009346485138, 0.2558094263076782]\n",
            "epochs:  range(0, 18)\n"
          ]
        }
      ]
    },
    {
      "cell_type": "code",
      "source": [
        "#plot training nad validation accuracy\n",
        "plt.plot(epochs,acc,label='Training_acc',color='blue')\n",
        "plt.plot(epochs,val_acc,label='Validation_acc',color='red')\n",
        "plt.legend()\n",
        "plt.title(\"Training and Validation Accuracy\")"
      ],
      "metadata": {
        "id": "3VhVarXbqG6M",
        "colab": {
          "base_uri": "https://localhost:8080/",
          "height": 298
        },
        "outputId": "976de56f-b1d8-42eb-b9a8-85b040c4e831"
      },
      "execution_count": 21,
      "outputs": [
        {
          "output_type": "execute_result",
          "data": {
            "text/plain": [
              "Text(0.5, 1.0, 'Training and Validation Accuracy')"
            ]
          },
          "metadata": {},
          "execution_count": 21
        },
        {
          "output_type": "display_data",
          "data": {
            "text/plain": [
              "<Figure size 432x288 with 1 Axes>"
            ],
            "image/png": "[encoded data removed]"
          },
          "metadata": {
            "needs_background": "light"
          }
        }
      ]
    },
    {
      "cell_type": "code",
      "source": [
        "#training and validation loss\n",
        "plt.plot(epochs,loss,label='Training_loss',color='blue')\n",
        "plt.plot(epochs,val_loss,label='Validation_loss',color='red')\n",
        "plt.legend()\n",
        "plt.title(\"Training and Validation loss\")"
      ],
      "metadata": {
        "id": "ryW9YWdrqG3c",
        "colab": {
          "base_uri": "https://localhost:8080/",
          "height": 298
        },
        "outputId": "e9f0fcd9-7df1-4d9e-cbf5-22031d812d66"
      },
      "execution_count": 22,
      "outputs": [
        {
          "output_type": "execute_result",
          "data": {
            "text/plain": [
              "Text(0.5, 1.0, 'Training and Validation loss')"
            ]
          },
          "metadata": {},
          "execution_count": 22
        },
        {
          "output_type": "display_data",
          "data": {
            "text/plain": [
              "<Figure size 432x288 with 1 Axes>"
            ],
            "image/png": "[encoded data removed]"
          },
          "metadata": {
            "needs_background": "light"
          }
        }
      ]
    },
    {
      "cell_type": "code",
      "source": [
        "acc = history.history['accuracy']\n",
        "val_acc = history.history['val_accuracy']\n",
        "\n",
        "train_precision=history.history['precision']\n",
        "val_precision=history.history['val_precision']\n",
        "\n",
        "train_recall=history.history['recall']\n",
        "val_recall=history.history['val_recall']\n",
        "\n",
        "loss = history.history['loss']\n",
        "val_loss = history.history['val_loss']\n",
        "\n",
        "epochs = range(len(acc))\n",
        "\n",
        "plt.plot(epochs, acc, 'r', label='Training accuracy')\n",
        "plt.plot(epochs, val_acc, 'b', label='Validation accuracy')\n",
        "plt.title('Training and validation accuracy')\n",
        "plt.legend()\n",
        "plt.figure()\n",
        "\n",
        "plt.plot(epochs, train_precision, 'r', label='Training precision')\n",
        "plt.plot(epochs, val_precision, 'b', label='Validation precision')\n",
        "plt.title('Training and validation precision')\n",
        "plt.legend()\n",
        "plt.figure()\n",
        "\n",
        "plt.plot(epochs, train_recall, 'r', label='Training recall')\n",
        "plt.plot(epochs, val_recall, 'b', label='Validation recall')\n",
        "plt.title('Training and validation recall')\n",
        "plt.legend()\n",
        "plt.figure()\n",
        "\n",
        "plt.plot(epochs, loss, 'r', label='Training Loss')\n",
        "plt.plot(epochs, val_loss, 'b', label='Validation Loss')\n",
        "plt.title('Training and validation loss')\n",
        "plt.legend()\n",
        "\n",
        "plt.show()"
      ],
      "metadata": {
        "id": "4GEDYvwjqG0b",
        "colab": {
          "base_uri": "https://localhost:8080/",
          "height": 1000
        },
        "outputId": "089e2182-5015-4d6e-a155-0d24077419a4"
      },
      "execution_count": 23,
      "outputs": [
        {
          "output_type": "display_data",
          "data": {
            "text/plain": [
              "<Figure size 432x288 with 1 Axes>"
            ],
            "image/png": "[encoded data removed]"
          },
          "metadata": {
            "needs_background": "light"
          }
        },
        {
          "output_type": "display_data",
          "data": {
            "text/plain": [
              "<Figure size 432x288 with 1 Axes>"
            ],
            "image/png": "[encoded data removed]"
          },
          "metadata": {
            "needs_background": "light"
          }
        },
        {
          "output_type": "display_data",
          "data": {
            "text/plain": [
              "<Figure size 432x288 with 1 Axes>"
            ],
            "image/png": "[encoded data removed]"
          },
          "metadata": {
            "needs_background": "light"
          }
        },
        {
          "output_type": "display_data",
          "data": {
            "text/plain": [
              "<Figure size 432x288 with 1 Axes>"
            ],
            "image/png": "[encoded data removed]"
          },
          "metadata": {
            "needs_background": "light"
          }
        }
      ]
    },
    {
      "cell_type": "code",
      "source": [
        "#model history\n",
        "import pandas as pd\n",
        "loss_df = pd.DataFrame(EfficientNetB0.history.history)\n",
        "loss_df"
      ],
      "metadata": {
        "id": "bMuSU0XLqOo4",
        "colab": {
          "base_uri": "https://localhost:8080/",
          "height": 49
        },
        "outputId": "40dd2cc2-c61a-4d5a-d632-37917fffecff"
      },
      "execution_count": 24,
      "outputs": [
        {
          "output_type": "execute_result",
          "data": {
            "text/plain": [
              "Empty DataFrame\n",
              "Columns: []\n",
              "Index: []"
            ],
            "text/html": [
              "\n",
              "  <div id=\"df-5654c0f4-fd24-484d-9b87-3b32e25bc5e1\">\n",
              "    <div class=\"colab-df-container\">\n",
              "      <div>\n",
              "<style scoped>\n",
              "    .dataframe tbody tr th:only-of-type {\n",
              "        vertical-align: middle;\n",
              "    }\n",
              "\n",
              "    .dataframe tbody tr th {\n",
              "        vertical-align: top;\n",
              "    }\n",
              "\n",
              "    .dataframe thead th {\n",
              "        text-align: right;\n",
              "    }\n",
              "</style>\n",
              "<table border=\"1\" class=\"dataframe\">\n",
              "  <thead>\n",
              "    <tr style=\"text-align: right;\">\n",
              "      <th></th>\n",
              "    </tr>\n",
              "  </thead>\n",
              "  <tbody>\n",
              "  </tbody>\n",
              "</table>\n",
              "</div>\n",
              "      <button class=\"colab-df-convert\" onclick=\"convertToInteractive('df-5654c0f4-fd24-484d-9b87-3b32e25bc5e1')\"\n",
              "              title=\"Convert this dataframe to an interactive table.\"\n",
              "              style=\"display:none;\">\n",
              "        \n",
              "  <svg xmlns=\"http://www.w3.org/2000/svg\" height=\"24px\"viewBox=\"0 0 24 24\"\n",
              "       width=\"24px\">\n",
              "    <path d=\"M0 0h24v24H0V0z\" fill=\"none\"/>\n",
              "    <path d=\"M18.56 5.44l.94 2.06.94-2.06 2.06-.94-2.06-.94-.94-2.06-.94 2.06-2.06.94zm-11 1L8.5 8.5l.94-2.06 2.06-.94-2.06-.94L8.5 2.5l-.94 2.06-2.06.94zm10 10l.94 2.06.94-2.06 2.06-.94-2.06-.94-.94-2.06-.94 2.06-2.06.94z\"/><path d=\"M17.41 7.96l-1.37-1.37c-.4-.4-.92-.59-1.43-.59-.52 0-1.04.2-1.43.59L10.3 9.45l-7.72 7.72c-.78.78-.78 2.05 0 2.83L4 21.41c.39.39.9.59 1.41.59.51 0 1.02-.2 1.41-.59l7.78-7.78 2.81-2.81c.8-.78.8-2.07 0-2.86zM5.41 20L4 18.59l7.72-7.72 1.47 1.35L5.41 20z\"/>\n",
              "  </svg>\n",
              "      </button>\n",
              "      \n",
              "  <style>\n",
              "    .colab-df-container {\n",
              "      display:flex;\n",
              "      flex-wrap:wrap;\n",
              "      gap: 12px;\n",
              "    }\n",
              "\n",
              "    .colab-df-convert {\n",
              "      background-color: #E8F0FE;\n",
              "      border: none;\n",
              "      border-radius: 50%;\n",
              "      cursor: pointer;\n",
              "      display: none;\n",
              "      fill: #1967D2;\n",
              "      height: 32px;\n",
              "      padding: 0 0 0 0;\n",
              "      width: 32px;\n",
              "    }\n",
              "\n",
              "    .colab-df-convert:hover {\n",
              "      background-color: #E2EBFA;\n",
              "      box-shadow: 0px 1px 2px rgba(60, 64, 67, 0.3), 0px 1px 3px 1px rgba(60, 64, 67, 0.15);\n",
              "      fill: #174EA6;\n",
              "    }\n",
              "\n",
              "    [theme=dark] .colab-df-convert {\n",
              "      background-color: #3B4455;\n",
              "      fill: #D2E3FC;\n",
              "    }\n",
              "\n",
              "    [theme=dark] .colab-df-convert:hover {\n",
              "      background-color: #434B5C;\n",
              "      box-shadow: 0px 1px 3px 1px rgba(0, 0, 0, 0.15);\n",
              "      filter: drop-shadow(0px 1px 2px rgba(0, 0, 0, 0.3));\n",
              "      fill: #FFFFFF;\n",
              "    }\n",
              "  </style>\n",
              "\n",
              "      <script>\n",
              "        const buttonEl =\n",
              "          document.querySelector('#df-5654c0f4-fd24-484d-9b87-3b32e25bc5e1 button.colab-df-convert');\n",
              "        buttonEl.style.display =\n",
              "          google.colab.kernel.accessAllowed ? 'block' : 'none';\n",
              "\n",
              "        async function convertToInteractive(key) {\n",
              "          const element = document.querySelector('#df-5654c0f4-fd24-484d-9b87-3b32e25bc5e1');\n",
              "          const dataTable =\n",
              "            await google.colab.kernel.invokeFunction('convertToInteractive',\n",
              "                                                     [key], {});\n",
              "          if (!dataTable) return;\n",
              "\n",
              "          const docLinkHtml = 'Like what you see? Visit the ' +\n",
              "            '<a target=\"_blank\" href=https://colab.research.google.com/notebooks/data_table.ipynb>data table notebook</a>'\n",
              "            + ' to learn more about interactive tables.';\n",
              "          element.innerHTML = '';\n",
              "          dataTable['output_type'] = 'display_data';\n",
              "          await google.colab.output.renderOutput(dataTable, element);\n",
              "          const docLink = document.createElement('div');\n",
              "          docLink.innerHTML = docLinkHtml;\n",
              "          element.appendChild(docLink);\n",
              "        }\n",
              "      </script>\n",
              "    </div>\n",
              "  </div>\n",
              "  "
            ]
          },
          "metadata": {},
          "execution_count": 24
        }
      ]
    },
    {
      "cell_type": "code",
      "source": [
        "#prediction on test data\n",
        "predictions = np.argmax(EfficientNetB0.predict(test_set), axis = -1)"
      ],
      "metadata": {
        "id": "h6cs30W_qOkP",
        "colab": {
          "base_uri": "https://localhost:8080/"
        },
        "outputId": "956f0f5b-6921-490d-decc-bc982d2197f4"
      },
      "execution_count": 25,
      "outputs": [
        {
          "output_type": "stream",
          "name": "stdout",
          "text": [
            "28/28 [==============================] - 7s 187ms/step\n"
          ]
        }
      ]
    },
    {
      "cell_type": "code",
      "source": [
        "#classification report\n",
        "print(classification_report(test_set.classes,predictions))"
      ],
      "metadata": {
        "id": "5t7Zkcl_qOg9",
        "colab": {
          "base_uri": "https://localhost:8080/"
        },
        "outputId": "acb1c40f-3e28-4d07-db84-ecd9fb5b5e35"
      },
      "execution_count": 26,
      "outputs": [
        {
          "output_type": "stream",
          "name": "stdout",
          "text": [
            "              precision    recall  f1-score   support\n",
            "\n",
            "           0       0.91      0.90      0.91       362\n",
            "           1       0.79      0.79      0.79       246\n",
            "           2       0.93      0.94      0.94      1020\n",
            "           3       0.97      0.95      0.96       135\n",
            "\n",
            "    accuracy                           0.91      1763\n",
            "   macro avg       0.90      0.90      0.90      1763\n",
            "weighted avg       0.91      0.91      0.91      1763\n",
            "\n"
          ]
        }
      ]
    },
    {
      "cell_type": "code",
      "source": [
        "# compute the confusion matrix and and use it to derive the raw\n",
        "# accuracy, sensitivity, and specificity\n",
        "cm = confusion_matrix(test_set.classes, predictions)\n",
        "sensitivity = cm[0, 0] / (cm[0, 0] + cm[0, 1])\n",
        "specificity = cm[1, 1] / (cm[1, 0] + cm[1, 1])"
      ],
      "metadata": {
        "id": "DIHRpWCSqOds"
      },
      "execution_count": 27,
      "outputs": []
    },
    {
      "cell_type": "code",
      "source": [
        "import seaborn as sns\n",
        "print(confusion_matrix(test_set.classes,predictions))\n",
        "sns.heatmap(confusion_matrix(test_set.classes,predictions), annot = True)\n",
        "# show the sensitivity, and specificity\n",
        "print(\"sensitivity: {:.4f}\".format(sensitivity))\n",
        "print(\"specificity: {:.4f}\".format(specificity))"
      ],
      "metadata": {
        "id": "QFU6yPtSqlJP",
        "colab": {
          "base_uri": "https://localhost:8080/",
          "height": 369
        },
        "outputId": "6581681e-387b-490f-a861-1802acb0c62d"
      },
      "execution_count": 28,
      "outputs": [
        {
          "output_type": "stream",
          "name": "stdout",
          "text": [
            "[[327  15  20   0]\n",
            " [  8 195  43   0]\n",
            " [ 24  35 957   4]\n",
            " [  0   2   5 128]]\n",
            "sensitivity: 0.9561\n",
            "specificity: 0.9606\n"
          ]
        },
        {
          "output_type": "display_data",
          "data": {
            "text/plain": [
              "<Figure size 432x288 with 2 Axes>"
            ],
            "image/png": "[encoded data removed]"
          },
          "metadata": {
            "needs_background": "light"
          }
        }
      ]
    },
    {
      "cell_type": "code",
      "execution_count": 29,
      "metadata": {
        "id": "8w_awKBLKs87"
      },
      "outputs": [],
      "source": [
        "from numpy import sqrt"
      ]
    },
    {
      "cell_type": "code",
      "execution_count": 30,
      "metadata": {
        "id": "wf4wnko9AWls",
        "colab": {
          "base_uri": "https://localhost:8080/"
        },
        "outputId": "d74f35ce-7f13-43ab-b81c-3972cfe8ac5a"
      },
      "outputs": [
        {
          "output_type": "stream",
          "name": "stdout",
          "text": [
            "G_Mean:  0.9583631581821426\n"
          ]
        }
      ],
      "source": [
        "G_Mean = sqrt(sensitivity * specificity)\n",
        "print(\"G_Mean: \", G_Mean)"
      ]
    },
    {
      "cell_type": "code",
      "execution_count": 31,
      "metadata": {
        "id": "o_G1i4iLBe4t"
      },
      "outputs": [],
      "source": [
        "True_Positive_Rate = cm[0, 0] / (cm[0, 0] + cm[0, 1])\n",
        "False_Positive_Rate = cm[1, 0] / (cm[1, 0] + cm[1, 1])"
      ]
    },
    {
      "cell_type": "code",
      "execution_count": 32,
      "metadata": {
        "id": "_YzMjnD2CAy9",
        "colab": {
          "base_uri": "https://localhost:8080/"
        },
        "outputId": "9aa7d84c-a21d-46db-d326-4f4f8bf9fc10"
      },
      "outputs": [
        {
          "output_type": "stream",
          "name": "stdout",
          "text": [
            "True_Positive_Rate: 0.9561\n",
            "False_Positive_Rate: 0.0394\n"
          ]
        }
      ],
      "source": [
        "print(\"True_Positive_Rate: {:.4f}\".format(True_Positive_Rate))\n",
        "print(\"False_Positive_Rate: {:.4f}\".format(False_Positive_Rate))"
      ]
    },
    {
      "cell_type": "markdown",
      "metadata": {
        "id": "G0r3QSYWgJIz"
      },
      "source": [
        "# **ROC**"
      ]
    },
    {
      "cell_type": "code",
      "execution_count": 33,
      "metadata": {
        "id": "4oMXTGIIyMRL",
        "colab": {
          "base_uri": "https://localhost:8080/"
        },
        "outputId": "606dd0ba-bb2c-45f6-cc7a-c25bb91a8386"
      },
      "outputs": [
        {
          "output_type": "stream",
          "name": "stdout",
          "text": [
            "<keras.preprocessing.image.DirectoryIterator object at 0x7fae339cdbd0>\n",
            "[0 0 0 ... 3 3 3]\n"
          ]
        }
      ],
      "source": [
        "print(test_set)\n",
        "print(predictions)"
      ]
    },
    {
      "cell_type": "code",
      "execution_count": 34,
      "metadata": {
        "id": "OqXtMjgLCxg1",
        "colab": {
          "base_uri": "https://localhost:8080/"
        },
        "outputId": "cca9bac7-e4f0-4144-98dd-01618e7da83d"
      },
      "outputs": [
        {
          "output_type": "stream",
          "name": "stdout",
          "text": [
            "(1763, 4)\n"
          ]
        }
      ],
      "source": [
        "testsetTo = np.concatenate([test_set.next()[1] for i in range(test_set.__len__())])\n",
        "print(testsetTo.shape)"
      ]
    },
    {
      "cell_type": "code",
      "execution_count": 35,
      "metadata": {
        "id": "fVtTlUa7SivZ"
      },
      "outputs": [],
      "source": [
        "from scipy import interp\n",
        "import matplotlib.pyplot as plt\n",
        "from sklearn.metrics import roc_curve, auc"
      ]
    },
    {
      "cell_type": "code",
      "execution_count": 36,
      "metadata": {
        "id": "ewnd0Mor2ixG"
      },
      "outputs": [],
      "source": [
        "#ROC-AUC Curve\n",
        "# Learn to predict each class against the other\n",
        "n_classes = 4 \n",
        "# Compute ROC curve and ROC area for each class\n",
        "fpr = dict()\n",
        "tpr = dict()\n",
        "thresh = dict()\n",
        "roc_auc = dict()\n",
        "lw = 2 \n",
        "for i in range(n_classes):\n",
        "    fpr[i], tpr[i], thresh[i] = roc_curve(np.argmax(testsetTo, axis=1), predictions, pos_label=i)\n",
        "    roc_auc[i] = auc(fpr[i], tpr[i])"
      ]
    },
    {
      "cell_type": "code",
      "execution_count": 37,
      "metadata": {
        "id": "gVgL6uwboEUn"
      },
      "outputs": [],
      "source": [
        "# Compute micro-average ROC curve and ROC area\n",
        "fpr[\"micro\"], tpr[\"micro\"], thresh[i] = roc_curve(np.argmax(testsetTo, axis=1), predictions, pos_label=i) \n",
        "roc_auc[\"micro\"] = auc(fpr[\"micro\"], tpr[\"micro\"])"
      ]
    },
    {
      "cell_type": "code",
      "execution_count": 38,
      "metadata": {
        "id": "sHDd3VDr8lkm",
        "colab": {
          "base_uri": "https://localhost:8080/",
          "height": 350
        },
        "outputId": "dd362f5e-2634-438b-deac-71bc4025bc77"
      },
      "outputs": [
        {
          "output_type": "stream",
          "name": "stderr",
          "text": [
            "/usr/local/lib/python3.7/dist-packages/ipykernel_launcher.py:11: DeprecationWarning: scipy.interp is deprecated and will be removed in SciPy 2.0.0, use numpy.interp instead\n",
            "  # This is added back by InteractiveShellApp.init_path()\n"
          ]
        },
        {
          "output_type": "display_data",
          "data": {
            "text/plain": [
              "<Figure size 432x288 with 1 Axes>"
            ],
            "image/png": "[encoded data removed]"
          },
          "metadata": {
            "needs_background": "light"
          }
        }
      ],
      "source": [
        "# Process of plotting roc-auc curve belonging to all classes.\n",
        "\n",
        "from itertools import cycle\n",
        "roc_auc_scores = []\n",
        "# First aggregate all false positive rates\n",
        "all_fpr = np.unique(np.concatenate([fpr[i] for i in range(n_classes)]))\n",
        "\n",
        "# Then interpolate all ROC curves at this points\n",
        "mean_tpr = np.zeros_like(all_fpr)\n",
        "for i in range(n_classes):\n",
        "    mean_tpr += interp(all_fpr, fpr[i], tpr[i])\n",
        "\n",
        "# Finally average it and compute AUC\n",
        "mean_tpr /= n_classes\n",
        "\n",
        "fpr[\"macro\"] = all_fpr\n",
        "tpr[\"macro\"] = mean_tpr\n",
        "roc_auc[\"macro\"] = auc(fpr[\"macro\"], tpr[\"macro\"])\n",
        "\n",
        "# Plot all ROC curves\n",
        "plt.figure()\n",
        "plt.plot(fpr[\"micro\"], tpr[\"micro\"],\n",
        "         label='micro-average ROC curve (area = {0:0.2f})'\n",
        "               ''.format(roc_auc[\"micro\"]),\n",
        "         color='deeppink', linestyle=':', linewidth=4)\n",
        "\n",
        "plt.plot(fpr[\"macro\"], tpr[\"macro\"],\n",
        "         label='macro-average ROC curve (area = {0:0.2f})'\n",
        "               ''.format(roc_auc[\"macro\"]),\n",
        "         color='navy', linestyle=':', linewidth=4)\n",
        "\n",
        "colors = cycle(['red', 'darkorange', 'cornflowerblue', 'aqua'])\n",
        "for i, color in zip(range(n_classes), colors):\n",
        "    plt.plot(fpr[i], tpr[i], color=color, lw=lw,\n",
        "             label='ROC curve of class {0} (area = {1:0.2f})'\n",
        "             ''.format(i, roc_auc[i]))\n",
        "    roc_auc_scores.append(roc_auc[i])\n",
        "\n",
        "plt.plot([0, 1], [0, 1], 'k--', lw=lw)\n",
        "plt.xlim([0.0, 1.0])\n",
        "plt.ylim([0.0, 1.05])\n",
        "plt.xlabel('False Positive Rate')\n",
        "plt.ylabel('True Positive Rate')\n",
        "plt.title('ROC Curve to each class')\n",
        "plt.legend(loc=\"lower right\")\n",
        "plt.show()"
      ]
    }
  ]
}