{
  "nbformat": 4,
  "nbformat_minor": 0,
  "metadata": {
    "accelerator": "GPU",
    "colab": {
      "provenance": [],
      "collapsed_sections": []
    },
    "kernelspec": {
      "display_name": "Python 3",
      "name": "python3"
    },
    "language_info": {
      "name": "python"
    }
  },
  "cells": [
    {
      "cell_type": "code",
      "metadata": {
        "id": "e6WiF4VSbUSP"
      },
      "source": [
        "import tensorflow as tf\n",
        "from tensorflow import keras\n",
        "from tensorflow.keras.preprocessing.image import ImageDataGenerator\n",
        "from tensorflow.keras.layers import Conv2D\n",
        "from tensorflow.keras.layers import MaxPooling2D\n",
        "from tensorflow.keras.layers import AveragePooling2D\n",
        "from tensorflow.keras.layers import GlobalAveragePooling2D\n",
        "from tensorflow.keras.models import Sequential\n",
        "from tensorflow.keras.layers import Dropout\n",
        "from tensorflow.keras.layers import Flatten\n",
        "from tensorflow.keras.layers import Input\n",
        "from tensorflow.keras.layers import Dense\n",
        "#from keras.layers.merge import concatenate\n",
        "from tensorflow.keras.models import Model\n",
        "from tensorflow.keras.optimizers import Adam\n",
        "from tensorflow.keras.utils import to_categorical\n",
        "from sklearn.preprocessing import LabelBinarizer\n",
        "from sklearn.model_selection import train_test_split\n",
        "from sklearn.metrics import classification_report\n",
        "from sklearn.metrics import confusion_matrix\n",
        "from imutils import paths\n",
        "import matplotlib.pyplot as plt\n",
        "import numpy as np\n",
        "import argparse\n",
        "import cv2\n",
        "import os"
      ],
      "execution_count": 2,
      "outputs": []
    },
    {
      "cell_type": "code",
      "source": [
        "from google.colab import drive\n",
        "drive.mount('/content/drive')"
      ],
      "metadata": {
        "colab": {
          "base_uri": "https://localhost:8080/"
        },
        "id": "zNbdafU_ngdh",
        "outputId": "f3801d84-a026-43e2-cb04-336f86d25589"
      },
      "execution_count": 3,
      "outputs": [
        {
          "output_type": "stream",
          "name": "stdout",
          "text": [
            "Mounted at /content/drive\n"
          ]
        }
      ]
    },
    {
      "cell_type": "code",
      "source": [
        "dataset_url = 'https://www.kaggle.com/datasets/tawsifurrahman/covid19-radiography-database?recency=last7Days'\n",
        "data_dir = '/content/COVID-19_Radiography_Dataset'"
      ],
      "metadata": {
        "id": "1Ggi-giAnjTg"
      },
      "execution_count": 4,
      "outputs": []
    },
    {
      "cell_type": "code",
      "source": [
        "# #load training and testing dataset from output directory where the split is fixed for all models\n",
        "# train_datagen=ImageDataGenerator(rescale = 1./255,\n",
        "#                                    rotation_range=15,\n",
        "#                                    fill_mode=\"nearest\",\n",
        "#                                    horizontal_flip = True)\n",
        "# valid_datagen=ImageDataGenerator(rescale = 1./255)\n",
        "# test_datagen=ImageDataGenerator(rescale = 1./255)\n",
        "\n",
        "# training_set=train_datagen.flow_from_directory('/content/drive/MyDrive/New_DS/output/train',\n",
        "#                                                  target_size = (224, 224),\n",
        "#                                                  batch_size = 64,\n",
        "#                                                  class_mode = 'categorical',\n",
        "#                                                  shuffle=True)\n",
        "# valid_set=valid_datagen.flow_from_directory('/content/drive/MyDrive/New_DS/output/val',\n",
        "#                                             target_size = (224, 224),\n",
        "#                                             batch_size = 64,\n",
        "#                                             class_mode = 'categorical',\n",
        "#                                             shuffle = False)\n",
        "# test_set=test_datagen.flow_from_directory('/content/drive/MyDrive/New_DS/output/test',\n",
        "#                                             target_size = (224, 224),\n",
        "#                                             batch_size = 64,\n",
        "#                                             class_mode = 'categorical',\n",
        "#                                             shuffle = False)"
      ],
      "metadata": {
        "id": "PahcXl2P7XqJ",
        "colab": {
          "base_uri": "https://localhost:8080/"
        },
        "outputId": "f8910bea-3981-4b82-daa8-34c9f71f9628"
      },
      "execution_count": null,
      "outputs": [
        {
          "output_type": "stream",
          "name": "stdout",
          "text": [
            "Found 14816 images belonging to 4 classes.\n",
            "Found 4233 images belonging to 4 classes.\n",
            "Found 2119 images belonging to 4 classes.\n"
          ]
        }
      ]
    },
    {
      "cell_type": "code",
      "execution_count": 5,
      "metadata": {
        "id": "5iE4mI-XbGlb",
        "colab": {
          "base_uri": "https://localhost:8080/"
        },
        "outputId": "7d287411-6274-4ca9-a9c9-b1e55b052351"
      },
      "outputs": [
        {
          "output_type": "stream",
          "name": "stdout",
          "text": [
            "Looking in indexes: https://pypi.org/simple, https://us-python.pkg.dev/colab-wheels/public/simple/\n",
            "Collecting split-folders\n",
            "  Downloading split_folders-0.5.1-py3-none-any.whl (8.4 kB)\n",
            "Installing collected packages: split-folders\n",
            "Successfully installed split-folders-0.5.1\n"
          ]
        },
        {
          "output_type": "stream",
          "name": "stderr",
          "text": [
            "Copying files: 17606 files [05:15, 55.89 files/s] \n"
          ]
        }
      ],
      "source": [
        "!pip install split-folders\n",
        "import splitfolders\n",
        "input_folder = '/content/drive/MyDrive/Covid_DS/Covid19_Radiography Dataset'\n",
        "splitfolders.ratio( input_folder,\n",
        "                   output=\"output\",seed=1337,ratio=(0.7,0.2,0.1)) "
      ]
    },
    {
      "cell_type": "code",
      "execution_count": 6,
      "metadata": {
        "id": "Z0jXKuyVbM19",
        "colab": {
          "base_uri": "https://localhost:8080/"
        },
        "outputId": "ed905f0d-1bb6-40e0-97fa-52a5c17a7b59"
      },
      "outputs": [
        {
          "output_type": "stream",
          "name": "stdout",
          "text": [
            "Found 12323 images belonging to 4 classes.\n",
            "Found 3520 images belonging to 4 classes.\n",
            "Found 1763 images belonging to 4 classes.\n"
          ]
        }
      ],
      "source": [
        "#load training and testing dataset from directory\n",
        "train_datagen=ImageDataGenerator(rescale = 1./255,\n",
        "                                   rotation_range=15,\n",
        "                                   fill_mode=\"nearest\",\n",
        "                                   horizontal_flip = True)\n",
        "valid_datagen=ImageDataGenerator(rescale = 1./255)\n",
        "test_datagen=ImageDataGenerator(rescale = 1./255)\n",
        "\n",
        "training_set=train_datagen.flow_from_directory('/content/output/train',\n",
        "                                                 target_size = (224, 224),\n",
        "                                                 batch_size = 64,\n",
        "                                                 class_mode = 'categorical',\n",
        "                                                 shuffle=True)\n",
        "valid_set=valid_datagen.flow_from_directory('/content/output/val',\n",
        "                                            target_size = (224, 224),\n",
        "                                            batch_size = 64,\n",
        "                                            class_mode = 'categorical',\n",
        "                                            shuffle = False)\n",
        "test_set=test_datagen.flow_from_directory('/content/output/test',\n",
        "                                            target_size = (224, 224),\n",
        "                                            batch_size = 64,\n",
        "                                            class_mode = 'categorical',\n",
        "                                            shuffle = False)"
      ]
    },
    {
      "cell_type": "code",
      "metadata": {
        "colab": {
          "base_uri": "https://localhost:8080/"
        },
        "id": "swTQJVaCu-TG",
        "outputId": "bb3371a1-4427-47db-877e-4cb702af6f71"
      },
      "source": [
        "print(training_set.class_indices)\n",
        "print(valid_set.class_indices)\n",
        "print(test_set.class_indices)"
      ],
      "execution_count": 7,
      "outputs": [
        {
          "output_type": "stream",
          "name": "stdout",
          "text": [
            "{'COVID': 0, 'Lung_Opacity': 1, 'Normal': 2, 'Viral Pneumonia': 3}\n",
            "{'COVID': 0, 'Lung_Opacity': 1, 'Normal': 2, 'Viral Pneumonia': 3}\n",
            "{'COVID': 0, 'Lung_Opacity': 1, 'Normal': 2, 'Viral Pneumonia': 3}\n"
          ]
        }
      ]
    },
    {
      "cell_type": "code",
      "source": [
        "#visulaize data\n",
        "import matplotlib.pyplot as plt\n",
        "fig, ax = plt.subplots()\n",
        "ax.bar(\"COVID-19\",3616,color=\"r\",label=\"Covid19\")\n",
        "ax.bar(\"Lung_Opacity\",6012 ,color=\"b\",label=\"Lung_Opacity\")\n",
        "ax.bar(\"NORMAL\",10192,color=\"m\",label=\"Normal\")\n",
        "ax.bar(\"Viral Pneumonia\",1345,color=\"g\",label=\"Viral Pneumonia\")\n",
        "ax.legend()"
      ],
      "metadata": {
        "colab": {
          "base_uri": "https://localhost:8080/",
          "height": 283
        },
        "id": "KQPgYEy3iYF-",
        "outputId": "edec6eac-b1e9-400e-d575-719535f60a56"
      },
      "execution_count": 8,
      "outputs": [
        {
          "output_type": "execute_result",
          "data": {
            "text/plain": [
              "<matplotlib.legend.Legend at 0x7f9161a4f610>"
            ]
          },
          "metadata": {},
          "execution_count": 8
        },
        {
          "output_type": "display_data",
          "data": {
            "text/plain": [
              "<Figure size 432x288 with 1 Axes>"
            ],
            "image/png": "[encoded data removed]"
          },
          "metadata": {
            "needs_background": "light"
          }
        }
      ]
    },
    {
      "cell_type": "code",
      "metadata": {
        "id": "pa7CBCECchlK"
      },
      "source": [
        "from tensorflow.keras.applications import DenseNet121\n",
        "from keras.layers import (Conv2D, BatchNormalization, Activation, MaxPooling2D, GlobalAveragePooling2D, \n",
        "                          Dense, Flatten, Dropout)\n",
        "densenet = DenseNet121(\n",
        "    weights=None,\n",
        "    include_top=False,\n",
        "    input_shape=(224,224,3)\n",
        ")\n",
        "DenseNet121_Model = tf.keras.models.Sequential([densenet,\n",
        "                                        GlobalAveragePooling2D(),\n",
        "                                        Dense(512, activation='relu'),\n",
        "                                        BatchNormalization(),\n",
        "                                        Dropout(0.3),\n",
        "                                        Dense(4, activation='sigmoid')\n",
        "                                      ])\n"
      ],
      "execution_count": 9,
      "outputs": []
    },
    {
      "cell_type": "code",
      "metadata": {
        "colab": {
          "base_uri": "https://localhost:8080/"
        },
        "id": "kewPoaY3fnqj",
        "outputId": "5c317baf-3c87-417c-dc88-e970e467b28f"
      },
      "source": [
        "DenseNet121_Model.summary()"
      ],
      "execution_count": 10,
      "outputs": [
        {
          "output_type": "stream",
          "name": "stdout",
          "text": [
            "Model: \"sequential\"\n",
            "_________________________________________________________________\n",
            " Layer (type)                Output Shape              Param #   \n",
            "=================================================================\n",
            " densenet121 (Functional)    (None, 7, 7, 1024)        7037504   \n",
            "                                                                 \n",
            " global_average_pooling2d (G  (None, 1024)             0         \n",
            " lobalAveragePooling2D)                                          \n",
            "                                                                 \n",
            " dense (Dense)               (None, 512)               524800    \n",
            "                                                                 \n",
            " batch_normalization (BatchN  (None, 512)              2048      \n",
            " ormalization)                                                   \n",
            "                                                                 \n",
            " dropout (Dropout)           (None, 512)               0         \n",
            "                                                                 \n",
            " dense_1 (Dense)             (None, 4)                 2052      \n",
            "                                                                 \n",
            "=================================================================\n",
            "Total params: 7,566,404\n",
            "Trainable params: 7,481,732\n",
            "Non-trainable params: 84,672\n",
            "_________________________________________________________________\n"
          ]
        }
      ]
    },
    {
      "cell_type": "code",
      "source": [
        "tf.keras.callbacks.ReduceLROnPlateau\n",
        "from keras.callbacks import LearningRateScheduler"
      ],
      "metadata": {
        "id": "Lq75GuS8ao0y"
      },
      "execution_count": 11,
      "outputs": []
    },
    {
      "cell_type": "code",
      "source": [
        "#to avoid overfitting\n",
        "early = tf.keras.callbacks.EarlyStopping(monitor='val_accuracy', patience=5)"
      ],
      "metadata": {
        "id": "Zh-tw7SmZl7i"
      },
      "execution_count": 12,
      "outputs": []
    },
    {
      "cell_type": "code",
      "source": [
        "epochs = 100\n",
        "learning_rate = 0.001\n",
        "decay_rate = learning_rate / epochs\n",
        "optimizer_details = Adam(lr = learning_rate, decay = decay_rate)"
      ],
      "metadata": {
        "colab": {
          "base_uri": "https://localhost:8080/"
        },
        "id": "emt6Q1F2kxcf",
        "outputId": "84121ec3-47cb-4b68-9867-1f88bd7ac93c"
      },
      "execution_count": 13,
      "outputs": [
        {
          "output_type": "stream",
          "name": "stderr",
          "text": [
            "/usr/local/lib/python3.7/dist-packages/keras/optimizers/optimizer_v2/adam.py:110: UserWarning: The `lr` argument is deprecated, use `learning_rate` instead.\n",
            "  super(Adam, self).__init__(name, **kwargs)\n"
          ]
        }
      ]
    },
    {
      "cell_type": "code",
      "source": [
        "DenseNet121_Model.compile(optimizer = optimizer_details, \n",
        "              loss='categorical_crossentropy',\n",
        "              metrics=['accuracy','Precision','Recall'])\n",
        "history = DenseNet121_Model.fit_generator(training_set, validation_data = valid_set, epochs=epochs, verbose=1, callbacks=[early])"
      ],
      "metadata": {
        "id": "HdD9qSvtnH6j",
        "colab": {
          "base_uri": "https://localhost:8080/"
        },
        "outputId": "5489e3fb-9201-4cc7-e872-dcc13e8331b7"
      },
      "execution_count": 14,
      "outputs": [
        {
          "output_type": "stream",
          "name": "stderr",
          "text": [
            "/usr/local/lib/python3.7/dist-packages/ipykernel_launcher.py:4: UserWarning: `Model.fit_generator` is deprecated and will be removed in a future version. Please use `Model.fit`, which supports generators.\n",
            "  after removing the cwd from sys.path.\n"
          ]
        },
        {
          "output_type": "stream",
          "name": "stdout",
          "text": [
            "Epoch 1/100\n",
            "193/193 [==============================] - 227s 1s/step - loss: 0.8033 - accuracy: 0.7144 - precision: 0.4760 - recall: 0.8881 - val_loss: 2.0927 - val_accuracy: 0.2026 - val_precision: 0.2361 - val_recall: 0.5571\n",
            "Epoch 2/100\n",
            "193/193 [==============================] - 196s 1s/step - loss: 0.5832 - accuracy: 0.7859 - precision: 0.5001 - recall: 0.9521 - val_loss: 2.2389 - val_accuracy: 0.5855 - val_precision: 0.5342 - val_recall: 0.6952\n",
            "Epoch 3/100\n",
            "193/193 [==============================] - 196s 1s/step - loss: 0.4918 - accuracy: 0.8234 - precision: 0.4974 - recall: 0.9692 - val_loss: 2.0500 - val_accuracy: 0.6125 - val_precision: 0.4457 - val_recall: 0.7611\n",
            "Epoch 4/100\n",
            "193/193 [==============================] - 196s 1s/step - loss: 0.4539 - accuracy: 0.8367 - precision: 0.4947 - recall: 0.9726 - val_loss: 2.3459 - val_accuracy: 0.3102 - val_precision: 0.3627 - val_recall: 0.8528\n",
            "Epoch 5/100\n",
            "193/193 [==============================] - 196s 1s/step - loss: 0.3863 - accuracy: 0.8618 - precision: 0.5017 - recall: 0.9823 - val_loss: 4.2155 - val_accuracy: 0.2943 - val_precision: 0.3697 - val_recall: 0.7457\n",
            "Epoch 6/100\n",
            "193/193 [==============================] - 197s 1s/step - loss: 0.3547 - accuracy: 0.8747 - precision: 0.5082 - recall: 0.9831 - val_loss: 4.1687 - val_accuracy: 0.1884 - val_precision: 0.3348 - val_recall: 0.7949\n",
            "Epoch 7/100\n",
            "193/193 [==============================] - 197s 1s/step - loss: 0.3396 - accuracy: 0.8788 - precision: 0.5080 - recall: 0.9851 - val_loss: 1.3562 - val_accuracy: 0.5781 - val_precision: 0.3986 - val_recall: 0.8690\n",
            "Epoch 8/100\n",
            "193/193 [==============================] - 195s 1s/step - loss: 0.3218 - accuracy: 0.8854 - precision: 0.5092 - recall: 0.9871 - val_loss: 2.4825 - val_accuracy: 0.6531 - val_precision: 0.5692 - val_recall: 0.7523\n",
            "Epoch 9/100\n",
            "193/193 [==============================] - 195s 1s/step - loss: 0.2891 - accuracy: 0.8962 - precision: 0.5193 - recall: 0.9908 - val_loss: 1.8554 - val_accuracy: 0.6895 - val_precision: 0.4463 - val_recall: 0.8412\n",
            "Epoch 10/100\n",
            "193/193 [==============================] - 195s 1s/step - loss: 0.2811 - accuracy: 0.8997 - precision: 0.5229 - recall: 0.9890 - val_loss: 0.7719 - val_accuracy: 0.7634 - val_precision: 0.5844 - val_recall: 0.8773\n",
            "Epoch 11/100\n",
            "193/193 [==============================] - 195s 1s/step - loss: 0.2593 - accuracy: 0.9090 - precision: 0.5311 - recall: 0.9905 - val_loss: 14.2476 - val_accuracy: 0.4080 - val_precision: 0.3914 - val_recall: 0.5889\n",
            "Epoch 12/100\n",
            "193/193 [==============================] - 197s 1s/step - loss: 0.2477 - accuracy: 0.9113 - precision: 0.5326 - recall: 0.9929 - val_loss: 12.1880 - val_accuracy: 0.2048 - val_precision: 0.2977 - val_recall: 0.5426\n",
            "Epoch 13/100\n",
            "193/193 [==============================] - 195s 1s/step - loss: 0.2457 - accuracy: 0.9130 - precision: 0.5285 - recall: 0.9926 - val_loss: 4.4780 - val_accuracy: 0.4830 - val_precision: 0.3931 - val_recall: 0.7852\n",
            "Epoch 14/100\n",
            "193/193 [==============================] - 195s 1s/step - loss: 0.2412 - accuracy: 0.9148 - precision: 0.5316 - recall: 0.9927 - val_loss: 2.2836 - val_accuracy: 0.5787 - val_precision: 0.3507 - val_recall: 0.9168\n",
            "Epoch 15/100\n",
            "193/193 [==============================] - 195s 1s/step - loss: 0.2205 - accuracy: 0.9230 - precision: 0.5340 - recall: 0.9934 - val_loss: 3.2882 - val_accuracy: 0.3528 - val_precision: 0.3905 - val_recall: 0.6972\n"
          ]
        }
      ]
    },
    {
      "cell_type": "code",
      "source": [
        "DenseNet121_Model.evaluate(test_set, verbose=1)\n",
        "#***model.evaluate(test_set)"
      ],
      "metadata": {
        "id": "q68yMkWMfIZz",
        "colab": {
          "base_uri": "https://localhost:8080/"
        },
        "outputId": "be8f93b6-36f9-4b1c-b995-28e157554164"
      },
      "execution_count": 15,
      "outputs": [
        {
          "output_type": "stream",
          "name": "stdout",
          "text": [
            "28/28 [==============================] - 6s 210ms/step - loss: 3.2196 - accuracy: 0.3613 - precision: 0.3961 - recall: 0.7056\n"
          ]
        },
        {
          "output_type": "execute_result",
          "data": {
            "text/plain": [
              "[3.219634771347046,\n",
              " 0.36131593585014343,\n",
              " 0.39605221152305603,\n",
              " 0.7056154012680054]"
            ]
          },
          "metadata": {},
          "execution_count": 15
        }
      ]
    },
    {
      "cell_type": "code",
      "metadata": {
        "id": "N3kAew-J9NIi"
      },
      "source": [
        "#Accuracy, val_acc, loss, val_loss, epoch_range\n",
        "acc = history.history['accuracy']\n",
        "val_acc = history.history['val_accuracy']\n",
        "loss = history.history['loss']\n",
        "val_loss = history.history['val_loss']\n",
        "epochs=range(len(acc))"
      ],
      "execution_count": 16,
      "outputs": []
    },
    {
      "cell_type": "code",
      "metadata": {
        "id": "24vNaQxd9N8V",
        "colab": {
          "base_uri": "https://localhost:8080/"
        },
        "outputId": "5c09d10d-0064-479a-c23c-a25d2b63da6c"
      },
      "source": [
        "print(\"accuracy: \",acc)\n",
        "print(\"validation accuracy: \",val_acc)\n",
        "print(\"loss: \",loss)\n",
        "print(\"validation loss: \",val_loss)\n",
        "print(\"epochs: \",epochs)"
      ],
      "execution_count": 17,
      "outputs": [
        {
          "output_type": "stream",
          "name": "stdout",
          "text": [
            "accuracy:  [0.7143552899360657, 0.7859287261962891, 0.8234196305274963, 0.8367280960083008, 0.8618031144142151, 0.8747058510780334, 0.8788444399833679, 0.8854175209999084, 0.8962103128433228, 0.8996997475624084, 0.909031867980957, 0.9113040566444397, 0.9130082130432129, 0.9147934913635254, 0.922989547252655]\n",
            "validation accuracy:  [0.2025568187236786, 0.5855113863945007, 0.612500011920929, 0.31022727489471436, 0.29431816935539246, 0.18835227191448212, 0.578125, 0.653124988079071, 0.6894886493682861, 0.7633522748947144, 0.40795454382896423, 0.20482954382896423, 0.4829545319080353, 0.5786932110786438, 0.3528409004211426]\n",
            "loss:  [0.8033280372619629, 0.5831896066665649, 0.4918312132358551, 0.4538806676864624, 0.38625431060791016, 0.35467180609703064, 0.3396490812301636, 0.321827232837677, 0.28912562131881714, 0.2810557186603546, 0.2592676877975464, 0.24765416979789734, 0.24568434059619904, 0.24117380380630493, 0.22050417959690094]\n",
            "validation loss:  [2.0927109718322754, 2.238867998123169, 2.050041437149048, 2.3459341526031494, 4.215484142303467, 4.1686930656433105, 1.3561596870422363, 2.4825477600097656, 1.8553612232208252, 0.7719408869743347, 14.247635841369629, 12.187983512878418, 4.477972507476807, 2.283555746078491, 3.2881979942321777]\n",
            "epochs:  range(0, 15)\n"
          ]
        }
      ]
    },
    {
      "cell_type": "code",
      "metadata": {
        "id": "5UmGl__FdxxV",
        "colab": {
          "base_uri": "https://localhost:8080/",
          "height": 298
        },
        "outputId": "fe70a359-bf4c-46d0-ab9b-1924246721bf"
      },
      "source": [
        "#plot training nad validation accuracy\n",
        "plt.plot(epochs,acc,label='Training_acc',color='blue')\n",
        "plt.plot(epochs,val_acc,label='Validation_acc',color='red')\n",
        "plt.legend()\n",
        "plt.title(\"Training and Validation Accuracy\")"
      ],
      "execution_count": 18,
      "outputs": [
        {
          "output_type": "execute_result",
          "data": {
            "text/plain": [
              "Text(0.5, 1.0, 'Training and Validation Accuracy')"
            ]
          },
          "metadata": {},
          "execution_count": 18
        },
        {
          "output_type": "display_data",
          "data": {
            "text/plain": [
              "<Figure size 432x288 with 1 Axes>"
            ],
            "image/png": "[encoded data removed]"
          },
          "metadata": {
            "needs_background": "light"
          }
        }
      ]
    },
    {
      "cell_type": "code",
      "metadata": {
        "id": "hizSkFzzfDDk",
        "colab": {
          "base_uri": "https://localhost:8080/",
          "height": 298
        },
        "outputId": "90831492-a817-4b11-91e3-6cb699a322f1"
      },
      "source": [
        "#training and validation loss\n",
        "plt.plot(epochs,loss,label='Training_loss',color='blue')\n",
        "plt.plot(epochs,val_loss,label='Validation_loss',color='red')\n",
        "plt.legend()\n",
        "plt.title(\"Training and Validation loss\")"
      ],
      "execution_count": 19,
      "outputs": [
        {
          "output_type": "execute_result",
          "data": {
            "text/plain": [
              "Text(0.5, 1.0, 'Training and Validation loss')"
            ]
          },
          "metadata": {},
          "execution_count": 19
        },
        {
          "output_type": "display_data",
          "data": {
            "text/plain": [
              "<Figure size 432x288 with 1 Axes>"
            ],
            "image/png": "[encoded data removed]"
          },
          "metadata": {
            "needs_background": "light"
          }
        }
      ]
    },
    {
      "cell_type": "code",
      "metadata": {
        "id": "3rli10oJV0Qm",
        "colab": {
          "base_uri": "https://localhost:8080/",
          "height": 49
        },
        "outputId": "a1c97ed7-d7e1-411b-8aa3-c422a745d30b"
      },
      "source": [
        "#model history\n",
        "import pandas as pd\n",
        "loss_df = pd.DataFrame(DenseNet121_Model.history.history)\n",
        "loss_df"
      ],
      "execution_count": 20,
      "outputs": [
        {
          "output_type": "execute_result",
          "data": {
            "text/plain": [
              "Empty DataFrame\n",
              "Columns: []\n",
              "Index: []"
            ],
            "text/html": [
              "\n",
              "  <div id=\"df-c5428e8a-e3bf-443e-ac81-cf5a40f628b8\">\n",
              "    <div class=\"colab-df-container\">\n",
              "      <div>\n",
              "<style scoped>\n",
              "    .dataframe tbody tr th:only-of-type {\n",
              "        vertical-align: middle;\n",
              "    }\n",
              "\n",
              "    .dataframe tbody tr th {\n",
              "        vertical-align: top;\n",
              "    }\n",
              "\n",
              "    .dataframe thead th {\n",
              "        text-align: right;\n",
              "    }\n",
              "</style>\n",
              "<table border=\"1\" class=\"dataframe\">\n",
              "  <thead>\n",
              "    <tr style=\"text-align: right;\">\n",
              "      <th></th>\n",
              "    </tr>\n",
              "  </thead>\n",
              "  <tbody>\n",
              "  </tbody>\n",
              "</table>\n",
              "</div>\n",
              "      <button class=\"colab-df-convert\" onclick=\"convertToInteractive('df-c5428e8a-e3bf-443e-ac81-cf5a40f628b8')\"\n",
              "              title=\"Convert this dataframe to an interactive table.\"\n",
              "              style=\"display:none;\">\n",
              "        \n",
              "  <svg xmlns=\"http://www.w3.org/2000/svg\" height=\"24px\"viewBox=\"0 0 24 24\"\n",
              "       width=\"24px\">\n",
              "    <path d=\"M0 0h24v24H0V0z\" fill=\"none\"/>\n",
              "    <path d=\"M18.56 5.44l.94 2.06.94-2.06 2.06-.94-2.06-.94-.94-2.06-.94 2.06-2.06.94zm-11 1L8.5 8.5l.94-2.06 2.06-.94-2.06-.94L8.5 2.5l-.94 2.06-2.06.94zm10 10l.94 2.06.94-2.06 2.06-.94-2.06-.94-.94-2.06-.94 2.06-2.06.94z\"/><path d=\"M17.41 7.96l-1.37-1.37c-.4-.4-.92-.59-1.43-.59-.52 0-1.04.2-1.43.59L10.3 9.45l-7.72 7.72c-.78.78-.78 2.05 0 2.83L4 21.41c.39.39.9.59 1.41.59.51 0 1.02-.2 1.41-.59l7.78-7.78 2.81-2.81c.8-.78.8-2.07 0-2.86zM5.41 20L4 18.59l7.72-7.72 1.47 1.35L5.41 20z\"/>\n",
              "  </svg>\n",
              "      </button>\n",
              "      \n",
              "  <style>\n",
              "    .colab-df-container {\n",
              "      display:flex;\n",
              "      flex-wrap:wrap;\n",
              "      gap: 12px;\n",
              "    }\n",
              "\n",
              "    .colab-df-convert {\n",
              "      background-color: #E8F0FE;\n",
              "      border: none;\n",
              "      border-radius: 50%;\n",
              "      cursor: pointer;\n",
              "      display: none;\n",
              "      fill: #1967D2;\n",
              "      height: 32px;\n",
              "      padding: 0 0 0 0;\n",
              "      width: 32px;\n",
              "    }\n",
              "\n",
              "    .colab-df-convert:hover {\n",
              "      background-color: #E2EBFA;\n",
              "      box-shadow: 0px 1px 2px rgba(60, 64, 67, 0.3), 0px 1px 3px 1px rgba(60, 64, 67, 0.15);\n",
              "      fill: #174EA6;\n",
              "    }\n",
              "\n",
              "    [theme=dark] .colab-df-convert {\n",
              "      background-color: #3B4455;\n",
              "      fill: #D2E3FC;\n",
              "    }\n",
              "\n",
              "    [theme=dark] .colab-df-convert:hover {\n",
              "      background-color: #434B5C;\n",
              "      box-shadow: 0px 1px 3px 1px rgba(0, 0, 0, 0.15);\n",
              "      filter: drop-shadow(0px 1px 2px rgba(0, 0, 0, 0.3));\n",
              "      fill: #FFFFFF;\n",
              "    }\n",
              "  </style>\n",
              "\n",
              "      <script>\n",
              "        const buttonEl =\n",
              "          document.querySelector('#df-c5428e8a-e3bf-443e-ac81-cf5a40f628b8 button.colab-df-convert');\n",
              "        buttonEl.style.display =\n",
              "          google.colab.kernel.accessAllowed ? 'block' : 'none';\n",
              "\n",
              "        async function convertToInteractive(key) {\n",
              "          const element = document.querySelector('#df-c5428e8a-e3bf-443e-ac81-cf5a40f628b8');\n",
              "          const dataTable =\n",
              "            await google.colab.kernel.invokeFunction('convertToInteractive',\n",
              "                                                     [key], {});\n",
              "          if (!dataTable) return;\n",
              "\n",
              "          const docLinkHtml = 'Like what you see? Visit the ' +\n",
              "            '<a target=\"_blank\" href=https://colab.research.google.com/notebooks/data_table.ipynb>data table notebook</a>'\n",
              "            + ' to learn more about interactive tables.';\n",
              "          element.innerHTML = '';\n",
              "          dataTable['output_type'] = 'display_data';\n",
              "          await google.colab.output.renderOutput(dataTable, element);\n",
              "          const docLink = document.createElement('div');\n",
              "          docLink.innerHTML = docLinkHtml;\n",
              "          element.appendChild(docLink);\n",
              "        }\n",
              "      </script>\n",
              "    </div>\n",
              "  </div>\n",
              "  "
            ]
          },
          "metadata": {},
          "execution_count": 20
        }
      ]
    },
    {
      "cell_type": "code",
      "metadata": {
        "id": "pVhHZQq7V0s7",
        "colab": {
          "base_uri": "https://localhost:8080/"
        },
        "outputId": "3e5d5691-c759-441d-8634-7c23654b4fe2"
      },
      "source": [
        "#model evaluation on testing\n",
        "\n",
        "from keras.models import load_model\n",
        "\n",
        "#model.load_weights(\"\")\n",
        "DenseNet121_Model.evaluate(test_set)"
      ],
      "execution_count": 21,
      "outputs": [
        {
          "output_type": "stream",
          "name": "stdout",
          "text": [
            "28/28 [==============================] - 6s 211ms/step - loss: 3.2196 - accuracy: 0.3613 - precision: 0.3961 - recall: 0.7056\n"
          ]
        },
        {
          "output_type": "execute_result",
          "data": {
            "text/plain": [
              "[3.219634771347046,\n",
              " 0.36131593585014343,\n",
              " 0.39605221152305603,\n",
              " 0.7056154012680054]"
            ]
          },
          "metadata": {},
          "execution_count": 21
        }
      ]
    },
    {
      "cell_type": "code",
      "metadata": {
        "id": "zIls-1pvV1Il",
        "colab": {
          "base_uri": "https://localhost:8080/"
        },
        "outputId": "09dd1b46-e166-49ef-fe0b-7456b0b4820f"
      },
      "source": [
        "#prediction on test data\n",
        "predictions = np.argmax(DenseNet121_Model.predict(test_set), axis = -1)"
      ],
      "execution_count": 22,
      "outputs": [
        {
          "output_type": "stream",
          "name": "stdout",
          "text": [
            "28/28 [==============================] - 8s 215ms/step\n"
          ]
        }
      ]
    },
    {
      "cell_type": "code",
      "metadata": {
        "id": "ocImVMTrV1k9",
        "colab": {
          "base_uri": "https://localhost:8080/"
        },
        "outputId": "089948c2-293d-4592-80f7-f47f5a11595c"
      },
      "source": [
        "#classification report\n",
        "print(classification_report(test_set.classes,predictions))"
      ],
      "execution_count": 23,
      "outputs": [
        {
          "output_type": "stream",
          "name": "stdout",
          "text": [
            "              precision    recall  f1-score   support\n",
            "\n",
            "           0       0.81      0.57      0.67       362\n",
            "           1       0.18      0.96      0.30       246\n",
            "           2       0.98      0.11      0.19      1020\n",
            "           3       0.94      0.62      0.75       135\n",
            "\n",
            "    accuracy                           0.36      1763\n",
            "   macro avg       0.73      0.57      0.48      1763\n",
            "weighted avg       0.83      0.36      0.35      1763\n",
            "\n"
          ]
        }
      ]
    },
    {
      "cell_type": "code",
      "metadata": {
        "id": "3Yz7Zxc-V2CF"
      },
      "source": [
        "# compute the confusion matrix and and use it to derive the raw\n",
        "# accuracy, sensitivity, and specificity\n",
        "cm = confusion_matrix(test_set.classes, predictions)\n",
        "sensitivity = cm[0, 0] / (cm[0, 0] + cm[0, 1])\n",
        "specificity = cm[1, 1] / (cm[1, 0] + cm[1, 1])"
      ],
      "execution_count": 24,
      "outputs": []
    },
    {
      "cell_type": "code",
      "metadata": {
        "id": "zT3aik9XpIKk",
        "colab": {
          "base_uri": "https://localhost:8080/",
          "height": 369
        },
        "outputId": "09136afe-9eef-4a98-f823-cfa7f8b8541d"
      },
      "source": [
        "import seaborn as sns\n",
        "print(confusion_matrix(test_set.classes,predictions))\n",
        "sns.heatmap(confusion_matrix(test_set.classes,predictions), annot = True)\n",
        "# show the sensitivity, and specificity\n",
        "print(\"sensitivity: {:.4f}\".format(sensitivity))\n",
        "print(\"specificity: {:.4f}\".format(specificity))"
      ],
      "execution_count": 25,
      "outputs": [
        {
          "output_type": "stream",
          "name": "stdout",
          "text": [
            "[[208 154   0   0]\n",
            " [  9 236   1   0]\n",
            " [ 25 881 109   5]\n",
            " [ 14  36   1  84]]\n",
            "sensitivity: 0.5746\n",
            "specificity: 0.9633\n"
          ]
        },
        {
          "output_type": "display_data",
          "data": {
            "text/plain": [
              "<Figure size 432x288 with 2 Axes>"
            ],
            "image/png": "[encoded data removed]"
          },
          "metadata": {
            "needs_background": "light"
          }
        }
      ]
    },
    {
      "cell_type": "code",
      "execution_count": 26,
      "metadata": {
        "id": "8w_awKBLKs87"
      },
      "outputs": [],
      "source": [
        "from numpy import sqrt"
      ]
    },
    {
      "cell_type": "code",
      "execution_count": 27,
      "metadata": {
        "id": "wf4wnko9AWls",
        "colab": {
          "base_uri": "https://localhost:8080/"
        },
        "outputId": "45874ae8-8f34-47bb-d9d6-df8ca63df74a"
      },
      "outputs": [
        {
          "output_type": "stream",
          "name": "stdout",
          "text": [
            "G_Mean:  0.7439612946503069\n"
          ]
        }
      ],
      "source": [
        "G_Mean = sqrt(sensitivity * specificity)\n",
        "print(\"G_Mean: \", G_Mean)"
      ]
    },
    {
      "cell_type": "code",
      "execution_count": 28,
      "metadata": {
        "id": "o_G1i4iLBe4t"
      },
      "outputs": [],
      "source": [
        "True_Positive_Rate = cm[0, 0] / (cm[0, 0] + cm[0, 1])\n",
        "False_Positive_Rate = cm[1, 0] / (cm[1, 0] + cm[1, 1])"
      ]
    },
    {
      "cell_type": "code",
      "execution_count": 29,
      "metadata": {
        "id": "_YzMjnD2CAy9",
        "colab": {
          "base_uri": "https://localhost:8080/"
        },
        "outputId": "41bb0547-e925-4394-901b-3366569cdbc3"
      },
      "outputs": [
        {
          "output_type": "stream",
          "name": "stdout",
          "text": [
            "True_Positive_Rate: 0.5746\n",
            "False_Positive_Rate: 0.0367\n"
          ]
        }
      ],
      "source": [
        "print(\"True_Positive_Rate: {:.4f}\".format(True_Positive_Rate))\n",
        "print(\"False_Positive_Rate: {:.4f}\".format(False_Positive_Rate))"
      ]
    },
    {
      "cell_type": "markdown",
      "metadata": {
        "id": "G0r3QSYWgJIz"
      },
      "source": [
        "# **ROC**"
      ]
    },
    {
      "cell_type": "code",
      "execution_count": 30,
      "metadata": {
        "id": "4oMXTGIIyMRL",
        "colab": {
          "base_uri": "https://localhost:8080/"
        },
        "outputId": "a28fdd7c-69d8-45ff-d244-9f2fa2b12859"
      },
      "outputs": [
        {
          "output_type": "stream",
          "name": "stdout",
          "text": [
            "<keras.preprocessing.image.DirectoryIterator object at 0x7f91edfd1510>\n",
            "[1 0 0 ... 3 3 3]\n"
          ]
        }
      ],
      "source": [
        "print(test_set)\n",
        "print(predictions)"
      ]
    },
    {
      "cell_type": "code",
      "execution_count": 31,
      "metadata": {
        "id": "OqXtMjgLCxg1",
        "colab": {
          "base_uri": "https://localhost:8080/"
        },
        "outputId": "e0828c68-5844-47b9-a041-4b9a005806e4"
      },
      "outputs": [
        {
          "output_type": "stream",
          "name": "stdout",
          "text": [
            "(1763, 4)\n"
          ]
        }
      ],
      "source": [
        "testsetTo = np.concatenate([test_set.next()[1] for i in range(test_set.__len__())])\n",
        "print(testsetTo.shape)"
      ]
    },
    {
      "cell_type": "code",
      "execution_count": 32,
      "metadata": {
        "id": "fVtTlUa7SivZ"
      },
      "outputs": [],
      "source": [
        "from scipy import interp\n",
        "import matplotlib.pyplot as plt\n",
        "from sklearn.metrics import roc_curve, auc"
      ]
    },
    {
      "cell_type": "code",
      "execution_count": 33,
      "metadata": {
        "id": "ewnd0Mor2ixG"
      },
      "outputs": [],
      "source": [
        "#ROC-AUC Curve\n",
        "# Learn to predict each class against the other\n",
        "n_classes = 4 \n",
        "# Compute ROC curve and ROC area for each class\n",
        "fpr = dict()\n",
        "tpr = dict()\n",
        "thresh = dict()\n",
        "roc_auc = dict()\n",
        "lw = 2 \n",
        "for i in range(n_classes):\n",
        "    fpr[i], tpr[i], thresh[i] = roc_curve(np.argmax(testsetTo, axis=1), predictions, pos_label=i)\n",
        "    roc_auc[i] = auc(fpr[i], tpr[i])"
      ]
    },
    {
      "cell_type": "code",
      "execution_count": 34,
      "metadata": {
        "id": "gVgL6uwboEUn"
      },
      "outputs": [],
      "source": [
        "# Compute micro-average ROC curve and ROC area\n",
        "fpr[\"micro\"], tpr[\"micro\"], thresh[i] = roc_curve(np.argmax(testsetTo, axis=1), predictions, pos_label=i) \n",
        "roc_auc[\"micro\"] = auc(fpr[\"micro\"], tpr[\"micro\"])"
      ]
    },
    {
      "cell_type": "code",
      "execution_count": 35,
      "metadata": {
        "id": "sHDd3VDr8lkm",
        "colab": {
          "base_uri": "https://localhost:8080/",
          "height": 350
        },
        "outputId": "47ce5be9-ca61-4fb7-f53e-2d97065c269f"
      },
      "outputs": [
        {
          "output_type": "stream",
          "name": "stderr",
          "text": [
            "/usr/local/lib/python3.7/dist-packages/ipykernel_launcher.py:11: DeprecationWarning: scipy.interp is deprecated and will be removed in SciPy 2.0.0, use numpy.interp instead\n",
            "  # This is added back by InteractiveShellApp.init_path()\n"
          ]
        },
        {
          "output_type": "display_data",
          "data": {
            "text/plain": [
              "<Figure size 432x288 with 1 Axes>"
            ],
            "image/png": "[encoded data removed]"
          },
          "metadata": {
            "needs_background": "light"
          }
        }
      ],
      "source": [
        "# Process of plotting roc-auc curve belonging to all classes.\n",
        "\n",
        "from itertools import cycle\n",
        "roc_auc_scores = []\n",
        "# First aggregate all false positive rates\n",
        "all_fpr = np.unique(np.concatenate([fpr[i] for i in range(n_classes)]))\n",
        "\n",
        "# Then interpolate all ROC curves at this points\n",
        "mean_tpr = np.zeros_like(all_fpr)\n",
        "for i in range(n_classes):\n",
        "    mean_tpr += interp(all_fpr, fpr[i], tpr[i])\n",
        "\n",
        "# Finally average it and compute AUC\n",
        "mean_tpr /= n_classes\n",
        "\n",
        "fpr[\"macro\"] = all_fpr\n",
        "tpr[\"macro\"] = mean_tpr\n",
        "roc_auc[\"macro\"] = auc(fpr[\"macro\"], tpr[\"macro\"])\n",
        "\n",
        "# Plot all ROC curves\n",
        "plt.figure()\n",
        "plt.plot(fpr[\"micro\"], tpr[\"micro\"],\n",
        "         label='micro-average ROC curve (area = {0:0.2f})'\n",
        "               ''.format(roc_auc[\"micro\"]),\n",
        "         color='deeppink', linestyle=':', linewidth=4)\n",
        "\n",
        "plt.plot(fpr[\"macro\"], tpr[\"macro\"],\n",
        "         label='macro-average ROC curve (area = {0:0.2f})'\n",
        "               ''.format(roc_auc[\"macro\"]),\n",
        "         color='navy', linestyle=':', linewidth=4)\n",
        "\n",
        "colors = cycle(['red', 'darkorange', 'cornflowerblue', 'aqua'])\n",
        "for i, color in zip(range(n_classes), colors):\n",
        "    plt.plot(fpr[i], tpr[i], color=color, lw=lw,\n",
        "             label='ROC curve of class {0} (area = {1:0.2f})'\n",
        "             ''.format(i, roc_auc[i]))\n",
        "    roc_auc_scores.append(roc_auc[i])\n",
        "\n",
        "plt.plot([0, 1], [0, 1], 'k--', lw=lw)\n",
        "plt.xlim([0.0, 1.0])\n",
        "plt.ylim([0.0, 1.05])\n",
        "plt.xlabel('False Positive Rate')\n",
        "plt.ylabel('True Positive Rate')\n",
        "plt.title('ROC Curve to each class')\n",
        "plt.legend(loc=\"lower right\")\n",
        "plt.show()"
      ]
    }
  ]
}