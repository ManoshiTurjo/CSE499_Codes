{
  "cells": [
    {
      "cell_type": "code",
      "execution_count": 1,
      "metadata": {
        "id": "Yid6nfv5m-Fw"
      },
      "outputs": [],
      "source": [
        "import pandas as pd\n",
        "import numpy as np\n",
        "import tensorflow as tf\n",
        "from glob import glob\n",
        "import seaborn as sns\n",
        "import matplotlib.pyplot as plt\n",
        "import random\n",
        "import os\n",
        "import cv2\n",
        "\n",
        "!pip install opendatasets --upgrade --quiet\n",
        "import opendatasets as od"
      ]
    },
    {
      "cell_type": "code",
      "execution_count": 2,
      "metadata": {
        "id": "8A5p3rr0nVp8"
      },
      "outputs": [],
      "source": [
        "from tensorflow import keras\n",
        "from tensorflow.keras.preprocessing.image import ImageDataGenerator\n",
        "from tensorflow.keras.layers import Conv2D\n",
        "from tensorflow.keras.layers import MaxPooling2D\n",
        "from tensorflow.keras.layers import AveragePooling2D\n",
        "from tensorflow.keras.layers import GlobalAveragePooling2D\n",
        "from tensorflow.keras.optimizers import RMSprop,Adam\n",
        "from tensorflow.keras.models import Sequential\n",
        "from tensorflow.keras.layers import Dropout\n",
        "from tensorflow.keras.layers import Flatten\n",
        "from tensorflow.keras.layers import Input\n",
        "from tensorflow.keras.layers import Dense\n",
        "#from keras.layers.merge import concatenate\n",
        "from tensorflow.keras.models import Model\n",
        "from keras.preprocessing import image\n",
        "from keras.layers import Dense, Flatten, AveragePooling2D, Dropout\n",
        "from tensorflow.keras.optimizers import Adam\n",
        "from tensorflow.keras.utils import to_categorical\n",
        "from sklearn.preprocessing import LabelBinarizer\n",
        "from sklearn.model_selection import train_test_split\n",
        "from sklearn.metrics import classification_report\n",
        "from sklearn.model_selection import train_test_split\n",
        "from sklearn.metrics import confusion_matrix\n",
        "from imutils import paths\n",
        "import argparse"
      ]
    },
    {
      "cell_type": "code",
      "execution_count": 4,
      "metadata": {
        "id": "DcKu8cXzUWNF"
      },
      "outputs": [],
      "source": [
        "from tensorflow.keras.layers import Dense,Conv2D,MaxPool2D,Flatten,Dropout,BatchNormalization,Activation\n",
        "from tensorflow.keras.preprocessing.image import ImageDataGenerator\n",
        "import matplotlib.pyplot as plt\n",
        "#from keras.preprocessing.image import load_img,img_to_array"
      ]
    },
    {
      "cell_type": "code",
      "execution_count": 5,
      "metadata": {
        "colab": {
          "base_uri": "https://localhost:8080/"
        },
        "id": "8QykD-gJoBUY",
        "outputId": "ed95b4a1-b849-476e-f335-4024663c4c43"
      },
      "outputs": [
        {
          "output_type": "stream",
          "name": "stdout",
          "text": [
            "Mounted at /content/drive\n"
          ]
        }
      ],
      "source": [
        "from google.colab import drive\n",
        "drive.mount('/content/drive')"
      ]
    },
    {
      "cell_type": "code",
      "execution_count": 6,
      "metadata": {
        "id": "S0i5VL9xoCPN"
      },
      "outputs": [],
      "source": [
        "dataset_url = 'https://www.kaggle.com/datasets/tawsifurrahman/covid19-radiography-database?recency=last7Days'\n",
        "data_dir = '/content/COVID-19_Radiography_Dataset'"
      ]
    },
    {
      "cell_type": "code",
      "source": [
        "# #load training and testing dataset from output directory where the split is fixed for all models\n",
        "# train_datagen=ImageDataGenerator(rescale = 1./255,\n",
        "#                                    rotation_range=15,\n",
        "#                                    fill_mode=\"nearest\",\n",
        "#                                    horizontal_flip = True)\n",
        "# valid_datagen=ImageDataGenerator(rescale = 1./255)\n",
        "# test_datagen=ImageDataGenerator(rescale = 1./255)\n",
        "\n",
        "# training_set=train_datagen.flow_from_directory('/content/drive/MyDrive/New_DS/output/train',\n",
        "#                                                  target_size = (224, 224),\n",
        "#                                                  batch_size = 64,\n",
        "#                                                  class_mode = 'categorical',\n",
        "#                                                  shuffle=True)\n",
        "# valid_set=valid_datagen.flow_from_directory('/content/drive/MyDrive/New_DS/output/val',\n",
        "#                                             target_size = (224, 224),\n",
        "#                                             batch_size = 64,\n",
        "#                                             class_mode = 'categorical',\n",
        "#                                             shuffle = False)\n",
        "# test_set=test_datagen.flow_from_directory('/content/drive/MyDrive/New_DS/output/test',\n",
        "#                                             target_size = (224, 224),\n",
        "#                                             batch_size = 64,\n",
        "#                                             class_mode = 'categorical',\n",
        "#                                             shuffle = False)"
      ],
      "metadata": {
        "id": "Lb3z3xOvQZ6S"
      },
      "execution_count": null,
      "outputs": []
    },
    {
      "cell_type": "code",
      "execution_count": 7,
      "metadata": {
        "id": "5iE4mI-XbGlb",
        "colab": {
          "base_uri": "https://localhost:8080/"
        },
        "outputId": "7d0884e4-77f2-478e-e041-c93b1d6019a3"
      },
      "outputs": [
        {
          "output_type": "stream",
          "name": "stdout",
          "text": [
            "Looking in indexes: https://pypi.org/simple, https://us-python.pkg.dev/colab-wheels/public/simple/\n",
            "Collecting split-folders\n",
            "  Downloading split_folders-0.5.1-py3-none-any.whl (8.4 kB)\n",
            "Installing collected packages: split-folders\n",
            "Successfully installed split-folders-0.5.1\n"
          ]
        },
        {
          "output_type": "stream",
          "name": "stderr",
          "text": [
            "Copying files: 17606 files [06:34, 44.60 files/s] \n"
          ]
        }
      ],
      "source": [
        "!pip install split-folders\n",
        "import splitfolders\n",
        "input_folder = '/content/drive/MyDrive/Covid_DS/Covid19_Radiography Dataset'\n",
        "splitfolders.ratio( input_folder,\n",
        "                   output=\"output\",seed=1337,ratio=(0.7,0.2,0.1)) "
      ]
    },
    {
      "cell_type": "code",
      "execution_count": 8,
      "metadata": {
        "id": "Z0jXKuyVbM19",
        "colab": {
          "base_uri": "https://localhost:8080/"
        },
        "outputId": "40cd977e-b458-41c8-faaf-df4b1936d337"
      },
      "outputs": [
        {
          "output_type": "stream",
          "name": "stdout",
          "text": [
            "Found 12323 images belonging to 4 classes.\n",
            "Found 3520 images belonging to 4 classes.\n",
            "Found 1763 images belonging to 4 classes.\n"
          ]
        }
      ],
      "source": [
        "#load training and testing dataset from directory\n",
        "train_datagen=ImageDataGenerator(rescale = 1./255,\n",
        "                                   rotation_range=15,\n",
        "                                   fill_mode=\"nearest\",\n",
        "                                   horizontal_flip = True)\n",
        "valid_datagen=ImageDataGenerator(rescale = 1./255)\n",
        "test_datagen=ImageDataGenerator(rescale = 1./255)\n",
        "\n",
        "training_set=train_datagen.flow_from_directory('/content/output/train',\n",
        "                                                 target_size = (224, 224),\n",
        "                                                 batch_size = 64,\n",
        "                                                 class_mode = 'categorical',\n",
        "                                                 shuffle=True)\n",
        "valid_set=valid_datagen.flow_from_directory('/content/output/val',\n",
        "                                            target_size = (224, 224),\n",
        "                                            batch_size = 64,\n",
        "                                            class_mode = 'categorical',\n",
        "                                            shuffle = False)\n",
        "test_set=test_datagen.flow_from_directory('/content/output/test',\n",
        "                                            target_size = (224, 224),\n",
        "                                            batch_size = 64,\n",
        "                                            class_mode = 'categorical',\n",
        "                                            shuffle = False)"
      ]
    },
    {
      "cell_type": "code",
      "execution_count": 10,
      "metadata": {
        "colab": {
          "base_uri": "https://localhost:8080/"
        },
        "id": "who98HksoNQr",
        "outputId": "977dec46-7083-4c37-d57f-084a05db8e02"
      },
      "outputs": [
        {
          "output_type": "stream",
          "name": "stdout",
          "text": [
            "{'COVID': 0, 'Lung_Opacity': 1, 'Normal': 2, 'Viral Pneumonia': 3}\n",
            "{'COVID': 0, 'Lung_Opacity': 1, 'Normal': 2, 'Viral Pneumonia': 3}\n",
            "{'COVID': 0, 'Lung_Opacity': 1, 'Normal': 2, 'Viral Pneumonia': 3}\n"
          ]
        }
      ],
      "source": [
        "print(training_set.class_indices)\n",
        "print(valid_set.class_indices)\n",
        "print(test_set.class_indices)"
      ]
    },
    {
      "cell_type": "code",
      "execution_count": 11,
      "metadata": {
        "colab": {
          "base_uri": "https://localhost:8080/",
          "height": 283
        },
        "id": "JAQ7HnmRoNHq",
        "outputId": "3e3824df-c688-4c9e-eec5-8b8716b6323a"
      },
      "outputs": [
        {
          "output_type": "execute_result",
          "data": {
            "text/plain": [
              "<matplotlib.legend.Legend at 0x7f1d294aebd0>"
            ]
          },
          "metadata": {},
          "execution_count": 11
        },
        {
          "output_type": "display_data",
          "data": {
            "text/plain": [
              "<Figure size 432x288 with 1 Axes>"
            ],
            "image/png": "[encoded data removed]"
          },
          "metadata": {
            "needs_background": "light"
          }
        }
      ],
      "source": [
        "#visulaize data\n",
        "fig, ax = plt.subplots()\n",
        "ax.bar(\"COVID-19\",3616,color=\"r\",label=\"Covid19\")\n",
        "ax.bar(\"Lung_Opacity\",6012 ,color=\"b\",label=\"Lung_Opacity\")\n",
        "ax.bar(\"NORMAL\",10192,color=\"m\",label=\"Normal\")\n",
        "ax.bar(\"Viral Pneumonia\",1345 ,color=\"g\",label=\"Viral Pneumonia\")\n",
        "ax.legend()"
      ]
    },
    {
      "cell_type": "code",
      "execution_count": 12,
      "metadata": {
        "colab": {
          "base_uri": "https://localhost:8080/"
        },
        "id": "TJphyFAtjfiC",
        "outputId": "d47e34d3-38a4-4bac-a716-7a6b9e1a05eb"
      },
      "outputs": [
        {
          "output_type": "stream",
          "name": "stdout",
          "text": [
            "Downloading data from https://storage.googleapis.com/tensorflow/keras-applications/vgg19/vgg19_weights_tf_dim_ordering_tf_kernels_notop.h5\n",
            "80134624/80134624 [==============================] - 0s 0us/step\n",
            "Model: \"sequential\"\n",
            "_________________________________________________________________\n",
            " Layer (type)                Output Shape              Param #   \n",
            "=================================================================\n",
            " vgg19 (Functional)          (None, 7, 7, 512)         20024384  \n",
            "                                                                 \n",
            " dense (Dense)               (None, 7, 7, 1024)        525312    \n",
            "                                                                 \n",
            " flatten (Flatten)           (None, 50176)             0         \n",
            "                                                                 \n",
            " dense_1 (Dense)             (None, 4)                 200708    \n",
            "                                                                 \n",
            "=================================================================\n",
            "Total params: 20,750,404\n",
            "Trainable params: 5,445,636\n",
            "Non-trainable params: 15,304,768\n",
            "_________________________________________________________________\n"
          ]
        }
      ],
      "source": [
        "from tensorflow.keras.applications.vgg19 import VGG19\n",
        "VGG19_MODEL = VGG19(input_shape = (224, 224, 3), include_top = False, weights = 'imagenet')\n",
        "VGG19_MODEL.summary\n",
        "for layer in VGG19_MODEL.layers[:19]:\n",
        "    layer.trainable = False\n",
        "\n",
        "VGG19_MODEL = Sequential(\n",
        "    [\n",
        "        VGG19_MODEL,\n",
        "        Dense(1024,activation='relu'),\n",
        "        Flatten(),\n",
        "        Dense(4, activation = 'softmax')\n",
        "    ]\n",
        ")\n",
        "VGG19_MODEL.summary()"
      ]
    },
    {
      "cell_type": "code",
      "source": [
        "tf.keras.callbacks.ReduceLROnPlateau\n",
        "from keras.callbacks import LearningRateScheduler"
      ],
      "metadata": {
        "id": "Lq75GuS8ao0y"
      },
      "execution_count": 13,
      "outputs": []
    },
    {
      "cell_type": "code",
      "source": [
        "#to avoid overfitting\n",
        "early = tf.keras.callbacks.EarlyStopping(monitor='val_accuracy', patience=5)"
      ],
      "metadata": {
        "id": "Zh-tw7SmZl7i"
      },
      "execution_count": 14,
      "outputs": []
    },
    {
      "cell_type": "code",
      "source": [
        "epochs = 100\n",
        "learning_rate = 0.001\n",
        "decay_rate = learning_rate / epochs\n",
        "optimizer_details = Adam(lr = learning_rate, decay = decay_rate)"
      ],
      "metadata": {
        "colab": {
          "base_uri": "https://localhost:8080/"
        },
        "id": "emt6Q1F2kxcf",
        "outputId": "487926d4-ca67-4775-f1e7-feac28e2c76d"
      },
      "execution_count": 15,
      "outputs": [
        {
          "output_type": "stream",
          "name": "stderr",
          "text": [
            "/usr/local/lib/python3.7/dist-packages/keras/optimizers/optimizer_v2/adam.py:110: UserWarning: The `lr` argument is deprecated, use `learning_rate` instead.\n",
            "  super(Adam, self).__init__(name, **kwargs)\n"
          ]
        }
      ]
    },
    {
      "cell_type": "code",
      "source": [
        "VGG19_MODEL.compile(optimizer = optimizer_details, \n",
        "              loss='categorical_crossentropy',\n",
        "              metrics=['accuracy','Precision','Recall'])\n",
        "history = VGG19_MODEL.fit_generator(training_set, validation_data = valid_set, epochs=epochs, verbose=1, callbacks=[early])"
      ],
      "metadata": {
        "id": "HdD9qSvtnH6j",
        "colab": {
          "base_uri": "https://localhost:8080/"
        },
        "outputId": "2d03126e-4fe5-4500-f27b-547287022716"
      },
      "execution_count": 16,
      "outputs": [
        {
          "output_type": "stream",
          "name": "stderr",
          "text": [
            "/usr/local/lib/python3.7/dist-packages/ipykernel_launcher.py:4: UserWarning: `Model.fit_generator` is deprecated and will be removed in a future version. Please use `Model.fit`, which supports generators.\n",
            "  after removing the cwd from sys.path.\n"
          ]
        },
        {
          "output_type": "stream",
          "name": "stdout",
          "text": [
            "Epoch 1/100\n",
            "193/193 [==============================] - 195s 944ms/step - loss: 0.8630 - accuracy: 0.6715 - precision: 0.7766 - recall: 0.5624 - val_loss: 0.5029 - val_accuracy: 0.8045 - val_precision: 0.8283 - val_recall: 0.7744\n",
            "Epoch 2/100\n",
            "193/193 [==============================] - 178s 923ms/step - loss: 0.4841 - accuracy: 0.8138 - precision: 0.8401 - recall: 0.7834 - val_loss: 0.3650 - val_accuracy: 0.8676 - val_precision: 0.8819 - val_recall: 0.8548\n",
            "Epoch 3/100\n",
            "193/193 [==============================] - 179s 924ms/step - loss: 0.3995 - accuracy: 0.8526 - precision: 0.8689 - recall: 0.8336 - val_loss: 0.3447 - val_accuracy: 0.8767 - val_precision: 0.8882 - val_recall: 0.8665\n",
            "Epoch 4/100\n",
            "193/193 [==============================] - 179s 926ms/step - loss: 0.3272 - accuracy: 0.8803 - precision: 0.8915 - recall: 0.8655 - val_loss: 0.2996 - val_accuracy: 0.8943 - val_precision: 0.9059 - val_recall: 0.8858\n",
            "Epoch 5/100\n",
            "193/193 [==============================] - 177s 919ms/step - loss: 0.2854 - accuracy: 0.8955 - precision: 0.9051 - recall: 0.8866 - val_loss: 0.2672 - val_accuracy: 0.9080 - val_precision: 0.9157 - val_recall: 0.9037\n",
            "Epoch 6/100\n",
            "193/193 [==============================] - 177s 917ms/step - loss: 0.2580 - accuracy: 0.9080 - precision: 0.9157 - recall: 0.9003 - val_loss: 0.2721 - val_accuracy: 0.9114 - val_precision: 0.9175 - val_recall: 0.9062\n",
            "Epoch 7/100\n",
            "193/193 [==============================] - 178s 921ms/step - loss: 0.2503 - accuracy: 0.9077 - precision: 0.9147 - recall: 0.9003 - val_loss: 0.3167 - val_accuracy: 0.8858 - val_precision: 0.8921 - val_recall: 0.8835\n",
            "Epoch 8/100\n",
            "193/193 [==============================] - 177s 918ms/step - loss: 0.2381 - accuracy: 0.9161 - precision: 0.9229 - recall: 0.9092 - val_loss: 0.2445 - val_accuracy: 0.9185 - val_precision: 0.9229 - val_recall: 0.9148\n",
            "Epoch 9/100\n",
            "193/193 [==============================] - 176s 913ms/step - loss: 0.2194 - accuracy: 0.9243 - precision: 0.9288 - recall: 0.9178 - val_loss: 0.2248 - val_accuracy: 0.9202 - val_precision: 0.9233 - val_recall: 0.9165\n",
            "Epoch 10/100\n",
            "193/193 [==============================] - 177s 917ms/step - loss: 0.2070 - accuracy: 0.9263 - precision: 0.9320 - recall: 0.9225 - val_loss: 0.2674 - val_accuracy: 0.9114 - val_precision: 0.9145 - val_recall: 0.9085\n",
            "Epoch 11/100\n",
            "193/193 [==============================] - 176s 913ms/step - loss: 0.1967 - accuracy: 0.9313 - precision: 0.9363 - recall: 0.9275 - val_loss: 0.2858 - val_accuracy: 0.9009 - val_precision: 0.9055 - val_recall: 0.8986\n",
            "Epoch 12/100\n",
            "193/193 [==============================] - 176s 911ms/step - loss: 0.1896 - accuracy: 0.9354 - precision: 0.9392 - recall: 0.9303 - val_loss: 0.2315 - val_accuracy: 0.9224 - val_precision: 0.9267 - val_recall: 0.9193\n",
            "Epoch 13/100\n",
            "193/193 [==============================] - 177s 916ms/step - loss: 0.1867 - accuracy: 0.9352 - precision: 0.9391 - recall: 0.9313 - val_loss: 0.2507 - val_accuracy: 0.9182 - val_precision: 0.9216 - val_recall: 0.9153\n",
            "Epoch 14/100\n",
            "193/193 [==============================] - 179s 924ms/step - loss: 0.1740 - accuracy: 0.9368 - precision: 0.9400 - recall: 0.9332 - val_loss: 0.2442 - val_accuracy: 0.9239 - val_precision: 0.9260 - val_recall: 0.9210\n",
            "Epoch 15/100\n",
            "193/193 [==============================] - 178s 920ms/step - loss: 0.1687 - accuracy: 0.9398 - precision: 0.9425 - recall: 0.9361 - val_loss: 0.2296 - val_accuracy: 0.9244 - val_precision: 0.9279 - val_recall: 0.9213\n",
            "Epoch 16/100\n",
            "193/193 [==============================] - 178s 923ms/step - loss: 0.1631 - accuracy: 0.9420 - precision: 0.9448 - recall: 0.9386 - val_loss: 0.2261 - val_accuracy: 0.9230 - val_precision: 0.9257 - val_recall: 0.9199\n",
            "Epoch 17/100\n",
            "193/193 [==============================] - 177s 914ms/step - loss: 0.1553 - accuracy: 0.9460 - precision: 0.9486 - recall: 0.9432 - val_loss: 0.2251 - val_accuracy: 0.9253 - val_precision: 0.9286 - val_recall: 0.9239\n",
            "Epoch 18/100\n",
            "193/193 [==============================] - 178s 923ms/step - loss: 0.1480 - accuracy: 0.9475 - precision: 0.9503 - recall: 0.9451 - val_loss: 0.2740 - val_accuracy: 0.9230 - val_precision: 0.9263 - val_recall: 0.9207\n",
            "Epoch 19/100\n",
            "193/193 [==============================] - 178s 922ms/step - loss: 0.1483 - accuracy: 0.9464 - precision: 0.9485 - recall: 0.9441 - val_loss: 0.2125 - val_accuracy: 0.9267 - val_precision: 0.9300 - val_recall: 0.9216\n",
            "Epoch 20/100\n",
            "193/193 [==============================] - 178s 923ms/step - loss: 0.1347 - accuracy: 0.9510 - precision: 0.9534 - recall: 0.9487 - val_loss: 0.2603 - val_accuracy: 0.9179 - val_precision: 0.9203 - val_recall: 0.9151\n",
            "Epoch 21/100\n",
            "193/193 [==============================] - 177s 914ms/step - loss: 0.1318 - accuracy: 0.9538 - precision: 0.9556 - recall: 0.9508 - val_loss: 0.2289 - val_accuracy: 0.9338 - val_precision: 0.9353 - val_recall: 0.9324\n",
            "Epoch 22/100\n",
            "193/193 [==============================] - 177s 917ms/step - loss: 0.1343 - accuracy: 0.9516 - precision: 0.9539 - recall: 0.9492 - val_loss: 0.2199 - val_accuracy: 0.9304 - val_precision: 0.9329 - val_recall: 0.9284\n",
            "Epoch 23/100\n",
            "193/193 [==============================] - 177s 915ms/step - loss: 0.1214 - accuracy: 0.9558 - precision: 0.9570 - recall: 0.9529 - val_loss: 0.2138 - val_accuracy: 0.9310 - val_precision: 0.9336 - val_recall: 0.9304\n",
            "Epoch 24/100\n",
            "193/193 [==============================] - 178s 924ms/step - loss: 0.1197 - accuracy: 0.9554 - precision: 0.9574 - recall: 0.9539 - val_loss: 0.2706 - val_accuracy: 0.9222 - val_precision: 0.9234 - val_recall: 0.9207\n",
            "Epoch 25/100\n",
            "193/193 [==============================] - 178s 921ms/step - loss: 0.1275 - accuracy: 0.9552 - precision: 0.9576 - recall: 0.9533 - val_loss: 0.2955 - val_accuracy: 0.9210 - val_precision: 0.9248 - val_recall: 0.9185\n",
            "Epoch 26/100\n",
            "193/193 [==============================] - 178s 919ms/step - loss: 0.1226 - accuracy: 0.9567 - precision: 0.9580 - recall: 0.9548 - val_loss: 0.2849 - val_accuracy: 0.9054 - val_precision: 0.9086 - val_recall: 0.9040\n"
          ]
        }
      ]
    },
    {
      "cell_type": "code",
      "source": [
        "VGG19_MODEL.evaluate(test_set, verbose=1)\n",
        "#***model.evaluate(test_set)"
      ],
      "metadata": {
        "id": "gUZ7x6etvbyE",
        "colab": {
          "base_uri": "https://localhost:8080/"
        },
        "outputId": "a8ecde48-e65c-4f25-e537-98486a85e5b4"
      },
      "execution_count": 17,
      "outputs": [
        {
          "output_type": "stream",
          "name": "stdout",
          "text": [
            "28/28 [==============================] - 10s 360ms/step - loss: 0.3045 - accuracy: 0.9058 - precision: 0.9101 - recall: 0.9019\n"
          ]
        },
        {
          "output_type": "execute_result",
          "data": {
            "text/plain": [
              "[0.30451878905296326,\n",
              " 0.9058423042297363,\n",
              " 0.9101316332817078,\n",
              " 0.9018718004226685]"
            ]
          },
          "metadata": {},
          "execution_count": 17
        }
      ]
    },
    {
      "cell_type": "code",
      "source": [
        "VGG19_MODEL.save('VGG19.h5')"
      ],
      "metadata": {
        "id": "-QIEfoYrvhoJ"
      },
      "execution_count": 18,
      "outputs": []
    },
    {
      "cell_type": "code",
      "source": [
        "#Accuracy, val_acc, loss, val_loss, epoch_range\n",
        "acc = history.history['accuracy']\n",
        "val_acc = history.history['val_accuracy']     #history2.history['accuracy']\n",
        "loss = history.history['loss']\n",
        "val_loss = history.history['val_loss']\n",
        "epochs=range(len(acc))"
      ],
      "metadata": {
        "id": "YFS6islRvhlY"
      },
      "execution_count": 19,
      "outputs": []
    },
    {
      "cell_type": "code",
      "source": [
        "print(\"accuracy: \",acc)\n",
        "print(\"validation accuracy: \",val_acc)\n",
        "print(\"loss: \",loss)\n",
        "print(\"validation loss: \",val_loss)\n",
        "print(\"epochs: \",epochs)"
      ],
      "metadata": {
        "id": "F-xemDWIvhi5",
        "colab": {
          "base_uri": "https://localhost:8080/"
        },
        "outputId": "af394a69-8aa1-4a6f-bfb8-4d338a7763ae"
      },
      "execution_count": 20,
      "outputs": [
        {
          "output_type": "stream",
          "name": "stdout",
          "text": [
            "accuracy:  [0.6715085506439209, 0.8138440251350403, 0.8526332974433899, 0.8803051114082336, 0.8954799771308899, 0.9079769253730774, 0.9076523780822754, 0.9160918593406677, 0.9242879152297974, 0.9263166189193726, 0.931266725063324, 0.9354053139686584, 0.9352430701255798, 0.9367848634719849, 0.9397873878479004, 0.941978394985199, 0.9459547400474548, 0.9474965333938599, 0.9464415907859802, 0.9509859681129456, 0.9538261890411377, 0.9516351819038391, 0.9557737708091736, 0.9553679823875427, 0.9552057385444641, 0.9566664099693298]\n",
            "validation accuracy:  [0.8045454621315002, 0.8676136136054993, 0.8767045736312866, 0.894318163394928, 0.9079545736312866, 0.9113636612892151, 0.8857954740524292, 0.9184659123420715, 0.9201704263687134, 0.9113636612892151, 0.9008522629737854, 0.9224432110786438, 0.918181836605072, 0.9238636493682861, 0.9244318008422852, 0.9230113625526428, 0.9252840876579285, 0.9230113625526428, 0.9267045259475708, 0.9178977012634277, 0.933806836605072, 0.9303977489471436, 0.9309659004211426, 0.9221590757369995, 0.9210227131843567, 0.9053977131843567]\n",
            "loss:  [0.8630208969116211, 0.4841097891330719, 0.39951977133750916, 0.32716330885887146, 0.2853860855102539, 0.25798970460891724, 0.25034603476524353, 0.23812077939510345, 0.21944592893123627, 0.2069757580757141, 0.19674113392829895, 0.18956176936626434, 0.1866631656885147, 0.1739501804113388, 0.16870543360710144, 0.163094162940979, 0.15526404976844788, 0.14800383150577545, 0.14826062321662903, 0.13470520079135895, 0.13183780014514923, 0.13425472378730774, 0.12143749743700027, 0.11966567486524582, 0.12753167748451233, 0.12264985591173172]\n",
            "validation loss:  [0.5028612613677979, 0.36500439047813416, 0.34465309977531433, 0.29961568117141724, 0.26716139912605286, 0.27210280299186707, 0.3166638910770416, 0.24453870952129364, 0.22478269040584564, 0.2674419581890106, 0.2857567071914673, 0.2315419763326645, 0.2507392168045044, 0.2441948503255844, 0.22959212958812714, 0.22612880170345306, 0.22507226467132568, 0.2740357220172882, 0.21254593133926392, 0.26026976108551025, 0.22891870141029358, 0.2199036031961441, 0.21383240818977356, 0.270609587430954, 0.2955258786678314, 0.2848511338233948]\n",
            "epochs:  range(0, 26)\n"
          ]
        }
      ]
    },
    {
      "cell_type": "code",
      "source": [
        "#plot training nad validation accuracy\n",
        "plt.plot(epochs,acc,label='Training_acc',color='blue')\n",
        "plt.plot(epochs,val_acc,label='Validation_acc',color='red')\n",
        "plt.legend()\n",
        "plt.title(\"Training and Validation Accuracy\")"
      ],
      "metadata": {
        "id": "nG5JdNqJvhgT",
        "colab": {
          "base_uri": "https://localhost:8080/",
          "height": 298
        },
        "outputId": "c47e7586-7a6e-4745-e44c-4b59d21b92fe"
      },
      "execution_count": 21,
      "outputs": [
        {
          "output_type": "execute_result",
          "data": {
            "text/plain": [
              "Text(0.5, 1.0, 'Training and Validation Accuracy')"
            ]
          },
          "metadata": {},
          "execution_count": 21
        },
        {
          "output_type": "display_data",
          "data": {
            "text/plain": [
              "<Figure size 432x288 with 1 Axes>"
            ],
            "image/png": "[encoded data removed]"
          },
          "metadata": {
            "needs_background": "light"
          }
        }
      ]
    },
    {
      "cell_type": "code",
      "source": [
        "#training and validation loss\n",
        "plt.plot(epochs,loss,label='Training_loss',color='blue')\n",
        "plt.plot(epochs,val_loss,label='Validation_loss',color='red')\n",
        "plt.legend()\n",
        "plt.title(\"Training and Validation loss\")"
      ],
      "metadata": {
        "id": "YZjvu4RSvyon",
        "colab": {
          "base_uri": "https://localhost:8080/",
          "height": 298
        },
        "outputId": "5212d41b-665c-4b34-c915-20544a69c1e2"
      },
      "execution_count": 22,
      "outputs": [
        {
          "output_type": "execute_result",
          "data": {
            "text/plain": [
              "Text(0.5, 1.0, 'Training and Validation loss')"
            ]
          },
          "metadata": {},
          "execution_count": 22
        },
        {
          "output_type": "display_data",
          "data": {
            "text/plain": [
              "<Figure size 432x288 with 1 Axes>"
            ],
            "image/png": "[encoded data removed]"
          },
          "metadata": {
            "needs_background": "light"
          }
        }
      ]
    },
    {
      "cell_type": "code",
      "source": [
        "acc = history.history['accuracy']\n",
        "val_acc = history.history['val_accuracy']\n",
        "\n",
        "train_precision=history.history['precision']\n",
        "val_precision=history.history['val_precision']\n",
        "\n",
        "train_recall=history.history['recall']\n",
        "val_recall=history.history['val_recall']\n",
        "\n",
        "loss = history.history['loss']\n",
        "val_loss = history.history['val_loss']\n",
        "\n",
        "epochs = range(len(acc))\n",
        "\n",
        "plt.plot(epochs, acc, 'r', label='Training accuracy')\n",
        "plt.plot(epochs, val_acc, 'b', label='Validation accuracy')\n",
        "plt.title('Training and validation accuracy')\n",
        "plt.legend()\n",
        "plt.figure()\n",
        "\n",
        "plt.plot(epochs, train_precision, 'r', label='Training precision')\n",
        "plt.plot(epochs, val_precision, 'b', label='Validation precision')\n",
        "plt.title('Training and validation precision')\n",
        "plt.legend()\n",
        "plt.figure()\n",
        "\n",
        "plt.plot(epochs, train_recall, 'r', label='Training recall')\n",
        "plt.plot(epochs, val_recall, 'b', label='Validation recall')\n",
        "plt.title('Training and validation recall')\n",
        "plt.legend()\n",
        "plt.figure()\n",
        "\n",
        "plt.plot(epochs, loss, 'r', label='Training Loss')\n",
        "plt.plot(epochs, val_loss, 'b', label='Validation Loss')\n",
        "plt.title('Training and validation loss')\n",
        "plt.legend()\n",
        "\n",
        "plt.show()"
      ],
      "metadata": {
        "id": "dyrf4iVLvyl0",
        "colab": {
          "base_uri": "https://localhost:8080/",
          "height": 1000
        },
        "outputId": "01eafde0-9dff-4130-f320-85edba833089"
      },
      "execution_count": 23,
      "outputs": [
        {
          "output_type": "display_data",
          "data": {
            "text/plain": [
              "<Figure size 432x288 with 1 Axes>"
            ],
            "image/png": "[encoded data removed]"
          },
          "metadata": {
            "needs_background": "light"
          }
        },
        {
          "output_type": "display_data",
          "data": {
            "text/plain": [
              "<Figure size 432x288 with 1 Axes>"
            ],
            "image/png": "[encoded data removed]"
          },
          "metadata": {
            "needs_background": "light"
          }
        },
        {
          "output_type": "display_data",
          "data": {
            "text/plain": [
              "<Figure size 432x288 with 1 Axes>"
            ],
            "image/png": "[encoded data removed]"
          },
          "metadata": {
            "needs_background": "light"
          }
        },
        {
          "output_type": "display_data",
          "data": {
            "text/plain": [
              "<Figure size 432x288 with 1 Axes>"
            ],
            "image/png": "[encoded data removed]"
          },
          "metadata": {
            "needs_background": "light"
          }
        }
      ]
    },
    {
      "cell_type": "code",
      "source": [
        "#model history\n",
        "import pandas as pd\n",
        "loss_df = pd.DataFrame(VGG19_MODEL.history.history)\n",
        "loss_df"
      ],
      "metadata": {
        "id": "oq6Blu37vyjR",
        "colab": {
          "base_uri": "https://localhost:8080/",
          "height": 49
        },
        "outputId": "44d08557-eaa4-49b3-96c4-883b2291efd4"
      },
      "execution_count": 24,
      "outputs": [
        {
          "output_type": "execute_result",
          "data": {
            "text/plain": [
              "Empty DataFrame\n",
              "Columns: []\n",
              "Index: []"
            ],
            "text/html": [
              "\n",
              "  <div id=\"df-50e910d1-b11b-4b78-a417-dedf9ae18ab1\">\n",
              "    <div class=\"colab-df-container\">\n",
              "      <div>\n",
              "<style scoped>\n",
              "    .dataframe tbody tr th:only-of-type {\n",
              "        vertical-align: middle;\n",
              "    }\n",
              "\n",
              "    .dataframe tbody tr th {\n",
              "        vertical-align: top;\n",
              "    }\n",
              "\n",
              "    .dataframe thead th {\n",
              "        text-align: right;\n",
              "    }\n",
              "</style>\n",
              "<table border=\"1\" class=\"dataframe\">\n",
              "  <thead>\n",
              "    <tr style=\"text-align: right;\">\n",
              "      <th></th>\n",
              "    </tr>\n",
              "  </thead>\n",
              "  <tbody>\n",
              "  </tbody>\n",
              "</table>\n",
              "</div>\n",
              "      <button class=\"colab-df-convert\" onclick=\"convertToInteractive('df-50e910d1-b11b-4b78-a417-dedf9ae18ab1')\"\n",
              "              title=\"Convert this dataframe to an interactive table.\"\n",
              "              style=\"display:none;\">\n",
              "        \n",
              "  <svg xmlns=\"http://www.w3.org/2000/svg\" height=\"24px\"viewBox=\"0 0 24 24\"\n",
              "       width=\"24px\">\n",
              "    <path d=\"M0 0h24v24H0V0z\" fill=\"none\"/>\n",
              "    <path d=\"M18.56 5.44l.94 2.06.94-2.06 2.06-.94-2.06-.94-.94-2.06-.94 2.06-2.06.94zm-11 1L8.5 8.5l.94-2.06 2.06-.94-2.06-.94L8.5 2.5l-.94 2.06-2.06.94zm10 10l.94 2.06.94-2.06 2.06-.94-2.06-.94-.94-2.06-.94 2.06-2.06.94z\"/><path d=\"M17.41 7.96l-1.37-1.37c-.4-.4-.92-.59-1.43-.59-.52 0-1.04.2-1.43.59L10.3 9.45l-7.72 7.72c-.78.78-.78 2.05 0 2.83L4 21.41c.39.39.9.59 1.41.59.51 0 1.02-.2 1.41-.59l7.78-7.78 2.81-2.81c.8-.78.8-2.07 0-2.86zM5.41 20L4 18.59l7.72-7.72 1.47 1.35L5.41 20z\"/>\n",
              "  </svg>\n",
              "      </button>\n",
              "      \n",
              "  <style>\n",
              "    .colab-df-container {\n",
              "      display:flex;\n",
              "      flex-wrap:wrap;\n",
              "      gap: 12px;\n",
              "    }\n",
              "\n",
              "    .colab-df-convert {\n",
              "      background-color: #E8F0FE;\n",
              "      border: none;\n",
              "      border-radius: 50%;\n",
              "      cursor: pointer;\n",
              "      display: none;\n",
              "      fill: #1967D2;\n",
              "      height: 32px;\n",
              "      padding: 0 0 0 0;\n",
              "      width: 32px;\n",
              "    }\n",
              "\n",
              "    .colab-df-convert:hover {\n",
              "      background-color: #E2EBFA;\n",
              "      box-shadow: 0px 1px 2px rgba(60, 64, 67, 0.3), 0px 1px 3px 1px rgba(60, 64, 67, 0.15);\n",
              "      fill: #174EA6;\n",
              "    }\n",
              "\n",
              "    [theme=dark] .colab-df-convert {\n",
              "      background-color: #3B4455;\n",
              "      fill: #D2E3FC;\n",
              "    }\n",
              "\n",
              "    [theme=dark] .colab-df-convert:hover {\n",
              "      background-color: #434B5C;\n",
              "      box-shadow: 0px 1px 3px 1px rgba(0, 0, 0, 0.15);\n",
              "      filter: drop-shadow(0px 1px 2px rgba(0, 0, 0, 0.3));\n",
              "      fill: #FFFFFF;\n",
              "    }\n",
              "  </style>\n",
              "\n",
              "      <script>\n",
              "        const buttonEl =\n",
              "          document.querySelector('#df-50e910d1-b11b-4b78-a417-dedf9ae18ab1 button.colab-df-convert');\n",
              "        buttonEl.style.display =\n",
              "          google.colab.kernel.accessAllowed ? 'block' : 'none';\n",
              "\n",
              "        async function convertToInteractive(key) {\n",
              "          const element = document.querySelector('#df-50e910d1-b11b-4b78-a417-dedf9ae18ab1');\n",
              "          const dataTable =\n",
              "            await google.colab.kernel.invokeFunction('convertToInteractive',\n",
              "                                                     [key], {});\n",
              "          if (!dataTable) return;\n",
              "\n",
              "          const docLinkHtml = 'Like what you see? Visit the ' +\n",
              "            '<a target=\"_blank\" href=https://colab.research.google.com/notebooks/data_table.ipynb>data table notebook</a>'\n",
              "            + ' to learn more about interactive tables.';\n",
              "          element.innerHTML = '';\n",
              "          dataTable['output_type'] = 'display_data';\n",
              "          await google.colab.output.renderOutput(dataTable, element);\n",
              "          const docLink = document.createElement('div');\n",
              "          docLink.innerHTML = docLinkHtml;\n",
              "          element.appendChild(docLink);\n",
              "        }\n",
              "      </script>\n",
              "    </div>\n",
              "  </div>\n",
              "  "
            ]
          },
          "metadata": {},
          "execution_count": 24
        }
      ]
    },
    {
      "cell_type": "code",
      "source": [
        "#prediction on test data\n",
        "predictions = np.argmax(VGG19_MODEL.predict(test_set), axis = -1)"
      ],
      "metadata": {
        "id": "AMM7_eHyvygz",
        "colab": {
          "base_uri": "https://localhost:8080/"
        },
        "outputId": "6f149313-d4cc-41a2-82ac-c64cd5c98edb"
      },
      "execution_count": 25,
      "outputs": [
        {
          "output_type": "stream",
          "name": "stdout",
          "text": [
            "28/28 [==============================] - 10s 351ms/step\n"
          ]
        }
      ]
    },
    {
      "cell_type": "code",
      "source": [
        "#classification report\n",
        "print(classification_report(test_set.classes,predictions))"
      ],
      "metadata": {
        "id": "dX5zrHZGvyeC",
        "colab": {
          "base_uri": "https://localhost:8080/"
        },
        "outputId": "5aa49697-c79b-4f41-b53b-c632d6470c48"
      },
      "execution_count": 26,
      "outputs": [
        {
          "output_type": "stream",
          "name": "stdout",
          "text": [
            "              precision    recall  f1-score   support\n",
            "\n",
            "           0       0.97      0.85      0.91       362\n",
            "           1       0.80      0.76      0.78       246\n",
            "           2       0.91      0.96      0.93      1020\n",
            "           3       0.93      0.93      0.93       135\n",
            "\n",
            "    accuracy                           0.91      1763\n",
            "   macro avg       0.90      0.87      0.89      1763\n",
            "weighted avg       0.91      0.91      0.90      1763\n",
            "\n"
          ]
        }
      ]
    },
    {
      "cell_type": "code",
      "source": [
        "# compute the confusion matrix and and use it to derive the raw\n",
        "# accuracy, sensitivity, and specificity\n",
        "cm = confusion_matrix(test_set.classes, predictions)\n",
        "sensitivity = cm[0, 0] / (cm[0, 0] + cm[0, 1])\n",
        "specificity = cm[1, 1] / (cm[1, 0] + cm[1, 1])"
      ],
      "metadata": {
        "id": "xEW6J4EFwBND"
      },
      "execution_count": 27,
      "outputs": []
    },
    {
      "cell_type": "code",
      "source": [
        "import seaborn as sns\n",
        "print(confusion_matrix(test_set.classes,predictions))\n",
        "sns.heatmap(confusion_matrix(test_set.classes,predictions), annot = True)\n",
        "# show the sensitivity, and specificity\n",
        "print(\"sensitivity: {:.4f}\".format(sensitivity))\n",
        "print(\"specificity: {:.4f}\".format(specificity))"
      ],
      "metadata": {
        "id": "5fyV23RawBFl",
        "colab": {
          "base_uri": "https://localhost:8080/",
          "height": 369
        },
        "outputId": "9bcb2f11-b04c-4910-b0bc-056fad771438"
      },
      "execution_count": 28,
      "outputs": [
        {
          "output_type": "stream",
          "name": "stdout",
          "text": [
            "[[309  12  37   4]\n",
            " [  3 186  56   1]\n",
            " [  5  34 976   5]\n",
            " [  1   0   8 126]]\n",
            "sensitivity: 0.9626\n",
            "specificity: 0.9841\n"
          ]
        },
        {
          "output_type": "display_data",
          "data": {
            "text/plain": [
              "<Figure size 432x288 with 2 Axes>"
            ],
            "image/png": "[encoded data removed]"
          },
          "metadata": {
            "needs_background": "light"
          }
        }
      ]
    },
    {
      "cell_type": "code",
      "execution_count": 29,
      "metadata": {
        "id": "8w_awKBLKs87"
      },
      "outputs": [],
      "source": [
        "from numpy import sqrt"
      ]
    },
    {
      "cell_type": "code",
      "execution_count": 30,
      "metadata": {
        "id": "wf4wnko9AWls",
        "colab": {
          "base_uri": "https://localhost:8080/"
        },
        "outputId": "a6d9ab4f-2130-4a59-83e6-680a3c0277b9"
      },
      "outputs": [
        {
          "output_type": "stream",
          "name": "stdout",
          "text": [
            "G_Mean:  0.9733124833925868\n"
          ]
        }
      ],
      "source": [
        "G_Mean = sqrt(sensitivity * specificity)\n",
        "print(\"G_Mean: \", G_Mean)"
      ]
    },
    {
      "cell_type": "code",
      "execution_count": 31,
      "metadata": {
        "id": "o_G1i4iLBe4t"
      },
      "outputs": [],
      "source": [
        "True_Positive_Rate = cm[0, 0] / (cm[0, 0] + cm[0, 1])\n",
        "False_Positive_Rate = cm[1, 0] / (cm[1, 0] + cm[1, 1])"
      ]
    },
    {
      "cell_type": "code",
      "execution_count": 32,
      "metadata": {
        "id": "_YzMjnD2CAy9",
        "colab": {
          "base_uri": "https://localhost:8080/"
        },
        "outputId": "96e16eed-c704-4497-fffe-e269e495cbcb"
      },
      "outputs": [
        {
          "output_type": "stream",
          "name": "stdout",
          "text": [
            "True_Positive_Rate: 0.9626\n",
            "False_Positive_Rate: 0.0159\n"
          ]
        }
      ],
      "source": [
        "print(\"True_Positive_Rate: {:.4f}\".format(True_Positive_Rate))\n",
        "print(\"False_Positive_Rate: {:.4f}\".format(False_Positive_Rate))"
      ]
    },
    {
      "cell_type": "markdown",
      "metadata": {
        "id": "G0r3QSYWgJIz"
      },
      "source": [
        "# **ROC**"
      ]
    },
    {
      "cell_type": "code",
      "execution_count": 33,
      "metadata": {
        "id": "4oMXTGIIyMRL",
        "colab": {
          "base_uri": "https://localhost:8080/"
        },
        "outputId": "a557dd02-aed3-41cb-dbbe-a5f8dff4ff51"
      },
      "outputs": [
        {
          "output_type": "stream",
          "name": "stdout",
          "text": [
            "<keras.preprocessing.image.DirectoryIterator object at 0x7f1d29f64e10>\n",
            "[0 0 0 ... 3 3 3]\n"
          ]
        }
      ],
      "source": [
        "print(test_set)\n",
        "print(predictions)"
      ]
    },
    {
      "cell_type": "code",
      "execution_count": 34,
      "metadata": {
        "id": "OqXtMjgLCxg1",
        "colab": {
          "base_uri": "https://localhost:8080/"
        },
        "outputId": "26439452-5f22-4d94-93d1-ac1ce4cc15de"
      },
      "outputs": [
        {
          "output_type": "stream",
          "name": "stdout",
          "text": [
            "(1763, 4)\n"
          ]
        }
      ],
      "source": [
        "testsetTo = np.concatenate([test_set.next()[1] for i in range(test_set.__len__())])\n",
        "print(testsetTo.shape)"
      ]
    },
    {
      "cell_type": "code",
      "execution_count": 35,
      "metadata": {
        "id": "fVtTlUa7SivZ"
      },
      "outputs": [],
      "source": [
        "from scipy import interp\n",
        "import matplotlib.pyplot as plt\n",
        "from sklearn.metrics import roc_curve, auc"
      ]
    },
    {
      "cell_type": "code",
      "execution_count": 36,
      "metadata": {
        "id": "ewnd0Mor2ixG"
      },
      "outputs": [],
      "source": [
        "#ROC-AUC Curve\n",
        "# Learn to predict each class against the other\n",
        "n_classes = 4 \n",
        "# Compute ROC curve and ROC area for each class\n",
        "fpr = dict()\n",
        "tpr = dict()\n",
        "thresh = dict()\n",
        "roc_auc = dict()\n",
        "lw = 2 \n",
        "for i in range(n_classes):\n",
        "    fpr[i], tpr[i], thresh[i] = roc_curve(np.argmax(testsetTo, axis=1), predictions, pos_label=i)\n",
        "    roc_auc[i] = auc(fpr[i], tpr[i])"
      ]
    },
    {
      "cell_type": "code",
      "execution_count": 37,
      "metadata": {
        "id": "gVgL6uwboEUn"
      },
      "outputs": [],
      "source": [
        "# Compute micro-average ROC curve and ROC area\n",
        "fpr[\"micro\"], tpr[\"micro\"], thresh[i] = roc_curve(np.argmax(testsetTo, axis=1), predictions, pos_label=i) \n",
        "roc_auc[\"micro\"] = auc(fpr[\"micro\"], tpr[\"micro\"])"
      ]
    },
    {
      "cell_type": "code",
      "execution_count": 38,
      "metadata": {
        "id": "sHDd3VDr8lkm",
        "colab": {
          "base_uri": "https://localhost:8080/",
          "height": 350
        },
        "outputId": "f93aa0b0-5f0a-4b9a-eba7-cf031e9b4284"
      },
      "outputs": [
        {
          "output_type": "stream",
          "name": "stderr",
          "text": [
            "/usr/local/lib/python3.7/dist-packages/ipykernel_launcher.py:11: DeprecationWarning: scipy.interp is deprecated and will be removed in SciPy 2.0.0, use numpy.interp instead\n",
            "  # This is added back by InteractiveShellApp.init_path()\n"
          ]
        },
        {
          "output_type": "display_data",
          "data": {
            "text/plain": [
              "<Figure size 432x288 with 1 Axes>"
            ],
            "image/png": "[encoded data removed]"
          },
          "metadata": {
            "needs_background": "light"
          }
        }
      ],
      "source": [
        "# Process of plotting roc-auc curve belonging to all classes.\n",
        "\n",
        "from itertools import cycle\n",
        "roc_auc_scores = []\n",
        "# First aggregate all false positive rates\n",
        "all_fpr = np.unique(np.concatenate([fpr[i] for i in range(n_classes)]))\n",
        "\n",
        "# Then interpolate all ROC curves at this points\n",
        "mean_tpr = np.zeros_like(all_fpr)\n",
        "for i in range(n_classes):\n",
        "    mean_tpr += interp(all_fpr, fpr[i], tpr[i])\n",
        "\n",
        "# Finally average it and compute AUC\n",
        "mean_tpr /= n_classes\n",
        "\n",
        "fpr[\"macro\"] = all_fpr\n",
        "tpr[\"macro\"] = mean_tpr\n",
        "roc_auc[\"macro\"] = auc(fpr[\"macro\"], tpr[\"macro\"])\n",
        "\n",
        "# Plot all ROC curves\n",
        "plt.figure()\n",
        "plt.plot(fpr[\"micro\"], tpr[\"micro\"],\n",
        "         label='micro-average ROC curve (area = {0:0.2f})'\n",
        "               ''.format(roc_auc[\"micro\"]),\n",
        "         color='deeppink', linestyle=':', linewidth=4)\n",
        "\n",
        "plt.plot(fpr[\"macro\"], tpr[\"macro\"],\n",
        "         label='macro-average ROC curve (area = {0:0.2f})'\n",
        "               ''.format(roc_auc[\"macro\"]),\n",
        "         color='navy', linestyle=':', linewidth=4)\n",
        "\n",
        "colors = cycle(['red', 'darkorange', 'cornflowerblue', 'aqua'])\n",
        "for i, color in zip(range(n_classes), colors):\n",
        "    plt.plot(fpr[i], tpr[i], color=color, lw=lw,\n",
        "             label='ROC curve of class {0} (area = {1:0.2f})'\n",
        "             ''.format(i, roc_auc[i]))\n",
        "    roc_auc_scores.append(roc_auc[i])\n",
        "\n",
        "plt.plot([0, 1], [0, 1], 'k--', lw=lw)\n",
        "plt.xlim([0.0, 1.0])\n",
        "plt.ylim([0.0, 1.05])\n",
        "plt.xlabel('False Positive Rate')\n",
        "plt.ylabel('True Positive Rate')\n",
        "plt.title('ROC Curve to each class')\n",
        "plt.legend(loc=\"lower right\")\n",
        "plt.show()"
      ]
    }
  ],
  "metadata": {
    "accelerator": "GPU",
    "colab": {
      "collapsed_sections": [],
      "provenance": []
    },
    "kernelspec": {
      "display_name": "Python 3",
      "name": "python3"
    },
    "language_info": {
      "name": "python"
    }
  },
  "nbformat": 4,
  "nbformat_minor": 0
}