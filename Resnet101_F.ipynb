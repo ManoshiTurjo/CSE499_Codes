{
  "cells": [
    {
      "cell_type": "code",
      "execution_count": 1,
      "metadata": {
        "id": "Yid6nfv5m-Fw"
      },
      "outputs": [],
      "source": [
        "import pandas as pd\n",
        "import numpy as np\n",
        "import tensorflow as tf\n",
        "from glob import glob\n",
        "import seaborn as sns\n",
        "import matplotlib.pyplot as plt\n",
        "import random\n",
        "import os\n",
        "import cv2\n",
        "\n",
        "!pip install opendatasets --upgrade --quiet\n",
        "import opendatasets as od"
      ]
    },
    {
      "cell_type": "code",
      "execution_count": 2,
      "metadata": {
        "id": "8A5p3rr0nVp8"
      },
      "outputs": [],
      "source": [
        "from tensorflow import keras\n",
        "from tensorflow.keras.preprocessing.image import ImageDataGenerator\n",
        "from tensorflow.keras.layers import Conv2D\n",
        "from tensorflow.keras.layers import MaxPooling2D\n",
        "from tensorflow.keras.layers import AveragePooling2D\n",
        "from tensorflow.keras.layers import GlobalAveragePooling2D\n",
        "from tensorflow.keras.optimizers import RMSprop,Adam\n",
        "from tensorflow.keras.models import Sequential\n",
        "from tensorflow.keras.layers import Dropout\n",
        "from tensorflow.keras.layers import Flatten\n",
        "from tensorflow.keras.layers import Input\n",
        "from tensorflow.keras.layers import Dense\n",
        "#from keras.layers.merge import concatenate\n",
        "from tensorflow.keras.models import Model\n",
        "from keras.preprocessing import image\n",
        "from keras.layers import Dense, Flatten, AveragePooling2D, Dropout\n",
        "from tensorflow.keras.layers import Dense,Conv2D,MaxPool2D,Flatten,Dropout,BatchNormalization,Activation\n",
        "from tensorflow.keras.optimizers import Adam\n",
        "from tensorflow.keras.utils import to_categorical\n",
        "from sklearn.preprocessing import LabelBinarizer\n",
        "from sklearn.model_selection import train_test_split\n",
        "from sklearn.metrics import classification_report\n",
        "from sklearn.model_selection import train_test_split\n",
        "from sklearn.metrics import confusion_matrix\n",
        "from imutils import paths\n",
        "import argparse"
      ]
    },
    {
      "cell_type": "code",
      "execution_count": 4,
      "metadata": {
        "colab": {
          "base_uri": "https://localhost:8080/"
        },
        "id": "gMK6p5AHfBzY",
        "outputId": "08df6b62-cfc5-4682-926b-e1462e4aea09"
      },
      "outputs": [
        {
          "output_type": "stream",
          "name": "stdout",
          "text": [
            "Looking in indexes: https://pypi.org/simple, https://us-python.pkg.dev/colab-wheels/public/simple/\n",
            "Collecting resnet\n",
            "  Downloading resnet-0.1.tar.gz (5.8 kB)\n",
            "Requirement already satisfied: keras>=2.0 in /usr/local/lib/python3.7/dist-packages (from resnet) (2.9.0)\n",
            "Building wheels for collected packages: resnet\n",
            "  Building wheel for resnet (setup.py) ... \u001b[?25l\u001b[?25hdone\n",
            "  Created wheel for resnet: filename=resnet-0.1-py3-none-any.whl size=10042 sha256=62a8eda26a10a6e15f973e371c7d475258230ad3249962e5c43c7cc250a07737\n",
            "  Stored in directory: /root/.cache/pip/wheels/38/23/58/6e83e34ced7d4772b88e2e86305f94a1ca497bd87937f5e7ec\n",
            "Successfully built resnet\n",
            "Installing collected packages: resnet\n",
            "Successfully installed resnet-0.1\n"
          ]
        }
      ],
      "source": [
        "from tensorflow.keras.layers import Dense,Conv2D,MaxPool2D,Flatten,Dropout,BatchNormalization,Activation\n",
        "from tensorflow.keras.preprocessing.image import ImageDataGenerator\n",
        "import matplotlib.pyplot as plt\n",
        "#from keras.preprocessing.image import load_img,img_to_array\n",
        "!pip3 install resnet"
      ]
    },
    {
      "cell_type": "code",
      "execution_count": 5,
      "metadata": {
        "colab": {
          "base_uri": "https://localhost:8080/"
        },
        "id": "8QykD-gJoBUY",
        "outputId": "cef6040b-ee24-4fca-fb19-3b56e965cdc2"
      },
      "outputs": [
        {
          "output_type": "stream",
          "name": "stdout",
          "text": [
            "Mounted at /content/drive\n"
          ]
        }
      ],
      "source": [
        "from google.colab import drive\n",
        "drive.mount('/content/drive')"
      ]
    },
    {
      "cell_type": "code",
      "execution_count": 6,
      "metadata": {
        "id": "S0i5VL9xoCPN"
      },
      "outputs": [],
      "source": [
        "dataset_url = 'https://www.kaggle.com/datasets/tawsifurrahman/covid19-radiography-database?recency=last7Days'\n",
        "data_dir = '/content/COVID-19_Radiography_Dataset'"
      ]
    },
    {
      "cell_type": "code",
      "execution_count": 8,
      "metadata": {
        "id": "5iE4mI-XbGlb",
        "colab": {
          "base_uri": "https://localhost:8080/"
        },
        "outputId": "89e942e4-d646-44b5-dfc6-101275e9d1fa"
      },
      "outputs": [
        {
          "output_type": "stream",
          "name": "stdout",
          "text": [
            "Looking in indexes: https://pypi.org/simple, https://us-python.pkg.dev/colab-wheels/public/simple/\n",
            "Requirement already satisfied: split-folders in /usr/local/lib/python3.7/dist-packages (0.5.1)\n"
          ]
        },
        {
          "output_type": "stream",
          "name": "stderr",
          "text": [
            "Copying files: 17606 files [00:45, 390.66 files/s]\n"
          ]
        }
      ],
      "source": [
        "!pip install split-folders\n",
        "import splitfolders\n",
        "input_folder = '/content/drive/MyDrive/Covid_DS/Covid19_Radiography Dataset'\n",
        "splitfolders.ratio( input_folder,\n",
        "                   output=\"output\",seed=1337,ratio=(0.7,0.2,0.1)) "
      ]
    },
    {
      "cell_type": "code",
      "execution_count": 9,
      "metadata": {
        "id": "Z0jXKuyVbM19",
        "colab": {
          "base_uri": "https://localhost:8080/"
        },
        "outputId": "4ff9a8a7-edf2-40bf-a7ba-2fc6fe70c083"
      },
      "outputs": [
        {
          "output_type": "stream",
          "name": "stdout",
          "text": [
            "Found 12323 images belonging to 4 classes.\n",
            "Found 3520 images belonging to 4 classes.\n",
            "Found 1763 images belonging to 4 classes.\n"
          ]
        }
      ],
      "source": [
        "#load training and testing dataset from directory\n",
        "train_datagen=ImageDataGenerator(rescale = 1./255,\n",
        "                                   rotation_range=15,\n",
        "                                   fill_mode=\"nearest\",\n",
        "                                   horizontal_flip = True)\n",
        "valid_datagen=ImageDataGenerator(rescale = 1./255)\n",
        "test_datagen=ImageDataGenerator(rescale = 1./255)\n",
        "\n",
        "training_set=train_datagen.flow_from_directory('/content/output/train',\n",
        "                                                 target_size = (224, 224),\n",
        "                                                 batch_size = 64,\n",
        "                                                 class_mode = 'categorical',\n",
        "                                                 shuffle=True)\n",
        "valid_set=valid_datagen.flow_from_directory('/content/output/val',\n",
        "                                            target_size = (224, 224),\n",
        "                                            batch_size = 64,\n",
        "                                            class_mode = 'categorical',\n",
        "                                            shuffle = False)\n",
        "test_set=test_datagen.flow_from_directory('/content/output/test',\n",
        "                                            target_size = (224, 224),\n",
        "                                            batch_size = 64,\n",
        "                                            class_mode = 'categorical',\n",
        "                                            shuffle = False)"
      ]
    },
    {
      "cell_type": "code",
      "execution_count": 10,
      "metadata": {
        "id": "J3c8nuG4oNT1"
      },
      "outputs": [],
      "source": [
        "# #load training and testing dataset from output directory where the split is fixed for all models\n",
        "# train_datagen=ImageDataGenerator(rescale = 1./255,\n",
        "#                                    rotation_range=15,\n",
        "#                                    fill_mode=\"nearest\",\n",
        "#                                    horizontal_flip = True)\n",
        "# valid_datagen=ImageDataGenerator(rescale = 1./255)\n",
        "# test_datagen=ImageDataGenerator(rescale = 1./255)\n",
        "\n",
        "# training_set=train_datagen.flow_from_directory('/content/drive/MyDrive/New_DS/output/train',\n",
        "#                                                  target_size = (224, 224),\n",
        "#                                                  batch_size = 64,\n",
        "#                                                  class_mode = 'categorical',\n",
        "#                                                  shuffle=True)\n",
        "# valid_set=valid_datagen.flow_from_directory('/content/drive/MyDrive/New_DS/output/val',\n",
        "#                                             target_size = (224, 224),\n",
        "#                                             batch_size = 64,\n",
        "#                                             class_mode = 'categorical',\n",
        "#                                             shuffle = False)\n",
        "# test_set=test_datagen.flow_from_directory('/content/drive/MyDrive/New_DS/output/test',\n",
        "#                                             target_size = (224, 224),\n",
        "#                                             batch_size = 64,\n",
        "#                                             class_mode = 'categorical',\n",
        "#                                             shuffle = False)"
      ]
    },
    {
      "cell_type": "code",
      "execution_count": 11,
      "metadata": {
        "colab": {
          "base_uri": "https://localhost:8080/"
        },
        "id": "who98HksoNQr",
        "outputId": "f048f5fc-a017-49e7-c528-a1c0aedbd385"
      },
      "outputs": [
        {
          "output_type": "stream",
          "name": "stdout",
          "text": [
            "{'COVID': 0, 'Lung_Opacity': 1, 'Normal': 2, 'Viral Pneumonia': 3}\n",
            "{'COVID': 0, 'Lung_Opacity': 1, 'Normal': 2, 'Viral Pneumonia': 3}\n",
            "{'COVID': 0, 'Lung_Opacity': 1, 'Normal': 2, 'Viral Pneumonia': 3}\n"
          ]
        }
      ],
      "source": [
        "print(training_set.class_indices)\n",
        "print(valid_set.class_indices)\n",
        "print(test_set.class_indices)"
      ]
    },
    {
      "cell_type": "code",
      "execution_count": 12,
      "metadata": {
        "colab": {
          "base_uri": "https://localhost:8080/",
          "height": 283
        },
        "id": "JAQ7HnmRoNHq",
        "outputId": "0a95d421-d5b3-45c0-d127-97398075a8f9"
      },
      "outputs": [
        {
          "output_type": "execute_result",
          "data": {
            "text/plain": [
              "<matplotlib.legend.Legend at 0x7fa3fccfb690>"
            ]
          },
          "metadata": {},
          "execution_count": 12
        },
        {
          "output_type": "display_data",
          "data": {
            "text/plain": [
              "<Figure size 432x288 with 1 Axes>"
            ],
            "image/png": "[encoded data removed]"
          },
          "metadata": {
            "needs_background": "light"
          }
        }
      ],
      "source": [
        "#visulaize data\n",
        "fig, ax = plt.subplots()\n",
        "ax.bar(\"COVID-19\",3616,color=\"r\",label=\"Covid19\")\n",
        "ax.bar(\"Lung_Opacity\",6012 ,color=\"b\",label=\"Lung_Opacity\")\n",
        "ax.bar(\"NORMAL\",10192,color=\"m\",label=\"Normal\")\n",
        "ax.bar(\"Viral Pneumonia\",1345,color=\"g\",label=\"Viral Pneumonia\")\n",
        "ax.legend()"
      ]
    },
    {
      "cell_type": "code",
      "execution_count": 13,
      "metadata": {
        "colab": {
          "base_uri": "https://localhost:8080/"
        },
        "id": "3lS4ViFNoNAd",
        "outputId": "6b02992d-aff8-407f-b598-b3d5d36c48d0"
      },
      "outputs": [
        {
          "output_type": "stream",
          "name": "stdout",
          "text": [
            "Downloading data from https://storage.googleapis.com/tensorflow/keras-applications/resnet/resnet101_weights_tf_dim_ordering_tf_kernels_notop.h5\n",
            "171446536/171446536 [==============================] - 1s 0us/step\n"
          ]
        }
      ],
      "source": [
        "#tf.keras.applications.ResNet101\n",
        "convlayer=tf.keras.applications.ResNet101(input_shape=(224,224,3),weights='imagenet',include_top=False)\n",
        "for layer in convlayer.layers:\n",
        "    layer.trainable=False"
      ]
    },
    {
      "cell_type": "code",
      "execution_count": 14,
      "metadata": {
        "colab": {
          "base_uri": "https://localhost:8080/"
        },
        "id": "3Y84c44yonxQ",
        "outputId": "8e170210-8aab-497d-c94a-7544d3c52b5a"
      },
      "outputs": [
        {
          "output_type": "stream",
          "name": "stdout",
          "text": [
            "Model: \"sequential\"\n",
            "_________________________________________________________________\n",
            " Layer (type)                Output Shape              Param #   \n",
            "=================================================================\n",
            " resnet101 (Functional)      (None, 7, 7, 2048)        42658176  \n",
            "                                                                 \n",
            " dropout (Dropout)           (None, 7, 7, 2048)        0         \n",
            "                                                                 \n",
            " flatten (Flatten)           (None, 100352)            0         \n",
            "                                                                 \n",
            " batch_normalization (BatchN  (None, 100352)           401408    \n",
            " ormalization)                                                   \n",
            "                                                                 \n",
            " dense (Dense)               (None, 2048)              205522944 \n",
            "                                                                 \n",
            " batch_normalization_1 (Batc  (None, 2048)             8192      \n",
            " hNormalization)                                                 \n",
            "                                                                 \n",
            " activation (Activation)     (None, 2048)              0         \n",
            "                                                                 \n",
            " dropout_1 (Dropout)         (None, 2048)              0         \n",
            "                                                                 \n",
            " dense_1 (Dense)             (None, 1024)              2098176   \n",
            "                                                                 \n",
            " batch_normalization_2 (Batc  (None, 1024)             4096      \n",
            " hNormalization)                                                 \n",
            "                                                                 \n",
            " activation_1 (Activation)   (None, 1024)              0         \n",
            "                                                                 \n",
            " dropout_2 (Dropout)         (None, 1024)              0         \n",
            "                                                                 \n",
            " dense_2 (Dense)             (None, 4)                 4100      \n",
            "                                                                 \n",
            "=================================================================\n",
            "Total params: 250,697,092\n",
            "Trainable params: 207,832,068\n",
            "Non-trainable params: 42,865,024\n",
            "_________________________________________________________________\n",
            "None\n"
          ]
        }
      ],
      "source": [
        "ResNet101_MODEL=Sequential()\n",
        "ResNet101_MODEL.add(convlayer)\n",
        "ResNet101_MODEL.add(Dropout(0.5))\n",
        "ResNet101_MODEL.add(Flatten())\n",
        "ResNet101_MODEL.add(BatchNormalization())\n",
        "ResNet101_MODEL.add(Dense(2048,kernel_initializer='he_uniform'))\n",
        "ResNet101_MODEL.add(BatchNormalization())\n",
        "ResNet101_MODEL.add(Activation('relu'))\n",
        "ResNet101_MODEL.add(Dropout(0.5))\n",
        "ResNet101_MODEL.add(Dense(1024,kernel_initializer='he_uniform'))\n",
        "ResNet101_MODEL.add(BatchNormalization())\n",
        "ResNet101_MODEL.add(Activation('relu'))\n",
        "ResNet101_MODEL.add(Dropout(0.5))\n",
        "ResNet101_MODEL.add(Dense(4,activation='softmax'))\n",
        "print(ResNet101_MODEL.summary())"
      ]
    },
    {
      "cell_type": "code",
      "execution_count": 15,
      "metadata": {
        "colab": {
          "base_uri": "https://localhost:8080/"
        },
        "id": "Dpiq5E9hpSQv",
        "outputId": "b29703a2-6a13-41f9-de0c-57166c218f02"
      },
      "outputs": [
        {
          "output_type": "stream",
          "name": "stdout",
          "text": [
            "Model: \"sequential\"\n",
            "_________________________________________________________________\n",
            " Layer (type)                Output Shape              Param #   \n",
            "=================================================================\n",
            " resnet101 (Functional)      (None, 7, 7, 2048)        42658176  \n",
            "                                                                 \n",
            " dropout (Dropout)           (None, 7, 7, 2048)        0         \n",
            "                                                                 \n",
            " flatten (Flatten)           (None, 100352)            0         \n",
            "                                                                 \n",
            " batch_normalization (BatchN  (None, 100352)           401408    \n",
            " ormalization)                                                   \n",
            "                                                                 \n",
            " dense (Dense)               (None, 2048)              205522944 \n",
            "                                                                 \n",
            " batch_normalization_1 (Batc  (None, 2048)             8192      \n",
            " hNormalization)                                                 \n",
            "                                                                 \n",
            " activation (Activation)     (None, 2048)              0         \n",
            "                                                                 \n",
            " dropout_1 (Dropout)         (None, 2048)              0         \n",
            "                                                                 \n",
            " dense_1 (Dense)             (None, 1024)              2098176   \n",
            "                                                                 \n",
            " batch_normalization_2 (Batc  (None, 1024)             4096      \n",
            " hNormalization)                                                 \n",
            "                                                                 \n",
            " activation_1 (Activation)   (None, 1024)              0         \n",
            "                                                                 \n",
            " dropout_2 (Dropout)         (None, 1024)              0         \n",
            "                                                                 \n",
            " dense_2 (Dense)             (None, 4)                 4100      \n",
            "                                                                 \n",
            "=================================================================\n",
            "Total params: 250,697,092\n",
            "Trainable params: 207,832,068\n",
            "Non-trainable params: 42,865,024\n",
            "_________________________________________________________________\n"
          ]
        }
      ],
      "source": [
        "ResNet101_MODEL.compile(optimizer= tf.keras.optimizers.Adam(0.001),\n",
        "              loss='categorical_crossentropy',\n",
        "              metrics=['accuracy','Precision','Recall'])\n",
        "\n",
        "ResNet101_MODEL.summary()"
      ]
    },
    {
      "cell_type": "code",
      "execution_count": 16,
      "metadata": {
        "id": "Lq75GuS8ao0y"
      },
      "outputs": [],
      "source": [
        "tf.keras.callbacks.ReduceLROnPlateau\n",
        "from keras.callbacks import LearningRateScheduler"
      ]
    },
    {
      "cell_type": "code",
      "execution_count": 17,
      "metadata": {
        "id": "QxmTjI5qpmQJ"
      },
      "outputs": [],
      "source": [
        "#to avoid overfitting\n",
        "early = tf.keras.callbacks.EarlyStopping(monitor='val_loss',patience=5)"
      ]
    },
    {
      "cell_type": "code",
      "execution_count": 18,
      "metadata": {
        "colab": {
          "base_uri": "https://localhost:8080/"
        },
        "id": "emt6Q1F2kxcf",
        "outputId": "fa691569-29bf-429e-fc3a-d1781e3f363d"
      },
      "outputs": [
        {
          "output_type": "stream",
          "name": "stderr",
          "text": [
            "/usr/local/lib/python3.7/dist-packages/keras/optimizers/optimizer_v2/adam.py:110: UserWarning: The `lr` argument is deprecated, use `learning_rate` instead.\n",
            "  super(Adam, self).__init__(name, **kwargs)\n"
          ]
        }
      ],
      "source": [
        "epochs = 100\n",
        "learning_rate = 0.001\n",
        "decay_rate = learning_rate / epochs\n",
        "optimizer_details = Adam(lr = learning_rate, decay = decay_rate)"
      ]
    },
    {
      "cell_type": "code",
      "execution_count": 19,
      "metadata": {
        "colab": {
          "base_uri": "https://localhost:8080/"
        },
        "id": "HdD9qSvtnH6j",
        "outputId": "87d3a9c5-f813-4f2b-9d36-68edb9a7309a"
      },
      "outputs": [
        {
          "output_type": "stream",
          "name": "stderr",
          "text": [
            "/usr/local/lib/python3.7/dist-packages/ipykernel_launcher.py:4: UserWarning: `Model.fit_generator` is deprecated and will be removed in a future version. Please use `Model.fit`, which supports generators.\n",
            "  after removing the cwd from sys.path.\n"
          ]
        },
        {
          "output_type": "stream",
          "name": "stdout",
          "text": [
            "Epoch 1/100\n",
            "193/193 [==============================] - 211s 1s/step - loss: 0.9776 - accuracy: 0.6291 - precision: 0.6676 - recall: 0.5734 - val_loss: 0.6807 - val_accuracy: 0.7298 - val_precision: 0.7971 - val_recall: 0.6116\n",
            "Epoch 2/100\n",
            "193/193 [==============================] - 183s 948ms/step - loss: 0.7908 - accuracy: 0.6852 - precision: 0.7268 - recall: 0.6256 - val_loss: 0.6218 - val_accuracy: 0.7636 - val_precision: 0.8217 - val_recall: 0.6744\n",
            "Epoch 3/100\n",
            "193/193 [==============================] - 181s 939ms/step - loss: 0.7333 - accuracy: 0.7038 - precision: 0.7423 - recall: 0.6446 - val_loss: 0.6072 - val_accuracy: 0.7528 - val_precision: 0.7887 - val_recall: 0.6989\n",
            "Epoch 4/100\n",
            "193/193 [==============================] - 182s 941ms/step - loss: 0.6887 - accuracy: 0.7234 - precision: 0.7664 - recall: 0.6617 - val_loss: 0.6321 - val_accuracy: 0.7591 - val_precision: 0.7973 - val_recall: 0.7173\n",
            "Epoch 5/100\n",
            "193/193 [==============================] - 182s 943ms/step - loss: 0.6712 - accuracy: 0.7276 - precision: 0.7700 - recall: 0.6774 - val_loss: 0.6043 - val_accuracy: 0.7770 - val_precision: 0.8095 - val_recall: 0.7278\n",
            "Epoch 6/100\n",
            "193/193 [==============================] - 182s 943ms/step - loss: 0.6662 - accuracy: 0.7333 - precision: 0.7715 - recall: 0.6763 - val_loss: 0.5584 - val_accuracy: 0.7926 - val_precision: 0.8274 - val_recall: 0.7341\n",
            "Epoch 7/100\n",
            "193/193 [==============================] - 183s 948ms/step - loss: 0.6536 - accuracy: 0.7364 - precision: 0.7758 - recall: 0.6828 - val_loss: 0.5404 - val_accuracy: 0.7935 - val_precision: 0.8355 - val_recall: 0.7361\n",
            "Epoch 8/100\n",
            "193/193 [==============================] - 183s 949ms/step - loss: 0.6393 - accuracy: 0.7424 - precision: 0.7801 - recall: 0.6954 - val_loss: 0.5594 - val_accuracy: 0.7969 - val_precision: 0.8272 - val_recall: 0.7469\n",
            "Epoch 9/100\n",
            "193/193 [==============================] - 183s 947ms/step - loss: 0.6404 - accuracy: 0.7391 - precision: 0.7776 - recall: 0.6916 - val_loss: 0.5406 - val_accuracy: 0.7949 - val_precision: 0.8307 - val_recall: 0.7543\n",
            "Epoch 10/100\n",
            "193/193 [==============================] - 180s 930ms/step - loss: 0.6245 - accuracy: 0.7466 - precision: 0.7847 - recall: 0.6998 - val_loss: 0.5266 - val_accuracy: 0.8065 - val_precision: 0.8320 - val_recall: 0.7642\n",
            "Epoch 11/100\n",
            "193/193 [==============================] - 179s 925ms/step - loss: 0.6183 - accuracy: 0.7511 - precision: 0.7873 - recall: 0.7048 - val_loss: 0.5302 - val_accuracy: 0.8065 - val_precision: 0.8414 - val_recall: 0.7548\n",
            "Epoch 12/100\n",
            "193/193 [==============================] - 181s 935ms/step - loss: 0.6242 - accuracy: 0.7521 - precision: 0.7873 - recall: 0.7031 - val_loss: 0.5175 - val_accuracy: 0.8125 - val_precision: 0.8475 - val_recall: 0.7563\n",
            "Epoch 13/100\n",
            "193/193 [==============================] - 179s 928ms/step - loss: 0.6097 - accuracy: 0.7561 - precision: 0.7891 - recall: 0.7109 - val_loss: 0.5175 - val_accuracy: 0.8108 - val_precision: 0.8409 - val_recall: 0.7628\n",
            "Epoch 14/100\n",
            "193/193 [==============================] - 180s 931ms/step - loss: 0.6079 - accuracy: 0.7554 - precision: 0.7906 - recall: 0.7107 - val_loss: 0.5351 - val_accuracy: 0.7955 - val_precision: 0.8287 - val_recall: 0.7574\n",
            "Epoch 15/100\n",
            "193/193 [==============================] - 184s 955ms/step - loss: 0.5971 - accuracy: 0.7635 - precision: 0.7948 - recall: 0.7179 - val_loss: 0.5130 - val_accuracy: 0.8034 - val_precision: 0.8280 - val_recall: 0.7699\n",
            "Epoch 16/100\n",
            "193/193 [==============================] - 183s 949ms/step - loss: 0.5909 - accuracy: 0.7643 - precision: 0.7985 - recall: 0.7232 - val_loss: 0.5165 - val_accuracy: 0.7923 - val_precision: 0.8191 - val_recall: 0.7665\n",
            "Epoch 17/100\n",
            "193/193 [==============================] - 178s 921ms/step - loss: 0.5986 - accuracy: 0.7598 - precision: 0.7927 - recall: 0.7165 - val_loss: 0.5165 - val_accuracy: 0.8077 - val_precision: 0.8417 - val_recall: 0.7719\n",
            "Epoch 18/100\n",
            "193/193 [==============================] - 178s 922ms/step - loss: 0.5802 - accuracy: 0.7667 - precision: 0.7983 - recall: 0.7266 - val_loss: 0.5269 - val_accuracy: 0.8145 - val_precision: 0.8415 - val_recall: 0.7784\n",
            "Epoch 19/100\n",
            "193/193 [==============================] - 178s 923ms/step - loss: 0.5867 - accuracy: 0.7640 - precision: 0.7942 - recall: 0.7217 - val_loss: 0.5162 - val_accuracy: 0.8037 - val_precision: 0.8321 - val_recall: 0.7756\n",
            "Epoch 20/100\n",
            "193/193 [==============================] - 178s 921ms/step - loss: 0.5757 - accuracy: 0.7748 - precision: 0.8081 - recall: 0.7323 - val_loss: 0.5112 - val_accuracy: 0.8159 - val_precision: 0.8404 - val_recall: 0.7915\n",
            "Epoch 21/100\n",
            "193/193 [==============================] - 179s 924ms/step - loss: 0.5830 - accuracy: 0.7629 - precision: 0.7959 - recall: 0.7221 - val_loss: 0.5175 - val_accuracy: 0.8065 - val_precision: 0.8275 - val_recall: 0.7784\n",
            "Epoch 22/100\n",
            "193/193 [==============================] - 181s 935ms/step - loss: 0.5780 - accuracy: 0.7680 - precision: 0.7968 - recall: 0.7303 - val_loss: 0.5059 - val_accuracy: 0.8159 - val_precision: 0.8427 - val_recall: 0.7943\n",
            "Epoch 23/100\n",
            "193/193 [==============================] - 179s 925ms/step - loss: 0.5757 - accuracy: 0.7708 - precision: 0.8008 - recall: 0.7269 - val_loss: 0.4908 - val_accuracy: 0.8188 - val_precision: 0.8510 - val_recall: 0.7855\n",
            "Epoch 24/100\n",
            "193/193 [==============================] - 176s 913ms/step - loss: 0.5756 - accuracy: 0.7668 - precision: 0.7992 - recall: 0.7247 - val_loss: 0.5124 - val_accuracy: 0.8088 - val_precision: 0.8370 - val_recall: 0.7821\n",
            "Epoch 25/100\n",
            "193/193 [==============================] - 178s 921ms/step - loss: 0.5760 - accuracy: 0.7664 - precision: 0.8018 - recall: 0.7277 - val_loss: 0.4960 - val_accuracy: 0.8224 - val_precision: 0.8518 - val_recall: 0.7869\n",
            "Epoch 26/100\n",
            "193/193 [==============================] - 179s 926ms/step - loss: 0.5731 - accuracy: 0.7707 - precision: 0.8036 - recall: 0.7313 - val_loss: 0.4993 - val_accuracy: 0.8207 - val_precision: 0.8460 - val_recall: 0.7881\n",
            "Epoch 27/100\n",
            "193/193 [==============================] - 179s 925ms/step - loss: 0.5677 - accuracy: 0.7708 - precision: 0.8044 - recall: 0.7307 - val_loss: 0.5036 - val_accuracy: 0.8182 - val_precision: 0.8418 - val_recall: 0.7923\n",
            "Epoch 28/100\n",
            "193/193 [==============================] - 179s 927ms/step - loss: 0.5575 - accuracy: 0.7773 - precision: 0.8085 - recall: 0.7402 - val_loss: 0.5130 - val_accuracy: 0.8176 - val_precision: 0.8473 - val_recall: 0.7929\n"
          ]
        }
      ],
      "source": [
        "ResNet101_MODEL.compile(optimizer = optimizer_details, \n",
        "              loss='categorical_crossentropy',\n",
        "              metrics=['accuracy','Precision','Recall'])\n",
        "history = ResNet101_MODEL.fit_generator(training_set, validation_data = valid_set, epochs=epochs, verbose=1, callbacks=[early])"
      ]
    },
    {
      "cell_type": "code",
      "execution_count": 20,
      "metadata": {
        "colab": {
          "base_uri": "https://localhost:8080/"
        },
        "id": "TjX7yFDmpx3r",
        "outputId": "ad9b1eed-faa4-4648-e571-cf7c197808ac"
      },
      "outputs": [
        {
          "output_type": "stream",
          "name": "stdout",
          "text": [
            "28/28 [==============================] - 10s 361ms/step - loss: 0.5173 - accuracy: 0.8037 - precision: 0.8293 - recall: 0.7771\n"
          ]
        },
        {
          "output_type": "execute_result",
          "data": {
            "text/plain": [
              "[0.5173119902610779,\n",
              " 0.8037436008453369,\n",
              " 0.8292978405952454,\n",
              " 0.7770845293998718]"
            ]
          },
          "metadata": {},
          "execution_count": 20
        }
      ],
      "source": [
        "ResNet101_MODEL.evaluate(test_set, verbose=1)\n",
        "#***model.evaluate(test_set)"
      ]
    },
    {
      "cell_type": "code",
      "execution_count": 21,
      "metadata": {
        "id": "uHJPUBUPp6ou"
      },
      "outputs": [],
      "source": [
        "ResNet101_MODEL.save('something.h5')"
      ]
    },
    {
      "cell_type": "code",
      "execution_count": 22,
      "metadata": {
        "id": "ILl09WREqCwk"
      },
      "outputs": [],
      "source": [
        "#Accuracy, val_acc, loss, val_loss, epoch_range\n",
        "acc = history.history['accuracy']\n",
        "val_acc = history.history['val_accuracy']     #history2.history['accuracy']\n",
        "loss = history.history['loss']\n",
        "val_loss = history.history['val_loss']\n",
        "epochs=range(len(acc))"
      ]
    },
    {
      "cell_type": "code",
      "execution_count": 23,
      "metadata": {
        "colab": {
          "base_uri": "https://localhost:8080/"
        },
        "id": "fmoz0Zq9qEys",
        "outputId": "43027674-02fc-4a95-ccaf-fbae5cc93d24"
      },
      "outputs": [
        {
          "output_type": "stream",
          "name": "stdout",
          "text": [
            "accuracy:  [0.6291487216949463, 0.6852227449417114, 0.7038058638572693, 0.7233628034591675, 0.727582573890686, 0.7332630157470703, 0.7364278435707092, 0.7424328327178955, 0.739105761051178, 0.7465714812278748, 0.7511157989501953, 0.7520895600318909, 0.756147027015686, 0.7554166913032532, 0.7635316252708435, 0.7642619609832764, 0.7597987651824951, 0.7666963934898376, 0.7640184760093689, 0.774811327457428, 0.76288241147995, 0.7679948210716248, 0.7708350419998169, 0.7667775750160217, 0.7663718461990356, 0.7706727385520935, 0.7707538604736328, 0.7773269414901733]\n",
            "validation accuracy:  [0.7298295497894287, 0.7636363506317139, 0.7528409361839294, 0.7590909004211426, 0.7769886255264282, 0.7926136255264282, 0.7934659123420715, 0.796875, 0.7948863506317139, 0.8065341114997864, 0.8065341114997864, 0.8125, 0.8107954263687134, 0.7954545617103577, 0.8034090995788574, 0.7923295497894287, 0.8076704740524292, 0.8144886493682861, 0.8036931753158569, 0.8159090876579285, 0.8065341114997864, 0.8159090876579285, 0.8187500238418579, 0.808806836605072, 0.8224431872367859, 0.8207386136054993, 0.8181818127632141, 0.8176136612892151]\n",
            "loss:  [0.9775885939598083, 0.7908477783203125, 0.7332662343978882, 0.6886864900588989, 0.6711769104003906, 0.6661925315856934, 0.6536247730255127, 0.6392775177955627, 0.6403676867485046, 0.6244624853134155, 0.6182618737220764, 0.6241808533668518, 0.6097181439399719, 0.6079160571098328, 0.5970680117607117, 0.5908865928649902, 0.5986266732215881, 0.5801700353622437, 0.5866641402244568, 0.5757303237915039, 0.5830392837524414, 0.5780443549156189, 0.575661838054657, 0.5756286382675171, 0.5760422945022583, 0.5731000304222107, 0.5676766037940979, 0.5574710369110107]\n",
            "validation loss:  [0.6807267665863037, 0.6218416094779968, 0.6072455644607544, 0.6320872902870178, 0.6043452620506287, 0.5583687424659729, 0.5403781533241272, 0.559431254863739, 0.5405571460723877, 0.5265750288963318, 0.5302074551582336, 0.5175464153289795, 0.5174580216407776, 0.5351496934890747, 0.5130133628845215, 0.5164816379547119, 0.516478955745697, 0.5268762707710266, 0.5162222981452942, 0.5112127065658569, 0.517507791519165, 0.5058953762054443, 0.4908072352409363, 0.5123836994171143, 0.4959741532802582, 0.49926209449768066, 0.5036447644233704, 0.5130254030227661]\n",
            "epochs:  range(0, 28)\n"
          ]
        }
      ],
      "source": [
        "print(\"accuracy: \",acc)\n",
        "print(\"validation accuracy: \",val_acc)\n",
        "print(\"loss: \",loss)\n",
        "print(\"validation loss: \",val_loss)\n",
        "print(\"epochs: \",epochs)"
      ]
    },
    {
      "cell_type": "code",
      "execution_count": 24,
      "metadata": {
        "colab": {
          "base_uri": "https://localhost:8080/",
          "height": 298
        },
        "id": "3VhVarXbqG6M",
        "outputId": "9214a8c5-4522-4c5e-a2c1-5fe9fea14d50"
      },
      "outputs": [
        {
          "output_type": "execute_result",
          "data": {
            "text/plain": [
              "Text(0.5, 1.0, 'Training and Validation Accuracy')"
            ]
          },
          "metadata": {},
          "execution_count": 24
        },
        {
          "output_type": "display_data",
          "data": {
            "text/plain": [
              "<Figure size 432x288 with 1 Axes>"
            ],
            "image/png": "[encoded data removed]"
          },
          "metadata": {
            "needs_background": "light"
          }
        }
      ],
      "source": [
        "#plot training nad validation accuracy\n",
        "plt.plot(epochs,acc,label='Training_acc',color='blue')\n",
        "plt.plot(epochs,val_acc,label='Validation_acc',color='red')\n",
        "plt.legend()\n",
        "plt.title(\"Training and Validation Accuracy\")"
      ]
    },
    {
      "cell_type": "code",
      "execution_count": 25,
      "metadata": {
        "colab": {
          "base_uri": "https://localhost:8080/",
          "height": 298
        },
        "id": "ryW9YWdrqG3c",
        "outputId": "896fa568-3dad-4030-e4c7-51151f1cefaf"
      },
      "outputs": [
        {
          "output_type": "execute_result",
          "data": {
            "text/plain": [
              "Text(0.5, 1.0, 'Training and Validation loss')"
            ]
          },
          "metadata": {},
          "execution_count": 25
        },
        {
          "output_type": "display_data",
          "data": {
            "text/plain": [
              "<Figure size 432x288 with 1 Axes>"
            ],
            "image/png": "[encoded data removed]"
          },
          "metadata": {
            "needs_background": "light"
          }
        }
      ],
      "source": [
        "#training and validation loss\n",
        "plt.plot(epochs,loss,label='Training_loss',color='blue')\n",
        "plt.plot(epochs,val_loss,label='Validation_loss',color='red')\n",
        "plt.legend()\n",
        "plt.title(\"Training and Validation loss\")"
      ]
    },
    {
      "cell_type": "code",
      "execution_count": 26,
      "metadata": {
        "colab": {
          "base_uri": "https://localhost:8080/",
          "height": 1000
        },
        "id": "4GEDYvwjqG0b",
        "outputId": "25ef8bc6-79b7-4dcb-d872-092b418eb5de"
      },
      "outputs": [
        {
          "output_type": "display_data",
          "data": {
            "text/plain": [
              "<Figure size 432x288 with 1 Axes>"
            ],
            "image/png": "[encoded data removed]"
          },
          "metadata": {
            "needs_background": "light"
          }
        },
        {
          "output_type": "display_data",
          "data": {
            "text/plain": [
              "<Figure size 432x288 with 1 Axes>"
            ],
            "image/png": "[encoded data removed]"
          },
          "metadata": {
            "needs_background": "light"
          }
        },
        {
          "output_type": "display_data",
          "data": {
            "text/plain": [
              "<Figure size 432x288 with 1 Axes>"
            ],
            "image/png": "[encoded data removed]"
          },
          "metadata": {
            "needs_background": "light"
          }
        },
        {
          "output_type": "display_data",
          "data": {
            "text/plain": [
              "<Figure size 432x288 with 1 Axes>"
            ],
            "image/png": "[encoded data removed]"
          },
          "metadata": {
            "needs_background": "light"
          }
        }
      ],
      "source": [
        "acc = history.history['accuracy']\n",
        "val_acc = history.history['val_accuracy']\n",
        "\n",
        "train_precision=history.history['precision']\n",
        "val_precision=history.history['val_precision']\n",
        "\n",
        "train_recall=history.history['recall']\n",
        "val_recall=history.history['val_recall']\n",
        "\n",
        "loss = history.history['loss']\n",
        "val_loss = history.history['val_loss']\n",
        "\n",
        "epochs = range(len(acc))\n",
        "\n",
        "plt.plot(epochs, acc, 'r', label='Training accuracy')\n",
        "plt.plot(epochs, val_acc, 'b', label='Validation accuracy')\n",
        "plt.title('Training and validation accuracy')\n",
        "plt.legend()\n",
        "plt.figure()\n",
        "\n",
        "plt.plot(epochs, train_precision, 'r', label='Training precision')\n",
        "plt.plot(epochs, val_precision, 'b', label='Validation precision')\n",
        "plt.title('Training and validation precision')\n",
        "plt.legend()\n",
        "plt.figure()\n",
        "\n",
        "plt.plot(epochs, train_recall, 'r', label='Training recall')\n",
        "plt.plot(epochs, val_recall, 'b', label='Validation recall')\n",
        "plt.title('Training and validation recall')\n",
        "plt.legend()\n",
        "plt.figure()\n",
        "\n",
        "plt.plot(epochs, loss, 'r', label='Training Loss')\n",
        "plt.plot(epochs, val_loss, 'b', label='Validation Loss')\n",
        "plt.title('Training and validation loss')\n",
        "plt.legend()\n",
        "\n",
        "plt.show()"
      ]
    },
    {
      "cell_type": "code",
      "execution_count": 27,
      "metadata": {
        "colab": {
          "base_uri": "https://localhost:8080/",
          "height": 49
        },
        "id": "bMuSU0XLqOo4",
        "outputId": "70f9b257-ae16-421d-8bbf-340f753d3f2c"
      },
      "outputs": [
        {
          "output_type": "execute_result",
          "data": {
            "text/plain": [
              "Empty DataFrame\n",
              "Columns: []\n",
              "Index: []"
            ],
            "text/html": [
              "\n",
              "  <div id=\"df-ec9b7706-113d-4940-842b-cbb012a5f2d9\">\n",
              "    <div class=\"colab-df-container\">\n",
              "      <div>\n",
              "<style scoped>\n",
              "    .dataframe tbody tr th:only-of-type {\n",
              "        vertical-align: middle;\n",
              "    }\n",
              "\n",
              "    .dataframe tbody tr th {\n",
              "        vertical-align: top;\n",
              "    }\n",
              "\n",
              "    .dataframe thead th {\n",
              "        text-align: right;\n",
              "    }\n",
              "</style>\n",
              "<table border=\"1\" class=\"dataframe\">\n",
              "  <thead>\n",
              "    <tr style=\"text-align: right;\">\n",
              "      <th></th>\n",
              "    </tr>\n",
              "  </thead>\n",
              "  <tbody>\n",
              "  </tbody>\n",
              "</table>\n",
              "</div>\n",
              "      <button class=\"colab-df-convert\" onclick=\"convertToInteractive('df-ec9b7706-113d-4940-842b-cbb012a5f2d9')\"\n",
              "              title=\"Convert this dataframe to an interactive table.\"\n",
              "              style=\"display:none;\">\n",
              "        \n",
              "  <svg xmlns=\"http://www.w3.org/2000/svg\" height=\"24px\"viewBox=\"0 0 24 24\"\n",
              "       width=\"24px\">\n",
              "    <path d=\"M0 0h24v24H0V0z\" fill=\"none\"/>\n",
              "    <path d=\"M18.56 5.44l.94 2.06.94-2.06 2.06-.94-2.06-.94-.94-2.06-.94 2.06-2.06.94zm-11 1L8.5 8.5l.94-2.06 2.06-.94-2.06-.94L8.5 2.5l-.94 2.06-2.06.94zm10 10l.94 2.06.94-2.06 2.06-.94-2.06-.94-.94-2.06-.94 2.06-2.06.94z\"/><path d=\"M17.41 7.96l-1.37-1.37c-.4-.4-.92-.59-1.43-.59-.52 0-1.04.2-1.43.59L10.3 9.45l-7.72 7.72c-.78.78-.78 2.05 0 2.83L4 21.41c.39.39.9.59 1.41.59.51 0 1.02-.2 1.41-.59l7.78-7.78 2.81-2.81c.8-.78.8-2.07 0-2.86zM5.41 20L4 18.59l7.72-7.72 1.47 1.35L5.41 20z\"/>\n",
              "  </svg>\n",
              "      </button>\n",
              "      \n",
              "  <style>\n",
              "    .colab-df-container {\n",
              "      display:flex;\n",
              "      flex-wrap:wrap;\n",
              "      gap: 12px;\n",
              "    }\n",
              "\n",
              "    .colab-df-convert {\n",
              "      background-color: #E8F0FE;\n",
              "      border: none;\n",
              "      border-radius: 50%;\n",
              "      cursor: pointer;\n",
              "      display: none;\n",
              "      fill: #1967D2;\n",
              "      height: 32px;\n",
              "      padding: 0 0 0 0;\n",
              "      width: 32px;\n",
              "    }\n",
              "\n",
              "    .colab-df-convert:hover {\n",
              "      background-color: #E2EBFA;\n",
              "      box-shadow: 0px 1px 2px rgba(60, 64, 67, 0.3), 0px 1px 3px 1px rgba(60, 64, 67, 0.15);\n",
              "      fill: #174EA6;\n",
              "    }\n",
              "\n",
              "    [theme=dark] .colab-df-convert {\n",
              "      background-color: #3B4455;\n",
              "      fill: #D2E3FC;\n",
              "    }\n",
              "\n",
              "    [theme=dark] .colab-df-convert:hover {\n",
              "      background-color: #434B5C;\n",
              "      box-shadow: 0px 1px 3px 1px rgba(0, 0, 0, 0.15);\n",
              "      filter: drop-shadow(0px 1px 2px rgba(0, 0, 0, 0.3));\n",
              "      fill: #FFFFFF;\n",
              "    }\n",
              "  </style>\n",
              "\n",
              "      <script>\n",
              "        const buttonEl =\n",
              "          document.querySelector('#df-ec9b7706-113d-4940-842b-cbb012a5f2d9 button.colab-df-convert');\n",
              "        buttonEl.style.display =\n",
              "          google.colab.kernel.accessAllowed ? 'block' : 'none';\n",
              "\n",
              "        async function convertToInteractive(key) {\n",
              "          const element = document.querySelector('#df-ec9b7706-113d-4940-842b-cbb012a5f2d9');\n",
              "          const dataTable =\n",
              "            await google.colab.kernel.invokeFunction('convertToInteractive',\n",
              "                                                     [key], {});\n",
              "          if (!dataTable) return;\n",
              "\n",
              "          const docLinkHtml = 'Like what you see? Visit the ' +\n",
              "            '<a target=\"_blank\" href=https://colab.research.google.com/notebooks/data_table.ipynb>data table notebook</a>'\n",
              "            + ' to learn more about interactive tables.';\n",
              "          element.innerHTML = '';\n",
              "          dataTable['output_type'] = 'display_data';\n",
              "          await google.colab.output.renderOutput(dataTable, element);\n",
              "          const docLink = document.createElement('div');\n",
              "          docLink.innerHTML = docLinkHtml;\n",
              "          element.appendChild(docLink);\n",
              "        }\n",
              "      </script>\n",
              "    </div>\n",
              "  </div>\n",
              "  "
            ]
          },
          "metadata": {},
          "execution_count": 27
        }
      ],
      "source": [
        "#model history\n",
        "import pandas as pd\n",
        "loss_df = pd.DataFrame(ResNet101_MODEL.history.history)\n",
        "loss_df"
      ]
    },
    {
      "cell_type": "code",
      "execution_count": 28,
      "metadata": {
        "colab": {
          "base_uri": "https://localhost:8080/"
        },
        "id": "h6cs30W_qOkP",
        "outputId": "44270e87-6fac-4569-9c58-36a53f5448f6"
      },
      "outputs": [
        {
          "output_type": "stream",
          "name": "stdout",
          "text": [
            "28/28 [==============================] - 11s 349ms/step\n"
          ]
        }
      ],
      "source": [
        "#prediction on test data\n",
        "predictions = np.argmax(ResNet101_MODEL.predict(test_set), axis = -1)"
      ]
    },
    {
      "cell_type": "code",
      "execution_count": 29,
      "metadata": {
        "colab": {
          "base_uri": "https://localhost:8080/"
        },
        "id": "5t7Zkcl_qOg9",
        "outputId": "d22233ca-2f56-404f-f03f-d92748c8fde2"
      },
      "outputs": [
        {
          "output_type": "stream",
          "name": "stdout",
          "text": [
            "              precision    recall  f1-score   support\n",
            "\n",
            "           0       0.76      0.65      0.70       362\n",
            "           1       0.73      0.55      0.63       246\n",
            "           2       0.82      0.92      0.86      1020\n",
            "           3       0.91      0.83      0.87       135\n",
            "\n",
            "    accuracy                           0.80      1763\n",
            "   macro avg       0.80      0.74      0.76      1763\n",
            "weighted avg       0.80      0.80      0.80      1763\n",
            "\n"
          ]
        }
      ],
      "source": [
        "#classification report\n",
        "print(classification_report(test_set.classes,predictions))"
      ]
    },
    {
      "cell_type": "code",
      "execution_count": 30,
      "metadata": {
        "id": "DIHRpWCSqOds"
      },
      "outputs": [],
      "source": [
        "# compute the confusion matrix and and use it to derive the raw\n",
        "# accuracy, sensitivity, and specificity\n",
        "cm = confusion_matrix(test_set.classes, predictions)\n",
        "sensitivity = cm[0, 0] / (cm[0, 0] + cm[0, 1])\n",
        "specificity = cm[1, 1] / (cm[1, 0] + cm[1, 1])"
      ]
    },
    {
      "cell_type": "code",
      "execution_count": 31,
      "metadata": {
        "colab": {
          "base_uri": "https://localhost:8080/",
          "height": 369
        },
        "id": "QFU6yPtSqlJP",
        "outputId": "029b21dc-d985-4a8c-fbc2-1533e5e52525"
      },
      "outputs": [
        {
          "output_type": "stream",
          "name": "stdout",
          "text": [
            "[[234  16 111   1]\n",
            " [ 24 135  87   0]\n",
            " [ 41  33 936  10]\n",
            " [ 10   2  11 112]]\n",
            "sensitivity: 0.9360\n",
            "specificity: 0.8491\n"
          ]
        },
        {
          "output_type": "display_data",
          "data": {
            "text/plain": [
              "<Figure size 432x288 with 2 Axes>"
            ],
            "image/png": "[encoded data removed]"
          },
          "metadata": {
            "needs_background": "light"
          }
        }
      ],
      "source": [
        "import seaborn as sns\n",
        "print(confusion_matrix(test_set.classes,predictions))\n",
        "sns.heatmap(confusion_matrix(test_set.classes,predictions), annot = True)\n",
        "# show the sensitivity, and specificity\n",
        "print(\"sensitivity: {:.4f}\".format(sensitivity))\n",
        "print(\"specificity: {:.4f}\".format(specificity))"
      ]
    },
    {
      "cell_type": "code",
      "execution_count": 32,
      "metadata": {
        "colab": {
          "base_uri": "https://localhost:8080/",
          "height": 369
        },
        "id": "535OqvyrsXlm",
        "outputId": "5b6ac6bf-b037-4256-f950-aba2e434cf51"
      },
      "outputs": [
        {
          "output_type": "stream",
          "name": "stdout",
          "text": [
            "[[234  16 111   1]\n",
            " [ 24 135  87   0]\n",
            " [ 41  33 936  10]\n",
            " [ 10   2  11 112]]\n",
            "sensitivity: 0.9360\n",
            "specificity: 0.8491\n"
          ]
        },
        {
          "output_type": "display_data",
          "data": {
            "text/plain": [
              "<Figure size 432x288 with 2 Axes>"
            ],
            "image/png": "[encoded data removed]"
          },
          "metadata": {
            "needs_background": "light"
          }
        }
      ],
      "source": [
        "import seaborn as sns\n",
        "print(confusion_matrix(test_set.classes,predictions))\n",
        "sns.heatmap(confusion_matrix(test_set.classes,predictions), annot = True)\n",
        "# show the sensitivity, and specificity\n",
        "print(\"sensitivity: {:.4f}\".format(sensitivity))\n",
        "print(\"specificity: {:.4f}\".format(specificity))"
      ]
    },
    {
      "cell_type": "code",
      "execution_count": 33,
      "metadata": {
        "id": "8w_awKBLKs87"
      },
      "outputs": [],
      "source": [
        "from numpy import sqrt"
      ]
    },
    {
      "cell_type": "code",
      "execution_count": 34,
      "metadata": {
        "id": "wf4wnko9AWls",
        "colab": {
          "base_uri": "https://localhost:8080/"
        },
        "outputId": "71dc208e-1406-46fa-b2be-aba53083ab84"
      },
      "outputs": [
        {
          "output_type": "stream",
          "name": "stdout",
          "text": [
            "G_Mean:  0.8914690017785675\n"
          ]
        }
      ],
      "source": [
        "G_Mean = sqrt(sensitivity * specificity)\n",
        "print(\"G_Mean: \", G_Mean)"
      ]
    },
    {
      "cell_type": "code",
      "execution_count": 35,
      "metadata": {
        "id": "o_G1i4iLBe4t"
      },
      "outputs": [],
      "source": [
        "True_Positive_Rate = cm[0, 0] / (cm[0, 0] + cm[0, 1])\n",
        "False_Positive_Rate = cm[1, 0] / (cm[1, 0] + cm[1, 1])"
      ]
    },
    {
      "cell_type": "code",
      "execution_count": 36,
      "metadata": {
        "id": "_YzMjnD2CAy9",
        "colab": {
          "base_uri": "https://localhost:8080/"
        },
        "outputId": "ab0ff573-b85c-41d6-c574-8e98344e368b"
      },
      "outputs": [
        {
          "output_type": "stream",
          "name": "stdout",
          "text": [
            "True_Positive_Rate: 0.9360\n",
            "False_Positive_Rate: 0.1509\n"
          ]
        }
      ],
      "source": [
        "print(\"True_Positive_Rate: {:.4f}\".format(True_Positive_Rate))\n",
        "print(\"False_Positive_Rate: {:.4f}\".format(False_Positive_Rate))"
      ]
    },
    {
      "cell_type": "code",
      "execution_count": 36,
      "metadata": {
        "id": "QZgA9104s0zZ"
      },
      "outputs": [],
      "source": []
    },
    {
      "cell_type": "markdown",
      "metadata": {
        "id": "G0r3QSYWgJIz"
      },
      "source": [
        "# **ROC**"
      ]
    },
    {
      "cell_type": "code",
      "execution_count": 37,
      "metadata": {
        "id": "4oMXTGIIyMRL",
        "colab": {
          "base_uri": "https://localhost:8080/"
        },
        "outputId": "a510e89b-b901-4418-93b3-3b3d81536490"
      },
      "outputs": [
        {
          "output_type": "stream",
          "name": "stdout",
          "text": [
            "<keras.preprocessing.image.DirectoryIterator object at 0x7fa3fec24cd0>\n",
            "[0 0 0 ... 3 3 3]\n"
          ]
        }
      ],
      "source": [
        "print(test_set)\n",
        "print(predictions)"
      ]
    },
    {
      "cell_type": "code",
      "execution_count": 38,
      "metadata": {
        "id": "OqXtMjgLCxg1",
        "colab": {
          "base_uri": "https://localhost:8080/"
        },
        "outputId": "54257793-6b34-491f-9825-6ab62aa40776"
      },
      "outputs": [
        {
          "output_type": "stream",
          "name": "stdout",
          "text": [
            "(1763, 4)\n"
          ]
        }
      ],
      "source": [
        "testsetTo = np.concatenate([test_set.next()[1] for i in range(test_set.__len__())])\n",
        "print(testsetTo.shape)"
      ]
    },
    {
      "cell_type": "code",
      "execution_count": 39,
      "metadata": {
        "id": "fVtTlUa7SivZ"
      },
      "outputs": [],
      "source": [
        "from scipy import interp\n",
        "import matplotlib.pyplot as plt\n",
        "from sklearn.metrics import roc_curve, auc"
      ]
    },
    {
      "cell_type": "code",
      "execution_count": 40,
      "metadata": {
        "id": "ewnd0Mor2ixG"
      },
      "outputs": [],
      "source": [
        "#ROC-AUC Curve\n",
        "# Learn to predict each class against the other\n",
        "n_classes = 4 \n",
        "# Compute ROC curve and ROC area for each class\n",
        "fpr = dict()\n",
        "tpr = dict()\n",
        "thresh = dict()\n",
        "roc_auc = dict()\n",
        "lw = 2 \n",
        "for i in range(n_classes):\n",
        "    fpr[i], tpr[i], thresh[i] = roc_curve(np.argmax(testsetTo, axis=1), predictions, pos_label=i)\n",
        "    roc_auc[i] = auc(fpr[i], tpr[i])"
      ]
    },
    {
      "cell_type": "code",
      "execution_count": 41,
      "metadata": {
        "id": "gVgL6uwboEUn"
      },
      "outputs": [],
      "source": [
        "# Compute micro-average ROC curve and ROC area\n",
        "fpr[\"micro\"], tpr[\"micro\"], thresh[i] = roc_curve(np.argmax(testsetTo, axis=1), predictions, pos_label=i) \n",
        "roc_auc[\"micro\"] = auc(fpr[\"micro\"], tpr[\"micro\"])"
      ]
    },
    {
      "cell_type": "code",
      "execution_count": 42,
      "metadata": {
        "id": "sHDd3VDr8lkm",
        "colab": {
          "base_uri": "https://localhost:8080/",
          "height": 350
        },
        "outputId": "96fb34f0-63ec-4ae0-daa2-3cb66bcd633d"
      },
      "outputs": [
        {
          "output_type": "stream",
          "name": "stderr",
          "text": [
            "/usr/local/lib/python3.7/dist-packages/ipykernel_launcher.py:11: DeprecationWarning: scipy.interp is deprecated and will be removed in SciPy 2.0.0, use numpy.interp instead\n",
            "  # This is added back by InteractiveShellApp.init_path()\n"
          ]
        },
        {
          "output_type": "display_data",
          "data": {
            "text/plain": [
              "<Figure size 432x288 with 1 Axes>"
            ],
            "image/png": "[encoded data removed]"
          },
          "metadata": {
            "needs_background": "light"
          }
        }
      ],
      "source": [
        "# Process of plotting roc-auc curve belonging to all classes.\n",
        "\n",
        "from itertools import cycle\n",
        "roc_auc_scores = []\n",
        "# First aggregate all false positive rates\n",
        "all_fpr = np.unique(np.concatenate([fpr[i] for i in range(n_classes)]))\n",
        "\n",
        "# Then interpolate all ROC curves at this points\n",
        "mean_tpr = np.zeros_like(all_fpr)\n",
        "for i in range(n_classes):\n",
        "    mean_tpr += interp(all_fpr, fpr[i], tpr[i])\n",
        "\n",
        "# Finally average it and compute AUC\n",
        "mean_tpr /= n_classes\n",
        "\n",
        "fpr[\"macro\"] = all_fpr\n",
        "tpr[\"macro\"] = mean_tpr\n",
        "roc_auc[\"macro\"] = auc(fpr[\"macro\"], tpr[\"macro\"])\n",
        "\n",
        "# Plot all ROC curves\n",
        "plt.figure()\n",
        "plt.plot(fpr[\"micro\"], tpr[\"micro\"],\n",
        "         label='micro-average ROC curve (area = {0:0.2f})'\n",
        "               ''.format(roc_auc[\"micro\"]),\n",
        "         color='deeppink', linestyle=':', linewidth=4)\n",
        "\n",
        "plt.plot(fpr[\"macro\"], tpr[\"macro\"],\n",
        "         label='macro-average ROC curve (area = {0:0.2f})'\n",
        "               ''.format(roc_auc[\"macro\"]),\n",
        "         color='navy', linestyle=':', linewidth=4)\n",
        "\n",
        "colors = cycle(['red', 'darkorange', 'cornflowerblue', 'aqua'])\n",
        "for i, color in zip(range(n_classes), colors):\n",
        "    plt.plot(fpr[i], tpr[i], color=color, lw=lw,\n",
        "             label='ROC curve of class {0} (area = {1:0.2f})'\n",
        "             ''.format(i, roc_auc[i]))\n",
        "    roc_auc_scores.append(roc_auc[i])\n",
        "\n",
        "plt.plot([0, 1], [0, 1], 'k--', lw=lw)\n",
        "plt.xlim([0.0, 1.0])\n",
        "plt.ylim([0.0, 1.05])\n",
        "plt.xlabel('False Positive Rate')\n",
        "plt.ylabel('True Positive Rate')\n",
        "plt.title('ROC Curve to each class')\n",
        "plt.legend(loc=\"lower right\")\n",
        "plt.show()"
      ]
    }
  ],
  "metadata": {
    "accelerator": "GPU",
    "colab": {
      "collapsed_sections": [],
      "provenance": []
    },
    "kernelspec": {
      "display_name": "Python 3",
      "name": "python3"
    },
    "language_info": {
      "name": "python"
    }
  },
  "nbformat": 4,
  "nbformat_minor": 0
}