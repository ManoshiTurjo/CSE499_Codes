{
  "nbformat": 4,
  "nbformat_minor": 0,
  "metadata": {
    "colab": {
      "provenance": [],
      "collapsed_sections": []
    },
    "kernelspec": {
      "name": "python3",
      "display_name": "Python 3"
    },
    "language_info": {
      "name": "python"
    },
    "accelerator": "GPU"
  },
  "cells": [
    {
      "cell_type": "code",
      "execution_count": 1,
      "metadata": {
        "id": "Yid6nfv5m-Fw"
      },
      "outputs": [],
      "source": [
        "import pandas as pd\n",
        "import numpy as np\n",
        "import tensorflow as tf\n",
        "from glob import glob\n",
        "import seaborn as sns\n",
        "import matplotlib.pyplot as plt\n",
        "import random\n",
        "import os\n",
        "import cv2\n",
        "\n",
        "!pip install opendatasets --upgrade --quiet\n",
        "import opendatasets as od"
      ]
    },
    {
      "cell_type": "code",
      "source": [
        "from tensorflow import keras\n",
        "from tensorflow.keras.preprocessing.image import ImageDataGenerator\n",
        "from tensorflow.keras.layers import Conv2D\n",
        "from tensorflow.keras.layers import MaxPooling2D\n",
        "from tensorflow.keras.layers import AveragePooling2D\n",
        "from tensorflow.keras.layers import GlobalAveragePooling2D\n",
        "from tensorflow.keras.optimizers import RMSprop,Adam\n",
        "from tensorflow.keras.models import Sequential\n",
        "from tensorflow.keras.layers import Dropout\n",
        "from tensorflow.keras.layers import Flatten\n",
        "from tensorflow.keras.layers import Input\n",
        "from tensorflow.keras.layers import Dense\n",
        "#from keras.layers.merge import concatenate\n",
        "from tensorflow.keras.models import Model\n",
        "from keras.preprocessing import image\n",
        "from keras.layers import Dense, Flatten, AveragePooling2D, Dropout\n",
        "from tensorflow.keras.optimizers import Adam\n",
        "from tensorflow.keras.utils import to_categorical\n",
        "from sklearn.preprocessing import LabelBinarizer\n",
        "from sklearn.model_selection import train_test_split\n",
        "from sklearn.metrics import classification_report\n",
        "from sklearn.model_selection import train_test_split\n",
        "from sklearn.metrics import confusion_matrix\n",
        "from imutils import paths\n",
        "import argparse"
      ],
      "metadata": {
        "id": "8A5p3rr0nVp8"
      },
      "execution_count": 2,
      "outputs": []
    },
    {
      "cell_type": "code",
      "source": [
        "from google.colab import drive\n",
        "drive.mount('/content/drive')"
      ],
      "metadata": {
        "id": "8QykD-gJoBUY",
        "colab": {
          "base_uri": "https://localhost:8080/"
        },
        "outputId": "80264044-ddc2-4011-bf83-039783d846d2"
      },
      "execution_count": 3,
      "outputs": [
        {
          "output_type": "stream",
          "name": "stdout",
          "text": [
            "Mounted at /content/drive\n"
          ]
        }
      ]
    },
    {
      "cell_type": "code",
      "source": [
        "dataset_url = 'https://www.kaggle.com/datasets/tawsifurrahman/covid19-radiography-database?recency=last7Days'\n",
        "data_dir = '/content/COVID-19_Radiography_Dataset'"
      ],
      "metadata": {
        "id": "S0i5VL9xoCPN"
      },
      "execution_count": 4,
      "outputs": []
    },
    {
      "cell_type": "code",
      "source": [
        "# #load training and testing dataset from output directory where the split is fixed for all models\n",
        "# train_datagen=ImageDataGenerator(rescale = 1./255,\n",
        "#                                    rotation_range=15,\n",
        "#                                    fill_mode=\"nearest\",\n",
        "#                                    horizontal_flip = True)\n",
        "# valid_datagen=ImageDataGenerator(rescale = 1./255)\n",
        "# test_datagen=ImageDataGenerator(rescale = 1./255)\n",
        "\n",
        "# training_set=train_datagen.flow_from_directory('/content/drive/MyDrive/New_DS/output/train',\n",
        "#                                                  target_size = (224, 224),\n",
        "#                                                  batch_size = 64,\n",
        "#                                                  class_mode = 'categorical',\n",
        "#                                                  shuffle=True)\n",
        "# valid_set=valid_datagen.flow_from_directory('/content/drive/MyDrive/New_DS/output/val',\n",
        "#                                             target_size = (224, 224),\n",
        "#                                             batch_size = 64,\n",
        "#                                             class_mode = 'categorical',\n",
        "#                                             shuffle = False)\n",
        "# test_set=test_datagen.flow_from_directory('/content/drive/MyDrive/New_DS/output/test',\n",
        "#                                             target_size = (224, 224),\n",
        "#                                             batch_size = 64,\n",
        "#                                             class_mode = 'categorical',\n",
        "#                                             shuffle = False)"
      ],
      "metadata": {
        "id": "PahcXl2P7XqJ"
      },
      "execution_count": 5,
      "outputs": []
    },
    {
      "cell_type": "code",
      "execution_count": 6,
      "metadata": {
        "id": "5iE4mI-XbGlb",
        "colab": {
          "base_uri": "https://localhost:8080/"
        },
        "outputId": "7d00204a-1db5-482c-f7c6-d3566644cfbb"
      },
      "outputs": [
        {
          "output_type": "stream",
          "name": "stdout",
          "text": [
            "Looking in indexes: https://pypi.org/simple, https://us-python.pkg.dev/colab-wheels/public/simple/\n",
            "Collecting split-folders\n",
            "  Downloading split_folders-0.5.1-py3-none-any.whl (8.4 kB)\n",
            "Installing collected packages: split-folders\n",
            "Successfully installed split-folders-0.5.1\n"
          ]
        },
        {
          "output_type": "stream",
          "name": "stderr",
          "text": [
            "Copying files: 17606 files [05:51, 50.07 files/s] \n"
          ]
        }
      ],
      "source": [
        "!pip install split-folders\n",
        "import splitfolders\n",
        "input_folder = '/content/drive/MyDrive/Covid_DS/Covid19_Radiography Dataset'\n",
        "splitfolders.ratio( input_folder,\n",
        "                   output=\"output\",seed=1337,ratio=(0.7,0.2,0.1)) "
      ]
    },
    {
      "cell_type": "code",
      "execution_count": 7,
      "metadata": {
        "id": "Z0jXKuyVbM19",
        "colab": {
          "base_uri": "https://localhost:8080/"
        },
        "outputId": "cd7b5148-c34b-435b-c191-b2fba5d8bc7f"
      },
      "outputs": [
        {
          "output_type": "stream",
          "name": "stdout",
          "text": [
            "Found 12323 images belonging to 4 classes.\n",
            "Found 3520 images belonging to 4 classes.\n",
            "Found 1763 images belonging to 4 classes.\n"
          ]
        }
      ],
      "source": [
        "#load training and testing dataset from directory\n",
        "train_datagen=ImageDataGenerator(rescale = 1./255,\n",
        "                                   rotation_range=15,\n",
        "                                   fill_mode=\"nearest\",\n",
        "                                   horizontal_flip = True)\n",
        "valid_datagen=ImageDataGenerator(rescale = 1./255)\n",
        "test_datagen=ImageDataGenerator(rescale = 1./255)\n",
        "\n",
        "training_set=train_datagen.flow_from_directory('/content/output/train',\n",
        "                                                 target_size = (224, 224),\n",
        "                                                 batch_size = 64,\n",
        "                                                 class_mode = 'categorical',\n",
        "                                                 shuffle=True)\n",
        "valid_set=valid_datagen.flow_from_directory('/content/output/val',\n",
        "                                            target_size = (224, 224),\n",
        "                                            batch_size = 64,\n",
        "                                            class_mode = 'categorical',\n",
        "                                            shuffle = False)\n",
        "test_set=test_datagen.flow_from_directory('/content/output/test',\n",
        "                                            target_size = (224, 224),\n",
        "                                            batch_size = 64,\n",
        "                                            class_mode = 'categorical',\n",
        "                                            shuffle = False)"
      ]
    },
    {
      "cell_type": "code",
      "source": [
        "print(training_set.class_indices)\n",
        "print(valid_set.class_indices)\n",
        "print(test_set.class_indices)"
      ],
      "metadata": {
        "id": "who98HksoNQr",
        "colab": {
          "base_uri": "https://localhost:8080/"
        },
        "outputId": "e36cfe03-d569-4db3-c969-8771844fedc0"
      },
      "execution_count": 8,
      "outputs": [
        {
          "output_type": "stream",
          "name": "stdout",
          "text": [
            "{'COVID': 0, 'Lung_Opacity': 1, 'Normal': 2, 'Viral Pneumonia': 3}\n",
            "{'COVID': 0, 'Lung_Opacity': 1, 'Normal': 2, 'Viral Pneumonia': 3}\n",
            "{'COVID': 0, 'Lung_Opacity': 1, 'Normal': 2, 'Viral Pneumonia': 3}\n"
          ]
        }
      ]
    },
    {
      "cell_type": "code",
      "source": [
        "#visulaize data\n",
        "fig, ax = plt.subplots()\n",
        "ax.bar(\"COVID-19\",3616,color=\"r\",label=\"Covid19\")\n",
        "ax.bar(\"Lung_Opacity\",6012 ,color=\"b\",label=\"Lung_Opacity\")\n",
        "ax.bar(\"NORMAL\",10192,color=\"m\",label=\"Normal\")\n",
        "ax.bar(\"Viral Pneumonia\",1345,color=\"g\",label=\"Viral Pneumonia\")\n",
        "ax.legend()"
      ],
      "metadata": {
        "id": "JAQ7HnmRoNHq",
        "colab": {
          "base_uri": "https://localhost:8080/",
          "height": 283
        },
        "outputId": "409ec97c-a997-42f5-b0cd-eb1758f4ab9a"
      },
      "execution_count": 9,
      "outputs": [
        {
          "output_type": "execute_result",
          "data": {
            "text/plain": [
              "<matplotlib.legend.Legend at 0x7f603744be10>"
            ]
          },
          "metadata": {},
          "execution_count": 9
        },
        {
          "output_type": "display_data",
          "data": {
            "text/plain": [
              "<Figure size 432x288 with 1 Axes>"
            ],
            "image/png": "[encoded data removed]"
          },
          "metadata": {
            "needs_background": "light"
          }
        }
      ]
    },
    {
      "cell_type": "code",
      "source": [
        "from keras.applications.vgg16 import VGG16\n",
        "baseModel = VGG16(input_shape=(224,224,3), weights='imagenet', include_top=False)\n",
        "\n",
        "for layer in baseModel.layers:\n",
        "    layer.trainable = False\n",
        "\n",
        "VgModel = baseModel.output\n",
        "VgModel = AveragePooling2D()(VgModel)\n",
        "VgModel = Flatten()(VgModel)\n",
        "VgModel = Dense(128, activation=\"relu\")(VgModel)\n",
        "VgModel = Dropout(0.2)(VgModel)\n",
        "VgModel = Dense(4, activation='softmax')(VgModel)\n",
        "\n",
        "VGG16_MODEL = Model(inputs=baseModel.input, outputs=VgModel)"
      ],
      "metadata": {
        "id": "3lS4ViFNoNAd",
        "colab": {
          "base_uri": "https://localhost:8080/"
        },
        "outputId": "3abd4c75-1c13-4e9b-fd23-640251c77db6"
      },
      "execution_count": 10,
      "outputs": [
        {
          "output_type": "stream",
          "name": "stdout",
          "text": [
            "Downloading data from https://storage.googleapis.com/tensorflow/keras-applications/vgg16/vgg16_weights_tf_dim_ordering_tf_kernels_notop.h5\n",
            "58889256/58889256 [==============================] - 1s 0us/step\n"
          ]
        }
      ]
    },
    {
      "cell_type": "code",
      "source": [
        "VGG16_MODEL.compile(optimizer= tf.keras.optimizers.Adam(0.001),\n",
        "              loss='categorical_crossentropy',\n",
        "              metrics=['accuracy','Precision','Recall'])\n",
        "VGG16_MODEL.summary()"
      ],
      "metadata": {
        "id": "Dpiq5E9hpSQv",
        "colab": {
          "base_uri": "https://localhost:8080/"
        },
        "outputId": "8d195ab0-b2e3-4cd7-bdb3-70e45d1c3b17"
      },
      "execution_count": 11,
      "outputs": [
        {
          "output_type": "stream",
          "name": "stdout",
          "text": [
            "Model: \"model\"\n",
            "_________________________________________________________________\n",
            " Layer (type)                Output Shape              Param #   \n",
            "=================================================================\n",
            " input_1 (InputLayer)        [(None, 224, 224, 3)]     0         \n",
            "                                                                 \n",
            " block1_conv1 (Conv2D)       (None, 224, 224, 64)      1792      \n",
            "                                                                 \n",
            " block1_conv2 (Conv2D)       (None, 224, 224, 64)      36928     \n",
            "                                                                 \n",
            " block1_pool (MaxPooling2D)  (None, 112, 112, 64)      0         \n",
            "                                                                 \n",
            " block2_conv1 (Conv2D)       (None, 112, 112, 128)     73856     \n",
            "                                                                 \n",
            " block2_conv2 (Conv2D)       (None, 112, 112, 128)     147584    \n",
            "                                                                 \n",
            " block2_pool (MaxPooling2D)  (None, 56, 56, 128)       0         \n",
            "                                                                 \n",
            " block3_conv1 (Conv2D)       (None, 56, 56, 256)       295168    \n",
            "                                                                 \n",
            " block3_conv2 (Conv2D)       (None, 56, 56, 256)       590080    \n",
            "                                                                 \n",
            " block3_conv3 (Conv2D)       (None, 56, 56, 256)       590080    \n",
            "                                                                 \n",
            " block3_pool (MaxPooling2D)  (None, 28, 28, 256)       0         \n",
            "                                                                 \n",
            " block4_conv1 (Conv2D)       (None, 28, 28, 512)       1180160   \n",
            "                                                                 \n",
            " block4_conv2 (Conv2D)       (None, 28, 28, 512)       2359808   \n",
            "                                                                 \n",
            " block4_conv3 (Conv2D)       (None, 28, 28, 512)       2359808   \n",
            "                                                                 \n",
            " block4_pool (MaxPooling2D)  (None, 14, 14, 512)       0         \n",
            "                                                                 \n",
            " block5_conv1 (Conv2D)       (None, 14, 14, 512)       2359808   \n",
            "                                                                 \n",
            " block5_conv2 (Conv2D)       (None, 14, 14, 512)       2359808   \n",
            "                                                                 \n",
            " block5_conv3 (Conv2D)       (None, 14, 14, 512)       2359808   \n",
            "                                                                 \n",
            " block5_pool (MaxPooling2D)  (None, 7, 7, 512)         0         \n",
            "                                                                 \n",
            " average_pooling2d (AverageP  (None, 3, 3, 512)        0         \n",
            " ooling2D)                                                       \n",
            "                                                                 \n",
            " flatten (Flatten)           (None, 4608)              0         \n",
            "                                                                 \n",
            " dense (Dense)               (None, 128)               589952    \n",
            "                                                                 \n",
            " dropout (Dropout)           (None, 128)               0         \n",
            "                                                                 \n",
            " dense_1 (Dense)             (None, 4)                 516       \n",
            "                                                                 \n",
            "=================================================================\n",
            "Total params: 15,305,156\n",
            "Trainable params: 590,468\n",
            "Non-trainable params: 14,714,688\n",
            "_________________________________________________________________\n"
          ]
        }
      ]
    },
    {
      "cell_type": "code",
      "source": [
        "tf.keras.callbacks.ReduceLROnPlateau\n",
        "from keras.callbacks import LearningRateScheduler"
      ],
      "metadata": {
        "id": "Lq75GuS8ao0y"
      },
      "execution_count": 12,
      "outputs": []
    },
    {
      "cell_type": "code",
      "source": [
        "#to avoid overfitting\n",
        "early = tf.keras.callbacks.EarlyStopping(monitor='val_accuracy', patience=5)"
      ],
      "metadata": {
        "id": "Zh-tw7SmZl7i"
      },
      "execution_count": 13,
      "outputs": []
    },
    {
      "cell_type": "code",
      "source": [
        "epochs = 100\n",
        "learning_rate = 0.001\n",
        "decay_rate = learning_rate / epochs\n",
        "optimizer_details = Adam(lr = learning_rate, decay = decay_rate)"
      ],
      "metadata": {
        "colab": {
          "base_uri": "https://localhost:8080/"
        },
        "id": "emt6Q1F2kxcf",
        "outputId": "4b675b67-3ee6-4269-c046-6f7e763f8113"
      },
      "execution_count": 14,
      "outputs": [
        {
          "output_type": "stream",
          "name": "stderr",
          "text": [
            "/usr/local/lib/python3.7/dist-packages/keras/optimizers/optimizer_v2/adam.py:110: UserWarning: The `lr` argument is deprecated, use `learning_rate` instead.\n",
            "  super(Adam, self).__init__(name, **kwargs)\n"
          ]
        }
      ]
    },
    {
      "cell_type": "code",
      "source": [
        "VGG16_MODEL.compile(optimizer = optimizer_details, \n",
        "              loss='categorical_crossentropy',\n",
        "              metrics=['accuracy','Precision','Recall'])\n",
        "history = VGG16_MODEL.fit_generator(training_set, validation_data = valid_set, epochs=epochs, verbose=1, callbacks=[early])"
      ],
      "metadata": {
        "id": "HdD9qSvtnH6j",
        "colab": {
          "base_uri": "https://localhost:8080/"
        },
        "outputId": "ec3585b4-39f2-468a-9450-8b35767f142c"
      },
      "execution_count": 15,
      "outputs": [
        {
          "output_type": "stream",
          "name": "stderr",
          "text": [
            "/usr/local/lib/python3.7/dist-packages/ipykernel_launcher.py:4: UserWarning: `Model.fit_generator` is deprecated and will be removed in a future version. Please use `Model.fit`, which supports generators.\n",
            "  after removing the cwd from sys.path.\n"
          ]
        },
        {
          "output_type": "stream",
          "name": "stdout",
          "text": [
            "Epoch 1/100\n",
            "193/193 [==============================] - 191s 920ms/step - loss: 0.6289 - accuracy: 0.7671 - precision: 0.8247 - recall: 0.6916 - val_loss: 0.4309 - val_accuracy: 0.8497 - val_precision: 0.8812 - val_recall: 0.8111\n",
            "Epoch 2/100\n",
            "193/193 [==============================] - 169s 875ms/step - loss: 0.4279 - accuracy: 0.8422 - precision: 0.8687 - recall: 0.8112 - val_loss: 0.3984 - val_accuracy: 0.8543 - val_precision: 0.8805 - val_recall: 0.8227\n",
            "Epoch 3/100\n",
            "193/193 [==============================] - 170s 880ms/step - loss: 0.3699 - accuracy: 0.8701 - precision: 0.8884 - recall: 0.8491 - val_loss: 0.3683 - val_accuracy: 0.8648 - val_precision: 0.8770 - val_recall: 0.8531\n",
            "Epoch 4/100\n",
            "193/193 [==============================] - 171s 884ms/step - loss: 0.3483 - accuracy: 0.8735 - precision: 0.8875 - recall: 0.8565 - val_loss: 0.3496 - val_accuracy: 0.8719 - val_precision: 0.8876 - val_recall: 0.8528\n",
            "Epoch 5/100\n",
            "193/193 [==============================] - 170s 880ms/step - loss: 0.3290 - accuracy: 0.8783 - precision: 0.8928 - recall: 0.8648 - val_loss: 0.3018 - val_accuracy: 0.8920 - val_precision: 0.9020 - val_recall: 0.8815\n",
            "Epoch 6/100\n",
            "193/193 [==============================] - 169s 876ms/step - loss: 0.3023 - accuracy: 0.8903 - precision: 0.9004 - recall: 0.8785 - val_loss: 0.2926 - val_accuracy: 0.8983 - val_precision: 0.9073 - val_recall: 0.8872\n",
            "Epoch 7/100\n",
            "193/193 [==============================] - 170s 882ms/step - loss: 0.2952 - accuracy: 0.8958 - precision: 0.9053 - recall: 0.8857 - val_loss: 0.3447 - val_accuracy: 0.8773 - val_precision: 0.8840 - val_recall: 0.8724\n",
            "Epoch 8/100\n",
            "193/193 [==============================] - 170s 880ms/step - loss: 0.2947 - accuracy: 0.8924 - precision: 0.9003 - recall: 0.8827 - val_loss: 0.2765 - val_accuracy: 0.8989 - val_precision: 0.9071 - val_recall: 0.8909\n",
            "Epoch 9/100\n",
            "193/193 [==============================] - 168s 870ms/step - loss: 0.2777 - accuracy: 0.9005 - precision: 0.9076 - recall: 0.8903 - val_loss: 0.2855 - val_accuracy: 0.8949 - val_precision: 0.9015 - val_recall: 0.8915\n",
            "Epoch 10/100\n",
            "193/193 [==============================] - 168s 870ms/step - loss: 0.2656 - accuracy: 0.9055 - precision: 0.9141 - recall: 0.8975 - val_loss: 0.2692 - val_accuracy: 0.9060 - val_precision: 0.9098 - val_recall: 0.8972\n",
            "Epoch 11/100\n",
            "193/193 [==============================] - 166s 862ms/step - loss: 0.2554 - accuracy: 0.9084 - precision: 0.9162 - recall: 0.8983 - val_loss: 0.2815 - val_accuracy: 0.9011 - val_precision: 0.9063 - val_recall: 0.8963\n",
            "Epoch 12/100\n",
            "193/193 [==============================] - 168s 871ms/step - loss: 0.2537 - accuracy: 0.9063 - precision: 0.9138 - recall: 0.8988 - val_loss: 0.2577 - val_accuracy: 0.9085 - val_precision: 0.9146 - val_recall: 0.9034\n",
            "Epoch 13/100\n",
            "193/193 [==============================] - 169s 873ms/step - loss: 0.2530 - accuracy: 0.9073 - precision: 0.9142 - recall: 0.8997 - val_loss: 0.3158 - val_accuracy: 0.8872 - val_precision: 0.8907 - val_recall: 0.8798\n",
            "Epoch 14/100\n",
            "193/193 [==============================] - 168s 872ms/step - loss: 0.2377 - accuracy: 0.9134 - precision: 0.9186 - recall: 0.9064 - val_loss: 0.2671 - val_accuracy: 0.9043 - val_precision: 0.9086 - val_recall: 0.8977\n",
            "Epoch 15/100\n",
            "193/193 [==============================] - 170s 878ms/step - loss: 0.2371 - accuracy: 0.9141 - precision: 0.9195 - recall: 0.9061 - val_loss: 0.2755 - val_accuracy: 0.8966 - val_precision: 0.9041 - val_recall: 0.8889\n",
            "Epoch 16/100\n",
            "193/193 [==============================] - 169s 876ms/step - loss: 0.2411 - accuracy: 0.9119 - precision: 0.9202 - recall: 0.9056 - val_loss: 0.2678 - val_accuracy: 0.9057 - val_precision: 0.9104 - val_recall: 0.9006\n",
            "Epoch 17/100\n",
            "193/193 [==============================] - 168s 871ms/step - loss: 0.2241 - accuracy: 0.9192 - precision: 0.9252 - recall: 0.9124 - val_loss: 0.2575 - val_accuracy: 0.9068 - val_precision: 0.9115 - val_recall: 0.9009\n"
          ]
        }
      ]
    },
    {
      "cell_type": "code",
      "source": [
        "VGG16_MODEL.evaluate(test_set, verbose=1)\n",
        "#***model.evaluate(test_set)"
      ],
      "metadata": {
        "id": "TjX7yFDmpx3r",
        "colab": {
          "base_uri": "https://localhost:8080/"
        },
        "outputId": "1fd1ba7d-7e48-4d51-8a9e-95d8bc199c2f"
      },
      "execution_count": 16,
      "outputs": [
        {
          "output_type": "stream",
          "name": "stdout",
          "text": [
            "28/28 [==============================] - 8s 297ms/step - loss: 0.2655 - accuracy: 0.9002 - precision: 0.9091 - recall: 0.8962\n"
          ]
        },
        {
          "output_type": "execute_result",
          "data": {
            "text/plain": [
              "[0.2654709815979004, 0.9001701474189758, 0.9090909361839294, 0.896199643611908]"
            ]
          },
          "metadata": {},
          "execution_count": 16
        }
      ]
    },
    {
      "cell_type": "code",
      "source": [
        "VGG16_MODEL.save('VGG16.h5')"
      ],
      "metadata": {
        "id": "uHJPUBUPp6ou"
      },
      "execution_count": 17,
      "outputs": []
    },
    {
      "cell_type": "code",
      "source": [
        "#Accuracy, val_acc, loss, val_loss, epoch_range\n",
        "acc = history.history['accuracy']\n",
        "val_acc = history.history['val_accuracy']     #history2.history['accuracy']\n",
        "loss = history.history['loss']\n",
        "val_loss = history.history['val_loss']\n",
        "epochs=range(len(acc))"
      ],
      "metadata": {
        "id": "ILl09WREqCwk"
      },
      "execution_count": 18,
      "outputs": []
    },
    {
      "cell_type": "code",
      "source": [
        "print(\"accuracy: \",acc)\n",
        "print(\"validation accuracy: \",val_acc)\n",
        "print(\"loss: \",loss)\n",
        "print(\"validation loss: \",val_loss)\n",
        "print(\"epochs: \",epochs)"
      ],
      "metadata": {
        "id": "fmoz0Zq9qEys",
        "colab": {
          "base_uri": "https://localhost:8080/"
        },
        "outputId": "7e99268c-eb32-4b92-b3ad-7244a8b13a88"
      },
      "execution_count": 19,
      "outputs": [
        {
          "output_type": "stream",
          "name": "stdout",
          "text": [
            "accuracy:  [0.7671021819114685, 0.8421650528907776, 0.8700803518295288, 0.8734886050224304, 0.8782764077186584, 0.8902864456176758, 0.8958045840263367, 0.8923963308334351, 0.9005112648010254, 0.9055424928665161, 0.9083827137947083, 0.906272828578949, 0.9073277711868286, 0.913413941860199, 0.9141442775726318, 0.9118720889091492, 0.9191755056381226]\n",
            "validation accuracy:  [0.8497158885002136, 0.8542613387107849, 0.8647727370262146, 0.871874988079071, 0.8920454382896423, 0.8982954621315002, 0.8772727251052856, 0.8988636136054993, 0.8948863744735718, 0.9059659242630005, 0.9011363387107849, 0.9085227251052856, 0.8872159123420715, 0.9042613506317139, 0.8965908885002136, 0.9056817889213562, 0.9068182110786438]\n",
            "loss:  [0.6288644671440125, 0.4278601408004761, 0.3699166178703308, 0.3482765555381775, 0.32902562618255615, 0.3023127317428589, 0.2951885461807251, 0.29473796486854553, 0.2777266204357147, 0.2655724287033081, 0.2554125487804413, 0.25367066264152527, 0.25297173857688904, 0.237714022397995, 0.23713691532611847, 0.24106942117214203, 0.22410421073436737]\n",
            "validation loss:  [0.43088504672050476, 0.3984130024909973, 0.3683021664619446, 0.34957316517829895, 0.3018417954444885, 0.2925976812839508, 0.34468719363212585, 0.2764856815338135, 0.28551915287971497, 0.2691666781902313, 0.2814963161945343, 0.25770166516304016, 0.3157656192779541, 0.2670617997646332, 0.27549710869789124, 0.26781904697418213, 0.25751954317092896]\n",
            "epochs:  range(0, 17)\n"
          ]
        }
      ]
    },
    {
      "cell_type": "code",
      "source": [
        "#plot training nad validation accuracy\n",
        "plt.plot(epochs,acc,label='Training_acc',color='blue')\n",
        "plt.plot(epochs,val_acc,label='Validation_acc',color='red')\n",
        "plt.legend()\n",
        "plt.title(\"Training and Validation Accuracy\")"
      ],
      "metadata": {
        "id": "3VhVarXbqG6M",
        "colab": {
          "base_uri": "https://localhost:8080/",
          "height": 298
        },
        "outputId": "ce467546-9c2c-4e6c-9fa7-e8925fd82b2e"
      },
      "execution_count": 20,
      "outputs": [
        {
          "output_type": "execute_result",
          "data": {
            "text/plain": [
              "Text(0.5, 1.0, 'Training and Validation Accuracy')"
            ]
          },
          "metadata": {},
          "execution_count": 20
        },
        {
          "output_type": "display_data",
          "data": {
            "text/plain": [
              "<Figure size 432x288 with 1 Axes>"
            ],
            "image/png": "[encoded data removed]"
          },
          "metadata": {
            "needs_background": "light"
          }
        }
      ]
    },
    {
      "cell_type": "code",
      "source": [
        "#training and validation loss\n",
        "plt.plot(epochs,loss,label='Training_loss',color='blue')\n",
        "plt.plot(epochs,val_loss,label='Validation_loss',color='red')\n",
        "plt.legend()\n",
        "plt.title(\"Training and Validation loss\")"
      ],
      "metadata": {
        "id": "ryW9YWdrqG3c",
        "colab": {
          "base_uri": "https://localhost:8080/",
          "height": 298
        },
        "outputId": "ae051372-7c75-442b-ec25-8e24b448949b"
      },
      "execution_count": 21,
      "outputs": [
        {
          "output_type": "execute_result",
          "data": {
            "text/plain": [
              "Text(0.5, 1.0, 'Training and Validation loss')"
            ]
          },
          "metadata": {},
          "execution_count": 21
        },
        {
          "output_type": "display_data",
          "data": {
            "text/plain": [
              "<Figure size 432x288 with 1 Axes>"
            ],
            "image/png": "[encoded data removed]"
          },
          "metadata": {
            "needs_background": "light"
          }
        }
      ]
    },
    {
      "cell_type": "code",
      "source": [
        "acc = history.history['accuracy']\n",
        "val_acc = history.history['val_accuracy']\n",
        "\n",
        "train_precision=history.history['precision']\n",
        "val_precision=history.history['val_precision']\n",
        "\n",
        "train_recall=history.history['recall']\n",
        "val_recall=history.history['val_recall']\n",
        "\n",
        "loss = history.history['loss']\n",
        "val_loss = history.history['val_loss']\n",
        "\n",
        "epochs = range(len(acc))\n",
        "\n",
        "plt.plot(epochs, acc, 'r', label='Training accuracy')\n",
        "plt.plot(epochs, val_acc, 'b', label='Validation accuracy')\n",
        "plt.title('Training and validation accuracy')\n",
        "plt.legend()\n",
        "plt.figure()\n",
        "\n",
        "plt.plot(epochs, train_precision, 'r', label='Training precision')\n",
        "plt.plot(epochs, val_precision, 'b', label='Validation precision')\n",
        "plt.title('Training and validation precision')\n",
        "plt.legend()\n",
        "plt.figure()\n",
        "\n",
        "plt.plot(epochs, train_recall, 'r', label='Training recall')\n",
        "plt.plot(epochs, val_recall, 'b', label='Validation recall')\n",
        "plt.title('Training and validation recall')\n",
        "plt.legend()\n",
        "plt.figure()\n",
        "\n",
        "plt.plot(epochs, loss, 'r', label='Training Loss')\n",
        "plt.plot(epochs, val_loss, 'b', label='Validation Loss')\n",
        "plt.title('Training and validation loss')\n",
        "plt.legend()\n",
        "\n",
        "plt.show()"
      ],
      "metadata": {
        "id": "4GEDYvwjqG0b",
        "colab": {
          "base_uri": "https://localhost:8080/",
          "height": 1000
        },
        "outputId": "5e10422a-1e68-458f-c312-769d866e7f9a"
      },
      "execution_count": 22,
      "outputs": [
        {
          "output_type": "display_data",
          "data": {
            "text/plain": [
              "<Figure size 432x288 with 1 Axes>"
            ],
            "image/png": "[encoded data removed]"
          },
          "metadata": {
            "needs_background": "light"
          }
        },
        {
          "output_type": "display_data",
          "data": {
            "text/plain": [
              "<Figure size 432x288 with 1 Axes>"
            ],
            "image/png": "[encoded data removed]"
          },
          "metadata": {
            "needs_background": "light"
          }
        },
        {
          "output_type": "display_data",
          "data": {
            "text/plain": [
              "<Figure size 432x288 with 1 Axes>"
            ],
            "image/png": "[encoded data removed]"
          },
          "metadata": {
            "needs_background": "light"
          }
        },
        {
          "output_type": "display_data",
          "data": {
            "text/plain": [
              "<Figure size 432x288 with 1 Axes>"
            ],
            "image/png": "[encoded data removed]"
          },
          "metadata": {
            "needs_background": "light"
          }
        }
      ]
    },
    {
      "cell_type": "code",
      "source": [
        "#model history\n",
        "import pandas as pd\n",
        "loss_df = pd.DataFrame(VGG16_MODEL.history.history)\n",
        "loss_df"
      ],
      "metadata": {
        "id": "bMuSU0XLqOo4",
        "colab": {
          "base_uri": "https://localhost:8080/",
          "height": 49
        },
        "outputId": "e7787f5d-4652-4c49-dc31-d7839776cc05"
      },
      "execution_count": 23,
      "outputs": [
        {
          "output_type": "execute_result",
          "data": {
            "text/plain": [
              "Empty DataFrame\n",
              "Columns: []\n",
              "Index: []"
            ],
            "text/html": [
              "\n",
              "  <div id=\"df-7a864a7f-d88b-412a-a4f1-5d0153b6b2de\">\n",
              "    <div class=\"colab-df-container\">\n",
              "      <div>\n",
              "<style scoped>\n",
              "    .dataframe tbody tr th:only-of-type {\n",
              "        vertical-align: middle;\n",
              "    }\n",
              "\n",
              "    .dataframe tbody tr th {\n",
              "        vertical-align: top;\n",
              "    }\n",
              "\n",
              "    .dataframe thead th {\n",
              "        text-align: right;\n",
              "    }\n",
              "</style>\n",
              "<table border=\"1\" class=\"dataframe\">\n",
              "  <thead>\n",
              "    <tr style=\"text-align: right;\">\n",
              "      <th></th>\n",
              "    </tr>\n",
              "  </thead>\n",
              "  <tbody>\n",
              "  </tbody>\n",
              "</table>\n",
              "</div>\n",
              "      <button class=\"colab-df-convert\" onclick=\"convertToInteractive('df-7a864a7f-d88b-412a-a4f1-5d0153b6b2de')\"\n",
              "              title=\"Convert this dataframe to an interactive table.\"\n",
              "              style=\"display:none;\">\n",
              "        \n",
              "  <svg xmlns=\"http://www.w3.org/2000/svg\" height=\"24px\"viewBox=\"0 0 24 24\"\n",
              "       width=\"24px\">\n",
              "    <path d=\"M0 0h24v24H0V0z\" fill=\"none\"/>\n",
              "    <path d=\"M18.56 5.44l.94 2.06.94-2.06 2.06-.94-2.06-.94-.94-2.06-.94 2.06-2.06.94zm-11 1L8.5 8.5l.94-2.06 2.06-.94-2.06-.94L8.5 2.5l-.94 2.06-2.06.94zm10 10l.94 2.06.94-2.06 2.06-.94-2.06-.94-.94-2.06-.94 2.06-2.06.94z\"/><path d=\"M17.41 7.96l-1.37-1.37c-.4-.4-.92-.59-1.43-.59-.52 0-1.04.2-1.43.59L10.3 9.45l-7.72 7.72c-.78.78-.78 2.05 0 2.83L4 21.41c.39.39.9.59 1.41.59.51 0 1.02-.2 1.41-.59l7.78-7.78 2.81-2.81c.8-.78.8-2.07 0-2.86zM5.41 20L4 18.59l7.72-7.72 1.47 1.35L5.41 20z\"/>\n",
              "  </svg>\n",
              "      </button>\n",
              "      \n",
              "  <style>\n",
              "    .colab-df-container {\n",
              "      display:flex;\n",
              "      flex-wrap:wrap;\n",
              "      gap: 12px;\n",
              "    }\n",
              "\n",
              "    .colab-df-convert {\n",
              "      background-color: #E8F0FE;\n",
              "      border: none;\n",
              "      border-radius: 50%;\n",
              "      cursor: pointer;\n",
              "      display: none;\n",
              "      fill: #1967D2;\n",
              "      height: 32px;\n",
              "      padding: 0 0 0 0;\n",
              "      width: 32px;\n",
              "    }\n",
              "\n",
              "    .colab-df-convert:hover {\n",
              "      background-color: #E2EBFA;\n",
              "      box-shadow: 0px 1px 2px rgba(60, 64, 67, 0.3), 0px 1px 3px 1px rgba(60, 64, 67, 0.15);\n",
              "      fill: #174EA6;\n",
              "    }\n",
              "\n",
              "    [theme=dark] .colab-df-convert {\n",
              "      background-color: #3B4455;\n",
              "      fill: #D2E3FC;\n",
              "    }\n",
              "\n",
              "    [theme=dark] .colab-df-convert:hover {\n",
              "      background-color: #434B5C;\n",
              "      box-shadow: 0px 1px 3px 1px rgba(0, 0, 0, 0.15);\n",
              "      filter: drop-shadow(0px 1px 2px rgba(0, 0, 0, 0.3));\n",
              "      fill: #FFFFFF;\n",
              "    }\n",
              "  </style>\n",
              "\n",
              "      <script>\n",
              "        const buttonEl =\n",
              "          document.querySelector('#df-7a864a7f-d88b-412a-a4f1-5d0153b6b2de button.colab-df-convert');\n",
              "        buttonEl.style.display =\n",
              "          google.colab.kernel.accessAllowed ? 'block' : 'none';\n",
              "\n",
              "        async function convertToInteractive(key) {\n",
              "          const element = document.querySelector('#df-7a864a7f-d88b-412a-a4f1-5d0153b6b2de');\n",
              "          const dataTable =\n",
              "            await google.colab.kernel.invokeFunction('convertToInteractive',\n",
              "                                                     [key], {});\n",
              "          if (!dataTable) return;\n",
              "\n",
              "          const docLinkHtml = 'Like what you see? Visit the ' +\n",
              "            '<a target=\"_blank\" href=https://colab.research.google.com/notebooks/data_table.ipynb>data table notebook</a>'\n",
              "            + ' to learn more about interactive tables.';\n",
              "          element.innerHTML = '';\n",
              "          dataTable['output_type'] = 'display_data';\n",
              "          await google.colab.output.renderOutput(dataTable, element);\n",
              "          const docLink = document.createElement('div');\n",
              "          docLink.innerHTML = docLinkHtml;\n",
              "          element.appendChild(docLink);\n",
              "        }\n",
              "      </script>\n",
              "    </div>\n",
              "  </div>\n",
              "  "
            ]
          },
          "metadata": {},
          "execution_count": 23
        }
      ]
    },
    {
      "cell_type": "code",
      "source": [
        "#prediction on test data\n",
        "predictions = np.argmax(VGG16_MODEL.predict(test_set), axis = -1)"
      ],
      "metadata": {
        "id": "h6cs30W_qOkP",
        "colab": {
          "base_uri": "https://localhost:8080/"
        },
        "outputId": "e8d6dadc-287f-4cda-ca41-e5ab712e4877"
      },
      "execution_count": 24,
      "outputs": [
        {
          "output_type": "stream",
          "name": "stdout",
          "text": [
            "28/28 [==============================] - 8s 296ms/step\n"
          ]
        }
      ]
    },
    {
      "cell_type": "code",
      "source": [
        "#classification report\n",
        "print(classification_report(test_set.classes,predictions))"
      ],
      "metadata": {
        "id": "5t7Zkcl_qOg9",
        "colab": {
          "base_uri": "https://localhost:8080/"
        },
        "outputId": "8f324c4d-d6a4-44a9-bdfb-a39b6beae6fa"
      },
      "execution_count": 25,
      "outputs": [
        {
          "output_type": "stream",
          "name": "stdout",
          "text": [
            "              precision    recall  f1-score   support\n",
            "\n",
            "           0       0.85      0.92      0.88       362\n",
            "           1       0.86      0.74      0.79       246\n",
            "           2       0.92      0.93      0.93      1020\n",
            "           3       0.96      0.92      0.94       135\n",
            "\n",
            "    accuracy                           0.90      1763\n",
            "   macro avg       0.90      0.88      0.88      1763\n",
            "weighted avg       0.90      0.90      0.90      1763\n",
            "\n"
          ]
        }
      ]
    },
    {
      "cell_type": "code",
      "source": [
        "# compute the confusion matrix and and use it to derive the raw\n",
        "# accuracy, sensitivity, and specificity\n",
        "cm = confusion_matrix(test_set.classes, predictions)\n",
        "sensitivity = cm[0, 0] / (cm[0, 0] + cm[0, 1])\n",
        "specificity = cm[1, 1] / (cm[1, 0] + cm[1, 1])"
      ],
      "metadata": {
        "id": "DIHRpWCSqOds"
      },
      "execution_count": 26,
      "outputs": []
    },
    {
      "cell_type": "code",
      "source": [
        "import seaborn as sns\n",
        "print(confusion_matrix(test_set.classes,predictions))\n",
        "sns.heatmap(confusion_matrix(test_set.classes,predictions), annot = True)\n",
        "# show the sensitivity, and specificity\n",
        "print(\"sensitivity: {:.4f}\".format(sensitivity))\n",
        "print(\"specificity: {:.4f}\".format(specificity))"
      ],
      "metadata": {
        "id": "QFU6yPtSqlJP",
        "colab": {
          "base_uri": "https://localhost:8080/",
          "height": 369
        },
        "outputId": "ebfd7363-60b1-4384-96c3-89fffe03ae9d"
      },
      "execution_count": 27,
      "outputs": [
        {
          "output_type": "stream",
          "name": "stdout",
          "text": [
            "[[332   8  22   0]\n",
            " [ 14 181  51   0]\n",
            " [ 43  22 950   5]\n",
            " [  2   0   9 124]]\n",
            "sensitivity: 0.9765\n",
            "specificity: 0.9282\n"
          ]
        },
        {
          "output_type": "display_data",
          "data": {
            "text/plain": [
              "<Figure size 432x288 with 2 Axes>"
            ],
            "image/png": "[encoded data removed]"
          },
          "metadata": {
            "needs_background": "light"
          }
        }
      ]
    },
    {
      "cell_type": "code",
      "execution_count": 28,
      "metadata": {
        "id": "8w_awKBLKs87"
      },
      "outputs": [],
      "source": [
        "from numpy import sqrt"
      ]
    },
    {
      "cell_type": "code",
      "execution_count": 29,
      "metadata": {
        "id": "wf4wnko9AWls",
        "colab": {
          "base_uri": "https://localhost:8080/"
        },
        "outputId": "b3186d30-50fc-4a0b-eb3e-6cf399ee2643"
      },
      "outputs": [
        {
          "output_type": "stream",
          "name": "stdout",
          "text": [
            "G_Mean:  0.9520320412367843\n"
          ]
        }
      ],
      "source": [
        "G_Mean = sqrt(sensitivity * specificity)\n",
        "print(\"G_Mean: \", G_Mean)"
      ]
    },
    {
      "cell_type": "code",
      "execution_count": 30,
      "metadata": {
        "id": "o_G1i4iLBe4t"
      },
      "outputs": [],
      "source": [
        "True_Positive_Rate = cm[0, 0] / (cm[0, 0] + cm[0, 1])\n",
        "False_Positive_Rate = cm[1, 0] / (cm[1, 0] + cm[1, 1])"
      ]
    },
    {
      "cell_type": "code",
      "execution_count": 31,
      "metadata": {
        "id": "_YzMjnD2CAy9",
        "colab": {
          "base_uri": "https://localhost:8080/"
        },
        "outputId": "a43a6f07-3310-4b19-85fb-2078d7838ba8"
      },
      "outputs": [
        {
          "output_type": "stream",
          "name": "stdout",
          "text": [
            "True_Positive_Rate: 0.9765\n",
            "False_Positive_Rate: 0.0718\n"
          ]
        }
      ],
      "source": [
        "print(\"True_Positive_Rate: {:.4f}\".format(True_Positive_Rate))\n",
        "print(\"False_Positive_Rate: {:.4f}\".format(False_Positive_Rate))"
      ]
    },
    {
      "cell_type": "markdown",
      "metadata": {
        "id": "G0r3QSYWgJIz"
      },
      "source": [
        "# **ROC**"
      ]
    },
    {
      "cell_type": "code",
      "execution_count": 32,
      "metadata": {
        "id": "4oMXTGIIyMRL",
        "colab": {
          "base_uri": "https://localhost:8080/"
        },
        "outputId": "e4dd4df4-1aea-49f8-fe73-c08c8d8a38fa"
      },
      "outputs": [
        {
          "output_type": "stream",
          "name": "stdout",
          "text": [
            "<keras.preprocessing.image.DirectoryIterator object at 0x7f6037510050>\n",
            "[0 0 0 ... 3 3 3]\n"
          ]
        }
      ],
      "source": [
        "print(test_set)\n",
        "print(predictions)"
      ]
    },
    {
      "cell_type": "code",
      "execution_count": 33,
      "metadata": {
        "id": "OqXtMjgLCxg1",
        "colab": {
          "base_uri": "https://localhost:8080/"
        },
        "outputId": "b9cb7382-c241-4ec0-9f6e-6b5b339af6bf"
      },
      "outputs": [
        {
          "output_type": "stream",
          "name": "stdout",
          "text": [
            "(1763, 4)\n"
          ]
        }
      ],
      "source": [
        "testsetTo = np.concatenate([test_set.next()[1] for i in range(test_set.__len__())])\n",
        "print(testsetTo.shape)"
      ]
    },
    {
      "cell_type": "code",
      "execution_count": 34,
      "metadata": {
        "id": "fVtTlUa7SivZ"
      },
      "outputs": [],
      "source": [
        "from scipy import interp\n",
        "import matplotlib.pyplot as plt\n",
        "from sklearn.metrics import roc_curve, auc"
      ]
    },
    {
      "cell_type": "code",
      "execution_count": 35,
      "metadata": {
        "id": "ewnd0Mor2ixG"
      },
      "outputs": [],
      "source": [
        "#ROC-AUC Curve\n",
        "# Learn to predict each class against the other\n",
        "n_classes = 4 \n",
        "# Compute ROC curve and ROC area for each class\n",
        "fpr = dict()\n",
        "tpr = dict()\n",
        "thresh = dict()\n",
        "roc_auc = dict()\n",
        "lw = 2 \n",
        "for i in range(n_classes):\n",
        "    fpr[i], tpr[i], thresh[i] = roc_curve(np.argmax(testsetTo, axis=1), predictions, pos_label=i)\n",
        "    roc_auc[i] = auc(fpr[i], tpr[i])"
      ]
    },
    {
      "cell_type": "code",
      "execution_count": 36,
      "metadata": {
        "id": "gVgL6uwboEUn"
      },
      "outputs": [],
      "source": [
        "# Compute micro-average ROC curve and ROC area\n",
        "fpr[\"micro\"], tpr[\"micro\"], thresh[i] = roc_curve(np.argmax(testsetTo, axis=1), predictions, pos_label=i) \n",
        "roc_auc[\"micro\"] = auc(fpr[\"micro\"], tpr[\"micro\"])"
      ]
    },
    {
      "cell_type": "code",
      "execution_count": 37,
      "metadata": {
        "id": "sHDd3VDr8lkm",
        "colab": {
          "base_uri": "https://localhost:8080/",
          "height": 350
        },
        "outputId": "09f880a2-0cb1-4a72-bc60-45f38ebcf8a8"
      },
      "outputs": [
        {
          "output_type": "stream",
          "name": "stderr",
          "text": [
            "/usr/local/lib/python3.7/dist-packages/ipykernel_launcher.py:11: DeprecationWarning: scipy.interp is deprecated and will be removed in SciPy 2.0.0, use numpy.interp instead\n",
            "  # This is added back by InteractiveShellApp.init_path()\n"
          ]
        },
        {
          "output_type": "display_data",
          "data": {
            "text/plain": [
              "<Figure size 432x288 with 1 Axes>"
            ],
            "image/png": "[encoded data removed]"
          },
          "metadata": {
            "needs_background": "light"
          }
        }
      ],
      "source": [
        "# Process of plotting roc-auc curve belonging to all classes.\n",
        "\n",
        "from itertools import cycle\n",
        "roc_auc_scores = []\n",
        "# First aggregate all false positive rates\n",
        "all_fpr = np.unique(np.concatenate([fpr[i] for i in range(n_classes)]))\n",
        "\n",
        "# Then interpolate all ROC curves at this points\n",
        "mean_tpr = np.zeros_like(all_fpr)\n",
        "for i in range(n_classes):\n",
        "    mean_tpr += interp(all_fpr, fpr[i], tpr[i])\n",
        "\n",
        "# Finally average it and compute AUC\n",
        "mean_tpr /= n_classes\n",
        "\n",
        "fpr[\"macro\"] = all_fpr\n",
        "tpr[\"macro\"] = mean_tpr\n",
        "roc_auc[\"macro\"] = auc(fpr[\"macro\"], tpr[\"macro\"])\n",
        "\n",
        "# Plot all ROC curves\n",
        "plt.figure()\n",
        "plt.plot(fpr[\"micro\"], tpr[\"micro\"],\n",
        "         label='micro-average ROC curve (area = {0:0.2f})'\n",
        "               ''.format(roc_auc[\"micro\"]),\n",
        "         color='deeppink', linestyle=':', linewidth=4)\n",
        "\n",
        "plt.plot(fpr[\"macro\"], tpr[\"macro\"],\n",
        "         label='macro-average ROC curve (area = {0:0.2f})'\n",
        "               ''.format(roc_auc[\"macro\"]),\n",
        "         color='navy', linestyle=':', linewidth=4)\n",
        "\n",
        "colors = cycle(['red', 'darkorange', 'cornflowerblue', 'aqua'])\n",
        "for i, color in zip(range(n_classes), colors):\n",
        "    plt.plot(fpr[i], tpr[i], color=color, lw=lw,\n",
        "             label='ROC curve of class {0} (area = {1:0.2f})'\n",
        "             ''.format(i, roc_auc[i]))\n",
        "    roc_auc_scores.append(roc_auc[i])\n",
        "\n",
        "plt.plot([0, 1], [0, 1], 'k--', lw=lw)\n",
        "plt.xlim([0.0, 1.0])\n",
        "plt.ylim([0.0, 1.05])\n",
        "plt.xlabel('False Positive Rate')\n",
        "plt.ylabel('True Positive Rate')\n",
        "plt.title('ROC Curve to each class')\n",
        "plt.legend(loc=\"lower right\")\n",
        "plt.show()"
      ]
    }
  ]
}