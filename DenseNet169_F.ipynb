{
  "nbformat": 4,
  "nbformat_minor": 0,
  "metadata": {
    "colab": {
      "provenance": [],
      "collapsed_sections": []
    },
    "kernelspec": {
      "name": "python3",
      "display_name": "Python 3"
    },
    "language_info": {
      "name": "python"
    },
    "accelerator": "GPU"
  },
  "cells": [
    {
      "cell_type": "code",
      "execution_count": 1,
      "metadata": {
        "id": "Yid6nfv5m-Fw"
      },
      "outputs": [],
      "source": [
        "import pandas as pd\n",
        "import numpy as np\n",
        "import tensorflow as tf\n",
        "from glob import glob\n",
        "import seaborn as sns\n",
        "import matplotlib.pyplot as plt\n",
        "import random\n",
        "import os\n",
        "import cv2\n",
        "\n",
        "!pip install opendatasets --upgrade --quiet\n",
        "import opendatasets as od"
      ]
    },
    {
      "cell_type": "code",
      "source": [
        "from tensorflow import keras\n",
        "from tensorflow.keras.preprocessing.image import ImageDataGenerator\n",
        "from tensorflow.keras.layers import Conv2D\n",
        "from tensorflow.keras.layers import MaxPooling2D\n",
        "from tensorflow.keras.layers import AveragePooling2D\n",
        "from tensorflow.keras.layers import GlobalAveragePooling2D\n",
        "from tensorflow.keras.optimizers import RMSprop,Adam\n",
        "from tensorflow.keras.models import Sequential\n",
        "from tensorflow.keras.layers import Dropout\n",
        "from tensorflow.keras.layers import Flatten\n",
        "from tensorflow.keras.layers import Input\n",
        "from tensorflow.keras.layers import Dense\n",
        "#from keras.layers.merge import concatenate\n",
        "from tensorflow.keras.models import Model\n",
        "from keras.preprocessing import image\n",
        "from keras.layers import Dense, Flatten, AveragePooling2D, Dropout\n",
        "from tensorflow.keras.optimizers import Adam\n",
        "from tensorflow.keras.utils import to_categorical\n",
        "from sklearn.preprocessing import LabelBinarizer\n",
        "from sklearn.model_selection import train_test_split\n",
        "from sklearn.metrics import classification_report\n",
        "from sklearn.model_selection import train_test_split\n",
        "from sklearn.metrics import confusion_matrix\n",
        "from imutils import paths\n",
        "import argparse"
      ],
      "metadata": {
        "id": "8A5p3rr0nVp8"
      },
      "execution_count": 2,
      "outputs": []
    },
    {
      "cell_type": "code",
      "source": [
        "from google.colab import drive\n",
        "drive.mount('/content/drive')"
      ],
      "metadata": {
        "id": "8QykD-gJoBUY",
        "colab": {
          "base_uri": "https://localhost:8080/"
        },
        "outputId": "be922676-df73-41da-a9d2-eafabc39b5eb"
      },
      "execution_count": 3,
      "outputs": [
        {
          "output_type": "stream",
          "name": "stdout",
          "text": [
            "Mounted at /content/drive\n"
          ]
        }
      ]
    },
    {
      "cell_type": "code",
      "source": [
        "dataset_url = 'https://www.kaggle.com/datasets/tawsifurrahman/covid19-radiography-database?recency=last7Days'\n",
        "data_dir = '/content/COVID-19_Radiography_Dataset'"
      ],
      "metadata": {
        "id": "S0i5VL9xoCPN"
      },
      "execution_count": 4,
      "outputs": []
    },
    {
      "cell_type": "code",
      "source": [
        "# #load training and testing dataset from output directory where the split is fixed for all models\n",
        "# train_datagen=ImageDataGenerator(rescale = 1./255,\n",
        "#                                    rotation_range=15,\n",
        "#                                    fill_mode=\"nearest\",\n",
        "#                                    horizontal_flip = True)\n",
        "# valid_datagen=ImageDataGenerator(rescale = 1./255)\n",
        "# test_datagen=ImageDataGenerator(rescale = 1./255)\n",
        "\n",
        "# training_set=train_datagen.flow_from_directory('/content/drive/MyDrive/New_DS/output/train',\n",
        "#                                                  target_size = (224, 224),\n",
        "#                                                  batch_size = 64,\n",
        "#                                                  class_mode = 'categorical',\n",
        "#                                                  shuffle=True)\n",
        "# valid_set=valid_datagen.flow_from_directory('/content/drive/MyDrive/New_DS/output/val',\n",
        "#                                             target_size = (224, 224),\n",
        "#                                             batch_size = 64,\n",
        "#                                             class_mode = 'categorical',\n",
        "#                                             shuffle = False)\n",
        "# test_set=test_datagen.flow_from_directory('/content/drive/MyDrive/New_DS/output/test',\n",
        "#                                             target_size = (224, 224),\n",
        "#                                             batch_size = 64,\n",
        "#                                             class_mode = 'categorical',\n",
        "#                                             shuffle = False)"
      ],
      "metadata": {
        "id": "H_pDGgfW8wZx",
        "colab": {
          "base_uri": "https://localhost:8080/"
        },
        "outputId": "c701aab2-b588-4c24-9205-038d53abc853"
      },
      "execution_count": null,
      "outputs": [
        {
          "output_type": "stream",
          "name": "stdout",
          "text": [
            "Found 14816 images belonging to 4 classes.\n",
            "Found 4233 images belonging to 4 classes.\n",
            "Found 2119 images belonging to 4 classes.\n"
          ]
        }
      ]
    },
    {
      "cell_type": "code",
      "execution_count": 5,
      "metadata": {
        "id": "5iE4mI-XbGlb",
        "colab": {
          "base_uri": "https://localhost:8080/"
        },
        "outputId": "38b99461-d49c-4c89-c5d9-b52835ab1af8"
      },
      "outputs": [
        {
          "output_type": "stream",
          "name": "stdout",
          "text": [
            "Looking in indexes: https://pypi.org/simple, https://us-python.pkg.dev/colab-wheels/public/simple/\n",
            "Collecting split-folders\n",
            "  Downloading split_folders-0.5.1-py3-none-any.whl (8.4 kB)\n",
            "Installing collected packages: split-folders\n",
            "Successfully installed split-folders-0.5.1\n"
          ]
        },
        {
          "output_type": "stream",
          "name": "stderr",
          "text": [
            "Copying files: 17606 files [07:20, 39.98 files/s] \n"
          ]
        }
      ],
      "source": [
        "!pip install split-folders\n",
        "import splitfolders\n",
        "input_folder = '/content/drive/MyDrive/Covid_DS/Covid19_Radiography Dataset'\n",
        "splitfolders.ratio( input_folder,\n",
        "                   output=\"output\",seed=1337,ratio=(0.7,0.2,0.1)) "
      ]
    },
    {
      "cell_type": "code",
      "execution_count": 6,
      "metadata": {
        "id": "Z0jXKuyVbM19",
        "colab": {
          "base_uri": "https://localhost:8080/"
        },
        "outputId": "67dd6e75-6080-472a-8089-95ed72973154"
      },
      "outputs": [
        {
          "output_type": "stream",
          "name": "stdout",
          "text": [
            "Found 12323 images belonging to 4 classes.\n",
            "Found 3520 images belonging to 4 classes.\n",
            "Found 1763 images belonging to 4 classes.\n"
          ]
        }
      ],
      "source": [
        "#load training and testing dataset from directory\n",
        "train_datagen=ImageDataGenerator(rescale = 1./255,\n",
        "                                   rotation_range=15,\n",
        "                                   fill_mode=\"nearest\",\n",
        "                                   horizontal_flip = True)\n",
        "valid_datagen=ImageDataGenerator(rescale = 1./255)\n",
        "test_datagen=ImageDataGenerator(rescale = 1./255)\n",
        "\n",
        "training_set=train_datagen.flow_from_directory('/content/output/train',\n",
        "                                                 target_size = (224, 224),\n",
        "                                                 batch_size = 64,\n",
        "                                                 class_mode = 'categorical',\n",
        "                                                 shuffle=True)\n",
        "valid_set=valid_datagen.flow_from_directory('/content/output/val',\n",
        "                                            target_size = (224, 224),\n",
        "                                            batch_size = 64,\n",
        "                                            class_mode = 'categorical',\n",
        "                                            shuffle = False)\n",
        "test_set=test_datagen.flow_from_directory('/content/output/test',\n",
        "                                            target_size = (224, 224),\n",
        "                                            batch_size = 64,\n",
        "                                            class_mode = 'categorical',\n",
        "                                            shuffle = False)"
      ]
    },
    {
      "cell_type": "code",
      "source": [
        "print(training_set.class_indices)\n",
        "print(valid_set.class_indices)\n",
        "print(test_set.class_indices)"
      ],
      "metadata": {
        "id": "who98HksoNQr",
        "colab": {
          "base_uri": "https://localhost:8080/"
        },
        "outputId": "01afe630-066e-4595-8752-0d36c6698a0c"
      },
      "execution_count": 8,
      "outputs": [
        {
          "output_type": "stream",
          "name": "stdout",
          "text": [
            "{'COVID': 0, 'Lung_Opacity': 1, 'Normal': 2, 'Viral Pneumonia': 3}\n",
            "{'COVID': 0, 'Lung_Opacity': 1, 'Normal': 2, 'Viral Pneumonia': 3}\n",
            "{'COVID': 0, 'Lung_Opacity': 1, 'Normal': 2, 'Viral Pneumonia': 3}\n"
          ]
        }
      ]
    },
    {
      "cell_type": "code",
      "source": [
        "#visulaize data\n",
        "fig, ax = plt.subplots()\n",
        "ax.bar(\"COVID-19\",3616,color=\"r\",label=\"Covid19\")\n",
        "ax.bar(\"Lung_Opacity\",6012 ,color=\"b\",label=\"Lung_Opacity\")\n",
        "ax.bar(\"NORMAL\",10192,color=\"m\",label=\"Normal\")\n",
        "ax.bar(\"Viral Pneumonia\",1345,color=\"g\",label=\"Viral Pneumonia\")\n",
        "ax.legend()"
      ],
      "metadata": {
        "id": "JAQ7HnmRoNHq",
        "colab": {
          "base_uri": "https://localhost:8080/",
          "height": 283
        },
        "outputId": "eb8ac4ce-2405-40f5-9596-340faaaaf108"
      },
      "execution_count": 9,
      "outputs": [
        {
          "output_type": "execute_result",
          "data": {
            "text/plain": [
              "<matplotlib.legend.Legend at 0x7f946f882ed0>"
            ]
          },
          "metadata": {},
          "execution_count": 9
        },
        {
          "output_type": "display_data",
          "data": {
            "text/plain": [
              "<Figure size 432x288 with 1 Axes>"
            ],
            "image/png": "[encoded data removed]"
          },
          "metadata": {
            "needs_background": "light"
          }
        }
      ]
    },
    {
      "cell_type": "code",
      "source": [
        "from tensorflow.keras.applications.densenet import DenseNet169 \n",
        "base_model = DenseNet169(input_shape=(224,224,3), \n",
        "                   include_top=False,\n",
        "                   weights=\"imagenet\")\n",
        "\n",
        "for layer in base_model.layers:\n",
        "    layer.trainable=False"
      ],
      "metadata": {
        "id": "Wm2O6CXYQU9_",
        "colab": {
          "base_uri": "https://localhost:8080/"
        },
        "outputId": "a3ec8396-541d-4970-b402-fd5c16075b26"
      },
      "execution_count": 10,
      "outputs": [
        {
          "output_type": "stream",
          "name": "stdout",
          "text": [
            "Downloading data from https://storage.googleapis.com/tensorflow/keras-applications/densenet/densenet169_weights_tf_dim_ordering_tf_kernels_notop.h5\n",
            "51877672/51877672 [==============================] - 2s 0us/step\n"
          ]
        }
      ]
    },
    {
      "cell_type": "code",
      "source": [
        "from tensorflow.keras.layers import Dense,Conv2D,MaxPool2D,Flatten,Dropout,BatchNormalization,Activation\n",
        "from tensorflow.keras.preprocessing.image import ImageDataGenerator\n",
        "import matplotlib.pyplot as plt\n",
        "#from keras.preprocessing.image import load_img,img_to_array"
      ],
      "metadata": {
        "id": "8yVLtRLmuhvv"
      },
      "execution_count": 14,
      "outputs": []
    },
    {
      "cell_type": "code",
      "source": [
        "DenseNet169_MODEL=Sequential()\n",
        "DenseNet169_MODEL.add(base_model)\n",
        "DenseNet169_MODEL.add(Dropout(0.5))\n",
        "DenseNet169_MODEL.add(tf.keras.layers.GlobalAveragePooling2D())\n",
        "DenseNet169_MODEL.add(Flatten())\n",
        "DenseNet169_MODEL.add(BatchNormalization())\n",
        "DenseNet169_MODEL.add(Dense(64,kernel_initializer='he_uniform'))\n",
        "DenseNet169_MODEL.add(BatchNormalization())\n",
        "DenseNet169_MODEL.add(Activation('relu'))\n",
        "DenseNet169_MODEL.add(Dropout(0.5))\n",
        "DenseNet169_MODEL.add(Dense(64,kernel_initializer='he_uniform'))\n",
        "DenseNet169_MODEL.add(BatchNormalization())\n",
        "DenseNet169_MODEL.add(Activation('relu'))\n",
        "DenseNet169_MODEL.add(Dropout(0.5))\n",
        "DenseNet169_MODEL.add(Dense(64,kernel_initializer='he_uniform'))\n",
        "DenseNet169_MODEL.add(BatchNormalization())\n",
        "DenseNet169_MODEL.add(Activation('relu'))\n",
        "DenseNet169_MODEL.add(Dropout(0.5))\n",
        "DenseNet169_MODEL.add(Dense(32,kernel_initializer='he_uniform'))\n",
        "DenseNet169_MODEL.add(BatchNormalization())\n",
        "DenseNet169_MODEL.add(Activation('relu'))\n",
        "DenseNet169_MODEL.add(Dropout(0.5))\n",
        "DenseNet169_MODEL.add(Dense(32,kernel_initializer='he_uniform'))\n",
        "DenseNet169_MODEL.add(BatchNormalization())\n",
        "DenseNet169_MODEL.add(Activation('relu'))\n",
        "DenseNet169_MODEL.add(Dense(4,activation='softmax'))"
      ],
      "metadata": {
        "id": "_WVkGe9WQU5M"
      },
      "execution_count": 15,
      "outputs": []
    },
    {
      "cell_type": "code",
      "source": [
        "'''DenseNet169_MODEL.compile(optimizer= tf.keras.optimizers.Adam(0.001),\n",
        "              loss='categorical_crossentropy',\n",
        "              metrics=['accuracy','Precision','Recall'])\n",
        "              '''\n",
        "DenseNet169_MODEL.summary()"
      ],
      "metadata": {
        "id": "Dpiq5E9hpSQv",
        "colab": {
          "base_uri": "https://localhost:8080/"
        },
        "outputId": "6cb2a6e4-c517-454d-e77c-f9c29d9e9afe"
      },
      "execution_count": 17,
      "outputs": [
        {
          "output_type": "stream",
          "name": "stdout",
          "text": [
            "Model: \"sequential_1\"\n",
            "_________________________________________________________________\n",
            " Layer (type)                Output Shape              Param #   \n",
            "=================================================================\n",
            " densenet169 (Functional)    (None, 7, 7, 1664)        12642880  \n",
            "                                                                 \n",
            " dropout_1 (Dropout)         (None, 7, 7, 1664)        0         \n",
            "                                                                 \n",
            " global_average_pooling2d_1   (None, 1664)             0         \n",
            " (GlobalAveragePooling2D)                                        \n",
            "                                                                 \n",
            " flatten_1 (Flatten)         (None, 1664)              0         \n",
            "                                                                 \n",
            " batch_normalization (BatchN  (None, 1664)             6656      \n",
            " ormalization)                                                   \n",
            "                                                                 \n",
            " dense (Dense)               (None, 64)                106560    \n",
            "                                                                 \n",
            " batch_normalization_1 (Batc  (None, 64)               256       \n",
            " hNormalization)                                                 \n",
            "                                                                 \n",
            " activation (Activation)     (None, 64)                0         \n",
            "                                                                 \n",
            " dropout_2 (Dropout)         (None, 64)                0         \n",
            "                                                                 \n",
            " dense_1 (Dense)             (None, 64)                4160      \n",
            "                                                                 \n",
            " batch_normalization_2 (Batc  (None, 64)               256       \n",
            " hNormalization)                                                 \n",
            "                                                                 \n",
            " activation_1 (Activation)   (None, 64)                0         \n",
            "                                                                 \n",
            " dropout_3 (Dropout)         (None, 64)                0         \n",
            "                                                                 \n",
            " dense_2 (Dense)             (None, 64)                4160      \n",
            "                                                                 \n",
            " batch_normalization_3 (Batc  (None, 64)               256       \n",
            " hNormalization)                                                 \n",
            "                                                                 \n",
            " activation_2 (Activation)   (None, 64)                0         \n",
            "                                                                 \n",
            " dropout_4 (Dropout)         (None, 64)                0         \n",
            "                                                                 \n",
            " dense_3 (Dense)             (None, 32)                2080      \n",
            "                                                                 \n",
            " batch_normalization_4 (Batc  (None, 32)               128       \n",
            " hNormalization)                                                 \n",
            "                                                                 \n",
            " activation_3 (Activation)   (None, 32)                0         \n",
            "                                                                 \n",
            " dropout_5 (Dropout)         (None, 32)                0         \n",
            "                                                                 \n",
            " dense_4 (Dense)             (None, 32)                1056      \n",
            "                                                                 \n",
            " batch_normalization_5 (Batc  (None, 32)               128       \n",
            " hNormalization)                                                 \n",
            "                                                                 \n",
            " activation_4 (Activation)   (None, 32)                0         \n",
            "                                                                 \n",
            " dense_5 (Dense)             (None, 4)                 132       \n",
            "                                                                 \n",
            "=================================================================\n",
            "Total params: 12,768,708\n",
            "Trainable params: 121,988\n",
            "Non-trainable params: 12,646,720\n",
            "_________________________________________________________________\n"
          ]
        }
      ]
    },
    {
      "cell_type": "code",
      "source": [
        "tf.keras.callbacks.ReduceLROnPlateau\n",
        "from keras.callbacks import LearningRateScheduler"
      ],
      "metadata": {
        "id": "Lq75GuS8ao0y"
      },
      "execution_count": 18,
      "outputs": []
    },
    {
      "cell_type": "code",
      "source": [
        "#to avoid overfitting\n",
        "early = tf.keras.callbacks.EarlyStopping(monitor='val_accuracy', patience=5)"
      ],
      "metadata": {
        "id": "Zh-tw7SmZl7i"
      },
      "execution_count": 19,
      "outputs": []
    },
    {
      "cell_type": "code",
      "source": [
        "epochs = 100\n",
        "learning_rate = 0.001\n",
        "decay_rate = learning_rate / epochs\n",
        "optimizer_details = Adam(lr = learning_rate, decay = decay_rate)"
      ],
      "metadata": {
        "colab": {
          "base_uri": "https://localhost:8080/"
        },
        "id": "emt6Q1F2kxcf",
        "outputId": "e030ef9a-63ff-40b0-a687-9566747e9cb4"
      },
      "execution_count": 20,
      "outputs": [
        {
          "output_type": "stream",
          "name": "stderr",
          "text": [
            "/usr/local/lib/python3.7/dist-packages/keras/optimizers/optimizer_v2/adam.py:110: UserWarning: The `lr` argument is deprecated, use `learning_rate` instead.\n",
            "  super(Adam, self).__init__(name, **kwargs)\n"
          ]
        }
      ]
    },
    {
      "cell_type": "code",
      "source": [
        "DenseNet169_MODEL.compile(optimizer = optimizer_details, \n",
        "              loss='categorical_crossentropy',\n",
        "              metrics=['accuracy','Precision','Recall'])\n",
        "history = DenseNet169_MODEL.fit_generator(training_set, validation_data = valid_set, epochs=epochs, verbose=1, callbacks=[early])"
      ],
      "metadata": {
        "id": "HdD9qSvtnH6j",
        "colab": {
          "base_uri": "https://localhost:8080/"
        },
        "outputId": "6f14da0f-e23f-455c-d918-ab96e9111c38"
      },
      "execution_count": 21,
      "outputs": [
        {
          "output_type": "stream",
          "name": "stderr",
          "text": [
            "/usr/local/lib/python3.7/dist-packages/ipykernel_launcher.py:4: UserWarning: `Model.fit_generator` is deprecated and will be removed in a future version. Please use `Model.fit`, which supports generators.\n",
            "  after removing the cwd from sys.path.\n"
          ]
        },
        {
          "output_type": "stream",
          "name": "stdout",
          "text": [
            "Epoch 1/100\n",
            "193/193 [==============================] - 185s 857ms/step - loss: 1.1438 - accuracy: 0.5243 - precision: 0.6371 - recall: 0.3395 - val_loss: 0.9674 - val_accuracy: 0.5798 - val_precision: 0.9321 - val_recall: 0.3315\n",
            "Epoch 2/100\n",
            "193/193 [==============================] - 162s 840ms/step - loss: 0.9178 - accuracy: 0.6174 - precision: 0.8572 - recall: 0.4282 - val_loss: 1.0576 - val_accuracy: 0.5696 - val_precision: 0.9760 - val_recall: 0.2080\n",
            "Epoch 3/100\n",
            "193/193 [==============================] - 163s 842ms/step - loss: 0.8536 - accuracy: 0.6630 - precision: 0.8822 - recall: 0.4612 - val_loss: 1.0748 - val_accuracy: 0.5509 - val_precision: 0.9823 - val_recall: 0.2048\n",
            "Epoch 4/100\n",
            "193/193 [==============================] - 162s 840ms/step - loss: 0.8081 - accuracy: 0.6828 - precision: 0.8905 - recall: 0.4776 - val_loss: 1.0029 - val_accuracy: 0.5869 - val_precision: 0.9871 - val_recall: 0.2401\n",
            "Epoch 5/100\n",
            "193/193 [==============================] - 161s 836ms/step - loss: 0.7727 - accuracy: 0.6969 - precision: 0.8759 - recall: 0.4956 - val_loss: 0.9376 - val_accuracy: 0.6406 - val_precision: 0.9217 - val_recall: 0.3011\n",
            "Epoch 6/100\n",
            "193/193 [==============================] - 161s 834ms/step - loss: 0.7204 - accuracy: 0.7178 - precision: 0.8574 - recall: 0.5442 - val_loss: 0.8786 - val_accuracy: 0.6361 - val_precision: 0.7343 - val_recall: 0.5213\n",
            "Epoch 7/100\n",
            "193/193 [==============================] - 161s 835ms/step - loss: 0.6877 - accuracy: 0.7310 - precision: 0.8304 - recall: 0.5969 - val_loss: 0.8525 - val_accuracy: 0.6384 - val_precision: 0.7140 - val_recall: 0.5489\n",
            "Epoch 8/100\n",
            "193/193 [==============================] - 161s 835ms/step - loss: 0.6599 - accuracy: 0.7395 - precision: 0.8306 - recall: 0.6231 - val_loss: 0.8677 - val_accuracy: 0.6264 - val_precision: 0.6941 - val_recall: 0.5369\n",
            "Epoch 9/100\n",
            "193/193 [==============================] - 160s 830ms/step - loss: 0.6354 - accuracy: 0.7531 - precision: 0.8255 - recall: 0.6622 - val_loss: 0.7992 - val_accuracy: 0.6653 - val_precision: 0.7348 - val_recall: 0.5841\n",
            "Epoch 10/100\n",
            "193/193 [==============================] - 160s 828ms/step - loss: 0.6146 - accuracy: 0.7635 - precision: 0.8203 - recall: 0.6913 - val_loss: 0.7457 - val_accuracy: 0.6969 - val_precision: 0.7517 - val_recall: 0.6261\n",
            "Epoch 11/100\n",
            "193/193 [==============================] - 160s 828ms/step - loss: 0.5956 - accuracy: 0.7762 - precision: 0.8217 - recall: 0.7143 - val_loss: 0.6357 - val_accuracy: 0.7616 - val_precision: 0.8156 - val_recall: 0.7088\n",
            "Epoch 12/100\n",
            "193/193 [==============================] - 159s 825ms/step - loss: 0.5737 - accuracy: 0.7886 - precision: 0.8302 - recall: 0.7414 - val_loss: 0.6173 - val_accuracy: 0.7727 - val_precision: 0.8127 - val_recall: 0.7185\n",
            "Epoch 13/100\n",
            "193/193 [==============================] - 160s 826ms/step - loss: 0.5419 - accuracy: 0.8043 - precision: 0.8379 - recall: 0.7637 - val_loss: 0.5393 - val_accuracy: 0.8148 - val_precision: 0.8382 - val_recall: 0.7812\n",
            "Epoch 14/100\n",
            "193/193 [==============================] - 160s 829ms/step - loss: 0.5339 - accuracy: 0.8096 - precision: 0.8403 - recall: 0.7716 - val_loss: 0.4946 - val_accuracy: 0.8321 - val_precision: 0.8577 - val_recall: 0.8031\n",
            "Epoch 15/100\n",
            "193/193 [==============================] - 161s 831ms/step - loss: 0.5320 - accuracy: 0.8173 - precision: 0.8449 - recall: 0.7834 - val_loss: 0.4680 - val_accuracy: 0.8477 - val_precision: 0.8700 - val_recall: 0.8196\n",
            "Epoch 16/100\n",
            "193/193 [==============================] - 160s 827ms/step - loss: 0.5108 - accuracy: 0.8203 - precision: 0.8478 - recall: 0.7910 - val_loss: 0.4531 - val_accuracy: 0.8520 - val_precision: 0.8737 - val_recall: 0.8276\n",
            "Epoch 17/100\n",
            "193/193 [==============================] - 159s 826ms/step - loss: 0.4942 - accuracy: 0.8320 - precision: 0.8538 - recall: 0.8027 - val_loss: 0.4414 - val_accuracy: 0.8557 - val_precision: 0.8742 - val_recall: 0.8369\n",
            "Epoch 18/100\n",
            "193/193 [==============================] - 160s 831ms/step - loss: 0.4794 - accuracy: 0.8351 - precision: 0.8570 - recall: 0.8117 - val_loss: 0.4360 - val_accuracy: 0.8574 - val_precision: 0.8779 - val_recall: 0.8335\n",
            "Epoch 19/100\n",
            "193/193 [==============================] - 163s 843ms/step - loss: 0.4644 - accuracy: 0.8447 - precision: 0.8635 - recall: 0.8207 - val_loss: 0.4318 - val_accuracy: 0.8571 - val_precision: 0.8774 - val_recall: 0.8375\n",
            "Epoch 20/100\n",
            "193/193 [==============================] - 165s 854ms/step - loss: 0.4675 - accuracy: 0.8445 - precision: 0.8658 - recall: 0.8212 - val_loss: 0.4337 - val_accuracy: 0.8616 - val_precision: 0.8799 - val_recall: 0.8449\n",
            "Epoch 21/100\n",
            "193/193 [==============================] - 160s 828ms/step - loss: 0.4629 - accuracy: 0.8487 - precision: 0.8661 - recall: 0.8266 - val_loss: 0.4192 - val_accuracy: 0.8614 - val_precision: 0.8789 - val_recall: 0.8472\n",
            "Epoch 22/100\n",
            "193/193 [==============================] - 160s 831ms/step - loss: 0.4575 - accuracy: 0.8503 - precision: 0.8678 - recall: 0.8296 - val_loss: 0.4097 - val_accuracy: 0.8730 - val_precision: 0.8856 - val_recall: 0.8580\n",
            "Epoch 23/100\n",
            "193/193 [==============================] - 160s 829ms/step - loss: 0.4528 - accuracy: 0.8507 - precision: 0.8662 - recall: 0.8301 - val_loss: 0.4053 - val_accuracy: 0.8716 - val_precision: 0.8887 - val_recall: 0.8597\n",
            "Epoch 24/100\n",
            "193/193 [==============================] - 159s 825ms/step - loss: 0.4421 - accuracy: 0.8530 - precision: 0.8692 - recall: 0.8341 - val_loss: 0.4006 - val_accuracy: 0.8776 - val_precision: 0.8923 - val_recall: 0.8662\n",
            "Epoch 25/100\n",
            "193/193 [==============================] - 158s 818ms/step - loss: 0.4426 - accuracy: 0.8547 - precision: 0.8710 - recall: 0.8374 - val_loss: 0.3913 - val_accuracy: 0.8747 - val_precision: 0.8858 - val_recall: 0.8639\n",
            "Epoch 26/100\n",
            "193/193 [==============================] - 158s 816ms/step - loss: 0.4371 - accuracy: 0.8590 - precision: 0.8717 - recall: 0.8416 - val_loss: 0.3890 - val_accuracy: 0.8801 - val_precision: 0.8943 - val_recall: 0.8656\n",
            "Epoch 27/100\n",
            "193/193 [==============================] - 157s 811ms/step - loss: 0.4159 - accuracy: 0.8604 - precision: 0.8783 - recall: 0.8457 - val_loss: 0.3890 - val_accuracy: 0.8813 - val_precision: 0.8926 - val_recall: 0.8685\n",
            "Epoch 28/100\n",
            "193/193 [==============================] - 157s 815ms/step - loss: 0.4209 - accuracy: 0.8625 - precision: 0.8775 - recall: 0.8471 - val_loss: 0.3705 - val_accuracy: 0.8866 - val_precision: 0.8984 - val_recall: 0.8722\n",
            "Epoch 29/100\n",
            "193/193 [==============================] - 157s 812ms/step - loss: 0.4286 - accuracy: 0.8573 - precision: 0.8742 - recall: 0.8391 - val_loss: 0.3760 - val_accuracy: 0.8810 - val_precision: 0.8960 - val_recall: 0.8736\n",
            "Epoch 30/100\n",
            "193/193 [==============================] - 157s 817ms/step - loss: 0.4090 - accuracy: 0.8672 - precision: 0.8819 - recall: 0.8517 - val_loss: 0.3651 - val_accuracy: 0.8869 - val_precision: 0.8998 - val_recall: 0.8776\n",
            "Epoch 31/100\n",
            "193/193 [==============================] - 156s 808ms/step - loss: 0.4151 - accuracy: 0.8632 - precision: 0.8767 - recall: 0.8479 - val_loss: 0.3588 - val_accuracy: 0.8926 - val_precision: 0.9036 - val_recall: 0.8815\n",
            "Epoch 32/100\n",
            "193/193 [==============================] - 156s 809ms/step - loss: 0.4151 - accuracy: 0.8631 - precision: 0.8787 - recall: 0.8484 - val_loss: 0.3728 - val_accuracy: 0.8824 - val_precision: 0.8969 - val_recall: 0.8722\n",
            "Epoch 33/100\n",
            "193/193 [==============================] - 156s 807ms/step - loss: 0.4046 - accuracy: 0.8674 - precision: 0.8816 - recall: 0.8534 - val_loss: 0.3674 - val_accuracy: 0.8878 - val_precision: 0.8988 - val_recall: 0.8753\n",
            "Epoch 34/100\n",
            "193/193 [==============================] - 156s 807ms/step - loss: 0.4042 - accuracy: 0.8650 - precision: 0.8796 - recall: 0.8519 - val_loss: 0.3424 - val_accuracy: 0.8935 - val_precision: 0.9034 - val_recall: 0.8869\n",
            "Epoch 35/100\n",
            "193/193 [==============================] - 157s 812ms/step - loss: 0.3957 - accuracy: 0.8712 - precision: 0.8836 - recall: 0.8593 - val_loss: 0.3536 - val_accuracy: 0.8974 - val_precision: 0.9073 - val_recall: 0.8872\n",
            "Epoch 36/100\n",
            "193/193 [==============================] - 157s 813ms/step - loss: 0.3920 - accuracy: 0.8704 - precision: 0.8848 - recall: 0.8566 - val_loss: 0.3628 - val_accuracy: 0.8960 - val_precision: 0.9049 - val_recall: 0.8864\n",
            "Epoch 37/100\n",
            "193/193 [==============================] - 160s 828ms/step - loss: 0.3854 - accuracy: 0.8741 - precision: 0.8865 - recall: 0.8623 - val_loss: 0.3719 - val_accuracy: 0.8892 - val_precision: 0.8994 - val_recall: 0.8790\n",
            "Epoch 38/100\n",
            "193/193 [==============================] - 160s 829ms/step - loss: 0.3858 - accuracy: 0.8745 - precision: 0.8852 - recall: 0.8634 - val_loss: 0.3667 - val_accuracy: 0.8963 - val_precision: 0.9050 - val_recall: 0.8872\n",
            "Epoch 39/100\n",
            "193/193 [==============================] - 162s 841ms/step - loss: 0.3836 - accuracy: 0.8784 - precision: 0.8890 - recall: 0.8633 - val_loss: 0.3666 - val_accuracy: 0.8912 - val_precision: 0.8978 - val_recall: 0.8838\n",
            "Epoch 40/100\n",
            "193/193 [==============================] - 161s 835ms/step - loss: 0.3880 - accuracy: 0.8717 - precision: 0.8831 - recall: 0.8589 - val_loss: 0.3585 - val_accuracy: 0.8949 - val_precision: 0.9014 - val_recall: 0.8861\n"
          ]
        }
      ]
    },
    {
      "cell_type": "code",
      "source": [
        "DenseNet169_MODEL.evaluate(test_set, verbose=1)\n",
        "#***model.evaluate(test_set)"
      ],
      "metadata": {
        "id": "TjX7yFDmpx3r",
        "colab": {
          "base_uri": "https://localhost:8080/"
        },
        "outputId": "61620a96-07fd-4251-b30c-60b4bc552559"
      },
      "execution_count": 22,
      "outputs": [
        {
          "output_type": "stream",
          "name": "stdout",
          "text": [
            "28/28 [==============================] - 7s 239ms/step - loss: 0.3654 - accuracy: 0.8911 - precision: 0.8993 - recall: 0.8860\n"
          ]
        },
        {
          "output_type": "execute_result",
          "data": {
            "text/plain": [
              "[0.36538976430892944,\n",
              " 0.8910947442054749,\n",
              " 0.8992515802383423,\n",
              " 0.885989785194397]"
            ]
          },
          "metadata": {},
          "execution_count": 22
        }
      ]
    },
    {
      "cell_type": "code",
      "source": [
        "DenseNet169_MODEL.save('DenseNet169.h5')"
      ],
      "metadata": {
        "id": "uHJPUBUPp6ou"
      },
      "execution_count": 23,
      "outputs": []
    },
    {
      "cell_type": "code",
      "source": [
        "#Accuracy, val_acc, loss, val_loss, epoch_range\n",
        "acc = history.history['accuracy']\n",
        "val_acc = history.history['val_accuracy']     #history2.history['accuracy']\n",
        "loss = history.history['loss']\n",
        "val_loss = history.history['val_loss']\n",
        "epochs=range(len(acc))"
      ],
      "metadata": {
        "id": "ILl09WREqCwk"
      },
      "execution_count": 24,
      "outputs": []
    },
    {
      "cell_type": "code",
      "source": [
        "print(\"accuracy: \",acc)\n",
        "print(\"validation accuracy: \",val_acc)\n",
        "print(\"loss: \",loss)\n",
        "print(\"validation loss: \",val_loss)\n",
        "print(\"epochs: \",epochs)"
      ],
      "metadata": {
        "id": "fmoz0Zq9qEys",
        "colab": {
          "base_uri": "https://localhost:8080/"
        },
        "outputId": "36489ef8-b4ff-4c68-a08a-68419202ace4"
      },
      "execution_count": 25,
      "outputs": [
        {
          "output_type": "stream",
          "name": "stdout",
          "text": [
            "accuracy:  [0.5243041515350342, 0.6173821091651917, 0.6629878878593445, 0.6827882528305054, 0.6969082355499268, 0.7178446650505066, 0.7309908270835876, 0.7395114898681641, 0.7531445026397705, 0.7634504437446594, 0.7761908769607544, 0.7886066436767578, 0.8043496012687683, 0.8096242547035217, 0.8172522783279419, 0.8203359842300415, 0.8320214152336121, 0.8351050615310669, 0.844680666923523, 0.8445183634757996, 0.8486570119857788, 0.8502799868583679, 0.850685715675354, 0.8529579043388367, 0.8546620011329651, 0.858962893486023, 0.8604236245155334, 0.8624523282051086, 0.8572587966918945, 0.8672401309013367, 0.8631826639175415, 0.8631015419960022, 0.8674024343490601, 0.8650491237640381, 0.8712164163589478, 0.8704049587249756, 0.874137818813324, 0.8745435476303101, 0.8783575296401978, 0.8717033267021179]\n",
            "validation accuracy:  [0.5798295736312866, 0.5696022510528564, 0.5508522987365723, 0.5869318246841431, 0.640625, 0.6360795497894287, 0.6383522748947144, 0.6264204382896423, 0.6653409004211426, 0.6968749761581421, 0.7616477012634277, 0.7727272510528564, 0.8147727251052856, 0.8321022987365723, 0.8477272987365723, 0.8519886136054993, 0.855681836605072, 0.8573863506317139, 0.8571022748947144, 0.8616477251052856, 0.8613636493682861, 0.8730113506317139, 0.8715909123420715, 0.8775568008422852, 0.8747159242630005, 0.8801136612892151, 0.8812500238418579, 0.8866477012634277, 0.8809658885002136, 0.886931836605072, 0.8926136493682861, 0.8823863863945007, 0.8877840638160706, 0.8934659361839294, 0.8974431753158569, 0.8960227370262146, 0.8892045617103577, 0.8963068127632141, 0.8911932110786438, 0.8948863744735718]\n",
            "loss:  [1.1438482999801636, 0.9177600741386414, 0.8535934686660767, 0.8081437349319458, 0.7726832032203674, 0.7203851938247681, 0.6877469420433044, 0.6598811745643616, 0.6354108452796936, 0.6146188974380493, 0.5956326127052307, 0.573724091053009, 0.5419004559516907, 0.5338893532752991, 0.5320097804069519, 0.5108189582824707, 0.49420398473739624, 0.47944551706314087, 0.46435269713401794, 0.46749114990234375, 0.4628990590572357, 0.4574507772922516, 0.4528409242630005, 0.442067414522171, 0.44263508915901184, 0.4371356964111328, 0.41586029529571533, 0.42085811495780945, 0.4285641312599182, 0.409010648727417, 0.4150894284248352, 0.4150773882865906, 0.404619425535202, 0.4042297601699829, 0.3956751823425293, 0.3920237123966217, 0.3854176700115204, 0.38576987385749817, 0.3835899531841278, 0.38803866505622864]\n",
            "validation loss:  [0.9674240946769714, 1.0575958490371704, 1.0748404264450073, 1.0029295682907104, 0.9375821352005005, 0.8785842657089233, 0.8524627089500427, 0.8677425980567932, 0.7991516590118408, 0.7457047700881958, 0.6356519460678101, 0.6172764897346497, 0.5392894148826599, 0.4946010708808899, 0.46795544028282166, 0.45311442017555237, 0.4413735270500183, 0.4360496997833252, 0.43176454305648804, 0.4337172508239746, 0.41916078329086304, 0.4097477197647095, 0.40531477332115173, 0.4006088972091675, 0.3912806212902069, 0.38902363181114197, 0.3890090584754944, 0.3705238401889801, 0.37599605321884155, 0.3651143014431, 0.3588213622570038, 0.3728056252002716, 0.36738961935043335, 0.34238964319229126, 0.35356825590133667, 0.36276310682296753, 0.37189602851867676, 0.36669066548347473, 0.36655721068382263, 0.3585110008716583]\n",
            "epochs:  range(0, 40)\n"
          ]
        }
      ]
    },
    {
      "cell_type": "code",
      "source": [
        "#plot training nad validation accuracy\n",
        "plt.plot(epochs,acc,label='Training_acc',color='blue')\n",
        "plt.plot(epochs,val_acc,label='Validation_acc',color='red')\n",
        "plt.legend()\n",
        "plt.title(\"Training and Validation Accuracy\")"
      ],
      "metadata": {
        "id": "3VhVarXbqG6M",
        "colab": {
          "base_uri": "https://localhost:8080/",
          "height": 298
        },
        "outputId": "0a7b4b38-2212-424e-b60b-e67693023833"
      },
      "execution_count": 26,
      "outputs": [
        {
          "output_type": "execute_result",
          "data": {
            "text/plain": [
              "Text(0.5, 1.0, 'Training and Validation Accuracy')"
            ]
          },
          "metadata": {},
          "execution_count": 26
        },
        {
          "output_type": "display_data",
          "data": {
            "text/plain": [
              "<Figure size 432x288 with 1 Axes>"
            ],
            "image/png": "[encoded data removed]"
          },
          "metadata": {
            "needs_background": "light"
          }
        }
      ]
    },
    {
      "cell_type": "code",
      "source": [
        "#training and validation loss\n",
        "plt.plot(epochs,loss,label='Training_loss',color='blue')\n",
        "plt.plot(epochs,val_loss,label='Validation_loss',color='red')\n",
        "plt.legend()\n",
        "plt.title(\"Training and Validation loss\")"
      ],
      "metadata": {
        "id": "ryW9YWdrqG3c",
        "colab": {
          "base_uri": "https://localhost:8080/",
          "height": 298
        },
        "outputId": "997547f8-4499-4e71-d8bd-4bd347618ca5"
      },
      "execution_count": 27,
      "outputs": [
        {
          "output_type": "execute_result",
          "data": {
            "text/plain": [
              "Text(0.5, 1.0, 'Training and Validation loss')"
            ]
          },
          "metadata": {},
          "execution_count": 27
        },
        {
          "output_type": "display_data",
          "data": {
            "text/plain": [
              "<Figure size 432x288 with 1 Axes>"
            ],
            "image/png": "[encoded data removed]"
          },
          "metadata": {
            "needs_background": "light"
          }
        }
      ]
    },
    {
      "cell_type": "code",
      "source": [
        "acc = history.history['accuracy']\n",
        "val_acc = history.history['val_accuracy']\n",
        "\n",
        "train_precision=history.history['precision']\n",
        "val_precision=history.history['val_precision']\n",
        "\n",
        "train_recall=history.history['recall']\n",
        "val_recall=history.history['val_recall']\n",
        "\n",
        "loss = history.history['loss']\n",
        "val_loss = history.history['val_loss']\n",
        "\n",
        "epochs = range(len(acc))\n",
        "\n",
        "plt.plot(epochs, acc, 'r', label='Training accuracy')\n",
        "plt.plot(epochs, val_acc, 'b', label='Validation accuracy')\n",
        "plt.title('Training and validation accuracy')\n",
        "plt.legend()\n",
        "plt.figure()\n",
        "\n",
        "plt.plot(epochs, train_precision, 'r', label='Training precision')\n",
        "plt.plot(epochs, val_precision, 'b', label='Validation precision')\n",
        "plt.title('Training and validation precision')\n",
        "plt.legend()\n",
        "plt.figure()\n",
        "\n",
        "plt.plot(epochs, train_recall, 'r', label='Training recall')\n",
        "plt.plot(epochs, val_recall, 'b', label='Validation recall')\n",
        "plt.title('Training and validation recall')\n",
        "plt.legend()\n",
        "plt.figure()\n",
        "\n",
        "plt.plot(epochs, loss, 'r', label='Training Loss')\n",
        "plt.plot(epochs, val_loss, 'b', label='Validation Loss')\n",
        "plt.title('Training and validation loss')\n",
        "plt.legend()\n",
        "\n",
        "plt.show()"
      ],
      "metadata": {
        "id": "4GEDYvwjqG0b",
        "colab": {
          "base_uri": "https://localhost:8080/",
          "height": 1000
        },
        "outputId": "5689b8a2-fe76-48a5-99e9-94ed7e22fb7d"
      },
      "execution_count": 28,
      "outputs": [
        {
          "output_type": "display_data",
          "data": {
            "text/plain": [
              "<Figure size 432x288 with 1 Axes>"
            ],
            "image/png": "[encoded data removed]"
          },
          "metadata": {
            "needs_background": "light"
          }
        },
        {
          "output_type": "display_data",
          "data": {
            "text/plain": [
              "<Figure size 432x288 with 1 Axes>"
            ],
            "image/png": "[encoded data removed]"
          },
          "metadata": {
            "needs_background": "light"
          }
        },
        {
          "output_type": "display_data",
          "data": {
            "text/plain": [
              "<Figure size 432x288 with 1 Axes>"
            ],
            "image/png": "[encoded data removed]"
          },
          "metadata": {
            "needs_background": "light"
          }
        },
        {
          "output_type": "display_data",
          "data": {
            "text/plain": [
              "<Figure size 432x288 with 1 Axes>"
            ],
            "image/png": "[encoded data removed]"
          },
          "metadata": {
            "needs_background": "light"
          }
        }
      ]
    },
    {
      "cell_type": "code",
      "source": [
        "#model history\n",
        "import pandas as pd\n",
        "loss_df = pd.DataFrame(DenseNet169_MODEL.history.history)\n",
        "loss_df"
      ],
      "metadata": {
        "id": "bMuSU0XLqOo4",
        "colab": {
          "base_uri": "https://localhost:8080/",
          "height": 49
        },
        "outputId": "e6cc058c-a0b8-4e9c-9bef-8804acc06fa4"
      },
      "execution_count": 29,
      "outputs": [
        {
          "output_type": "execute_result",
          "data": {
            "text/plain": [
              "Empty DataFrame\n",
              "Columns: []\n",
              "Index: []"
            ],
            "text/html": [
              "\n",
              "  <div id=\"df-d610ddcf-59dd-44f8-84ef-ff486fdb9806\">\n",
              "    <div class=\"colab-df-container\">\n",
              "      <div>\n",
              "<style scoped>\n",
              "    .dataframe tbody tr th:only-of-type {\n",
              "        vertical-align: middle;\n",
              "    }\n",
              "\n",
              "    .dataframe tbody tr th {\n",
              "        vertical-align: top;\n",
              "    }\n",
              "\n",
              "    .dataframe thead th {\n",
              "        text-align: right;\n",
              "    }\n",
              "</style>\n",
              "<table border=\"1\" class=\"dataframe\">\n",
              "  <thead>\n",
              "    <tr style=\"text-align: right;\">\n",
              "      <th></th>\n",
              "    </tr>\n",
              "  </thead>\n",
              "  <tbody>\n",
              "  </tbody>\n",
              "</table>\n",
              "</div>\n",
              "      <button class=\"colab-df-convert\" onclick=\"convertToInteractive('df-d610ddcf-59dd-44f8-84ef-ff486fdb9806')\"\n",
              "              title=\"Convert this dataframe to an interactive table.\"\n",
              "              style=\"display:none;\">\n",
              "        \n",
              "  <svg xmlns=\"http://www.w3.org/2000/svg\" height=\"24px\"viewBox=\"0 0 24 24\"\n",
              "       width=\"24px\">\n",
              "    <path d=\"M0 0h24v24H0V0z\" fill=\"none\"/>\n",
              "    <path d=\"M18.56 5.44l.94 2.06.94-2.06 2.06-.94-2.06-.94-.94-2.06-.94 2.06-2.06.94zm-11 1L8.5 8.5l.94-2.06 2.06-.94-2.06-.94L8.5 2.5l-.94 2.06-2.06.94zm10 10l.94 2.06.94-2.06 2.06-.94-2.06-.94-.94-2.06-.94 2.06-2.06.94z\"/><path d=\"M17.41 7.96l-1.37-1.37c-.4-.4-.92-.59-1.43-.59-.52 0-1.04.2-1.43.59L10.3 9.45l-7.72 7.72c-.78.78-.78 2.05 0 2.83L4 21.41c.39.39.9.59 1.41.59.51 0 1.02-.2 1.41-.59l7.78-7.78 2.81-2.81c.8-.78.8-2.07 0-2.86zM5.41 20L4 18.59l7.72-7.72 1.47 1.35L5.41 20z\"/>\n",
              "  </svg>\n",
              "      </button>\n",
              "      \n",
              "  <style>\n",
              "    .colab-df-container {\n",
              "      display:flex;\n",
              "      flex-wrap:wrap;\n",
              "      gap: 12px;\n",
              "    }\n",
              "\n",
              "    .colab-df-convert {\n",
              "      background-color: #E8F0FE;\n",
              "      border: none;\n",
              "      border-radius: 50%;\n",
              "      cursor: pointer;\n",
              "      display: none;\n",
              "      fill: #1967D2;\n",
              "      height: 32px;\n",
              "      padding: 0 0 0 0;\n",
              "      width: 32px;\n",
              "    }\n",
              "\n",
              "    .colab-df-convert:hover {\n",
              "      background-color: #E2EBFA;\n",
              "      box-shadow: 0px 1px 2px rgba(60, 64, 67, 0.3), 0px 1px 3px 1px rgba(60, 64, 67, 0.15);\n",
              "      fill: #174EA6;\n",
              "    }\n",
              "\n",
              "    [theme=dark] .colab-df-convert {\n",
              "      background-color: #3B4455;\n",
              "      fill: #D2E3FC;\n",
              "    }\n",
              "\n",
              "    [theme=dark] .colab-df-convert:hover {\n",
              "      background-color: #434B5C;\n",
              "      box-shadow: 0px 1px 3px 1px rgba(0, 0, 0, 0.15);\n",
              "      filter: drop-shadow(0px 1px 2px rgba(0, 0, 0, 0.3));\n",
              "      fill: #FFFFFF;\n",
              "    }\n",
              "  </style>\n",
              "\n",
              "      <script>\n",
              "        const buttonEl =\n",
              "          document.querySelector('#df-d610ddcf-59dd-44f8-84ef-ff486fdb9806 button.colab-df-convert');\n",
              "        buttonEl.style.display =\n",
              "          google.colab.kernel.accessAllowed ? 'block' : 'none';\n",
              "\n",
              "        async function convertToInteractive(key) {\n",
              "          const element = document.querySelector('#df-d610ddcf-59dd-44f8-84ef-ff486fdb9806');\n",
              "          const dataTable =\n",
              "            await google.colab.kernel.invokeFunction('convertToInteractive',\n",
              "                                                     [key], {});\n",
              "          if (!dataTable) return;\n",
              "\n",
              "          const docLinkHtml = 'Like what you see? Visit the ' +\n",
              "            '<a target=\"_blank\" href=https://colab.research.google.com/notebooks/data_table.ipynb>data table notebook</a>'\n",
              "            + ' to learn more about interactive tables.';\n",
              "          element.innerHTML = '';\n",
              "          dataTable['output_type'] = 'display_data';\n",
              "          await google.colab.output.renderOutput(dataTable, element);\n",
              "          const docLink = document.createElement('div');\n",
              "          docLink.innerHTML = docLinkHtml;\n",
              "          element.appendChild(docLink);\n",
              "        }\n",
              "      </script>\n",
              "    </div>\n",
              "  </div>\n",
              "  "
            ]
          },
          "metadata": {},
          "execution_count": 29
        }
      ]
    },
    {
      "cell_type": "code",
      "source": [
        "#prediction on test data\n",
        "predictions = np.argmax(DenseNet169_MODEL.predict(test_set), axis = -1)"
      ],
      "metadata": {
        "id": "h6cs30W_qOkP",
        "colab": {
          "base_uri": "https://localhost:8080/"
        },
        "outputId": "3ecf05a8-31da-4880-98fa-01543a2c98f2"
      },
      "execution_count": 30,
      "outputs": [
        {
          "output_type": "stream",
          "name": "stdout",
          "text": [
            "28/28 [==============================] - 9s 219ms/step\n"
          ]
        }
      ]
    },
    {
      "cell_type": "code",
      "source": [
        "#classification report\n",
        "print(classification_report(test_set.classes,predictions))"
      ],
      "metadata": {
        "id": "5t7Zkcl_qOg9",
        "colab": {
          "base_uri": "https://localhost:8080/"
        },
        "outputId": "b5ad04aa-3e65-4830-c405-45da6fc2cb1e"
      },
      "execution_count": 31,
      "outputs": [
        {
          "output_type": "stream",
          "name": "stdout",
          "text": [
            "              precision    recall  f1-score   support\n",
            "\n",
            "           0       0.83      0.91      0.87       362\n",
            "           1       0.80      0.75      0.77       246\n",
            "           2       0.94      0.91      0.92      1020\n",
            "           3       0.89      0.99      0.94       135\n",
            "\n",
            "    accuracy                           0.89      1763\n",
            "   macro avg       0.86      0.89      0.87      1763\n",
            "weighted avg       0.89      0.89      0.89      1763\n",
            "\n"
          ]
        }
      ]
    },
    {
      "cell_type": "code",
      "source": [
        "# compute the confusion matrix and and use it to derive the raw\n",
        "# accuracy, sensitivity, and specificity\n",
        "cm = confusion_matrix(test_set.classes, predictions)\n",
        "sensitivity = cm[0, 0] / (cm[0, 0] + cm[0, 1])\n",
        "specificity = cm[1, 1] / (cm[1, 0] + cm[1, 1])"
      ],
      "metadata": {
        "id": "DIHRpWCSqOds"
      },
      "execution_count": 32,
      "outputs": []
    },
    {
      "cell_type": "code",
      "source": [
        "import seaborn as sns\n",
        "print(confusion_matrix(test_set.classes,predictions))\n",
        "sns.heatmap(confusion_matrix(test_set.classes,predictions), annot = True)\n",
        "# show the sensitivity, and specificity\n",
        "print(\"sensitivity: {:.4f}\".format(sensitivity))\n",
        "print(\"specificity: {:.4f}\".format(specificity))"
      ],
      "metadata": {
        "id": "QFU6yPtSqlJP",
        "colab": {
          "base_uri": "https://localhost:8080/",
          "height": 369
        },
        "outputId": "5df15fad-c019-48a2-eda7-44efae3c40c0"
      },
      "execution_count": 33,
      "outputs": [
        {
          "output_type": "stream",
          "name": "stdout",
          "text": [
            "[[329   8  24   1]\n",
            " [ 26 184  36   0]\n",
            " [ 41  39 925  15]\n",
            " [  1   0   1 133]]\n",
            "sensitivity: 0.9763\n",
            "specificity: 0.8762\n"
          ]
        },
        {
          "output_type": "display_data",
          "data": {
            "text/plain": [
              "<Figure size 432x288 with 2 Axes>"
            ],
            "image/png": "[encoded data removed]"
          },
          "metadata": {
            "needs_background": "light"
          }
        }
      ]
    },
    {
      "cell_type": "code",
      "execution_count": 34,
      "metadata": {
        "id": "8w_awKBLKs87"
      },
      "outputs": [],
      "source": [
        "from numpy import sqrt"
      ]
    },
    {
      "cell_type": "code",
      "execution_count": 35,
      "metadata": {
        "id": "wf4wnko9AWls",
        "colab": {
          "base_uri": "https://localhost:8080/"
        },
        "outputId": "81916d29-2b3c-45c3-bfb5-68c27ac95041"
      },
      "outputs": [
        {
          "output_type": "stream",
          "name": "stdout",
          "text": [
            "G_Mean:  0.9248733439098433\n"
          ]
        }
      ],
      "source": [
        "G_Mean = sqrt(sensitivity * specificity)\n",
        "print(\"G_Mean: \", G_Mean)"
      ]
    },
    {
      "cell_type": "code",
      "execution_count": 36,
      "metadata": {
        "id": "o_G1i4iLBe4t"
      },
      "outputs": [],
      "source": [
        "True_Positive_Rate = cm[0, 0] / (cm[0, 0] + cm[0, 1])\n",
        "False_Positive_Rate = cm[1, 0] / (cm[1, 0] + cm[1, 1])"
      ]
    },
    {
      "cell_type": "code",
      "execution_count": 37,
      "metadata": {
        "id": "_YzMjnD2CAy9",
        "colab": {
          "base_uri": "https://localhost:8080/"
        },
        "outputId": "8024120a-11c8-4574-9b30-82a53e847e74"
      },
      "outputs": [
        {
          "output_type": "stream",
          "name": "stdout",
          "text": [
            "True_Positive_Rate: 0.9763\n",
            "False_Positive_Rate: 0.1238\n"
          ]
        }
      ],
      "source": [
        "print(\"True_Positive_Rate: {:.4f}\".format(True_Positive_Rate))\n",
        "print(\"False_Positive_Rate: {:.4f}\".format(False_Positive_Rate))"
      ]
    },
    {
      "cell_type": "markdown",
      "metadata": {
        "id": "G0r3QSYWgJIz"
      },
      "source": [
        "# **ROC**"
      ]
    },
    {
      "cell_type": "code",
      "execution_count": 38,
      "metadata": {
        "id": "4oMXTGIIyMRL",
        "colab": {
          "base_uri": "https://localhost:8080/"
        },
        "outputId": "a5624e7c-4d55-4da9-9059-d47bc4fcac5b"
      },
      "outputs": [
        {
          "output_type": "stream",
          "name": "stdout",
          "text": [
            "<keras.preprocessing.image.DirectoryIterator object at 0x7f947149bfd0>\n",
            "[0 0 0 ... 3 3 3]\n"
          ]
        }
      ],
      "source": [
        "print(test_set)\n",
        "print(predictions)"
      ]
    },
    {
      "cell_type": "code",
      "execution_count": 39,
      "metadata": {
        "id": "OqXtMjgLCxg1",
        "colab": {
          "base_uri": "https://localhost:8080/"
        },
        "outputId": "c727812e-0399-49b6-c18d-e2f3b767491a"
      },
      "outputs": [
        {
          "output_type": "stream",
          "name": "stdout",
          "text": [
            "(1763, 4)\n"
          ]
        }
      ],
      "source": [
        "testsetTo = np.concatenate([test_set.next()[1] for i in range(test_set.__len__())])\n",
        "print(testsetTo.shape)"
      ]
    },
    {
      "cell_type": "code",
      "execution_count": 40,
      "metadata": {
        "id": "fVtTlUa7SivZ"
      },
      "outputs": [],
      "source": [
        "from scipy import interp\n",
        "import matplotlib.pyplot as plt\n",
        "from sklearn.metrics import roc_curve, auc"
      ]
    },
    {
      "cell_type": "code",
      "execution_count": 41,
      "metadata": {
        "id": "ewnd0Mor2ixG"
      },
      "outputs": [],
      "source": [
        "#ROC-AUC Curve\n",
        "# Learn to predict each class against the other\n",
        "n_classes = 4 \n",
        "# Compute ROC curve and ROC area for each class\n",
        "fpr = dict()\n",
        "tpr = dict()\n",
        "thresh = dict()\n",
        "roc_auc = dict()\n",
        "lw = 2 \n",
        "for i in range(n_classes):\n",
        "    fpr[i], tpr[i], thresh[i] = roc_curve(np.argmax(testsetTo, axis=1), predictions, pos_label=i)\n",
        "    roc_auc[i] = auc(fpr[i], tpr[i])"
      ]
    },
    {
      "cell_type": "code",
      "execution_count": 42,
      "metadata": {
        "id": "gVgL6uwboEUn"
      },
      "outputs": [],
      "source": [
        "# Compute micro-average ROC curve and ROC area\n",
        "fpr[\"micro\"], tpr[\"micro\"], thresh[i] = roc_curve(np.argmax(testsetTo, axis=1), predictions, pos_label=i) \n",
        "roc_auc[\"micro\"] = auc(fpr[\"micro\"], tpr[\"micro\"])"
      ]
    },
    {
      "cell_type": "code",
      "execution_count": 43,
      "metadata": {
        "id": "sHDd3VDr8lkm",
        "colab": {
          "base_uri": "https://localhost:8080/",
          "height": 350
        },
        "outputId": "279e6c27-66a4-47d7-a207-06eaeb74ebb7"
      },
      "outputs": [
        {
          "output_type": "stream",
          "name": "stderr",
          "text": [
            "/usr/local/lib/python3.7/dist-packages/ipykernel_launcher.py:11: DeprecationWarning: scipy.interp is deprecated and will be removed in SciPy 2.0.0, use numpy.interp instead\n",
            "  # This is added back by InteractiveShellApp.init_path()\n"
          ]
        },
        {
          "output_type": "display_data",
          "data": {
            "text/plain": [
              "<Figure size 432x288 with 1 Axes>"
            ],
            "image/png": "[encoded data removed]"
          },
          "metadata": {
            "needs_background": "light"
          }
        }
      ],
      "source": [
        "# Process of plotting roc-auc curve belonging to all classes.\n",
        "\n",
        "from itertools import cycle\n",
        "roc_auc_scores = []\n",
        "# First aggregate all false positive rates\n",
        "all_fpr = np.unique(np.concatenate([fpr[i] for i in range(n_classes)]))\n",
        "\n",
        "# Then interpolate all ROC curves at this points\n",
        "mean_tpr = np.zeros_like(all_fpr)\n",
        "for i in range(n_classes):\n",
        "    mean_tpr += interp(all_fpr, fpr[i], tpr[i])\n",
        "\n",
        "# Finally average it and compute AUC\n",
        "mean_tpr /= n_classes\n",
        "\n",
        "fpr[\"macro\"] = all_fpr\n",
        "tpr[\"macro\"] = mean_tpr\n",
        "roc_auc[\"macro\"] = auc(fpr[\"macro\"], tpr[\"macro\"])\n",
        "\n",
        "# Plot all ROC curves\n",
        "plt.figure()\n",
        "plt.plot(fpr[\"micro\"], tpr[\"micro\"],\n",
        "         label='micro-average ROC curve (area = {0:0.2f})'\n",
        "               ''.format(roc_auc[\"micro\"]),\n",
        "         color='deeppink', linestyle=':', linewidth=4)\n",
        "\n",
        "plt.plot(fpr[\"macro\"], tpr[\"macro\"],\n",
        "         label='macro-average ROC curve (area = {0:0.2f})'\n",
        "               ''.format(roc_auc[\"macro\"]),\n",
        "         color='navy', linestyle=':', linewidth=4)\n",
        "\n",
        "colors = cycle(['red', 'darkorange', 'cornflowerblue', 'aqua'])\n",
        "for i, color in zip(range(n_classes), colors):\n",
        "    plt.plot(fpr[i], tpr[i], color=color, lw=lw,\n",
        "             label='ROC curve of class {0} (area = {1:0.2f})'\n",
        "             ''.format(i, roc_auc[i]))\n",
        "    roc_auc_scores.append(roc_auc[i])\n",
        "\n",
        "plt.plot([0, 1], [0, 1], 'k--', lw=lw)\n",
        "plt.xlim([0.0, 1.0])\n",
        "plt.ylim([0.0, 1.05])\n",
        "plt.xlabel('False Positive Rate')\n",
        "plt.ylabel('True Positive Rate')\n",
        "plt.title('ROC Curve to each class')\n",
        "plt.legend(loc=\"lower right\")\n",
        "plt.show()"
      ]
    }
  ]
}